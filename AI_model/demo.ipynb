{
 "cells": [
  {
   "cell_type": "code",
   "execution_count": 1,
   "id": "4e7b2fd0-44e9-4f63-b3eb-7b78bb9081f3",
   "metadata": {},
   "outputs": [
    {
     "name": "stdout",
     "output_type": "stream",
     "text": [
      "'capston_test.zip'의 파일이 'capston'에 성공적으로 압축 해제되었습니다.\n"
     ]
    }
   ],
   "source": [
    "import zipfile\n",
    "import os\n",
    "\n",
    "# 풀 zip 파일 경로 설정\n",
    "zip_file_path = 'capston_test.zip'  # 압축 해제할 zip 파일 경로\n",
    "extract_to_path = 'capston'  # 압축 해제할 디렉터리 경로\n",
    "\n",
    "# 디렉터리가 없는 경우 생성\n",
    "if not os.path.exists(extract_to_path):\n",
    "    os.makedirs(extract_to_path)\n",
    "\n",
    "# zip 파일 열기 및 압축 해제\n",
    "with zipfile.ZipFile(zip_file_path, 'r') as zip_ref:\n",
    "    zip_ref.extractall(extract_to_path)\n",
    "\n",
    "print(f\"'{zip_file_path}'의 파일이 '{extract_to_path}'에 성공적으로 압축 해제되었습니다.\")"
   ]
  },
  {
   "cell_type": "code",
   "execution_count": 1,
   "id": "ada984c2-796c-4dc9-b73b-0f84ed5a8926",
   "metadata": {},
   "outputs": [
    {
     "name": "stdout",
     "output_type": "stream",
     "text": [
      "True\n",
      "True\n",
      "True\n"
     ]
    }
   ],
   "source": [
    "#C:\\Users\\park\\융합캡스톤디자인2\\capston\\capston_test\\smoking_beer\\Dataset\\train\\images\n",
    "import os\n",
    "print(os.path.exists(\"C:/Users/park/융합캡스톤디자인2/capston/capston_test/smoking_beer/Dataset/train/images\"))  # True여야 함\n",
    "print(os.path.exists(\"C:/Users/park/융합캡스톤디자인2/capston/capston_test/smoking_beer/Dataset/valid/images\"))    # True여야 함\n",
    "print(os.path.exists(\"C:/Users/park/융합캡스톤디자인2/capston/capston_test/smoking_beer/Dataset/test/images\"))   # True여야 함"
   ]
  },
  {
   "cell_type": "code",
   "execution_count": 2,
   "id": "73acb5a7-a30e-4bb5-9fec-47d05a2e6cb5",
   "metadata": {},
   "outputs": [
    {
     "name": "stdout",
     "output_type": "stream",
     "text": [
      "data.yaml 파일이 존재합니다.\n"
     ]
    }
   ],
   "source": [
    "# data.yaml 파일 경로 지정\n",
    "data_path = \"C:/Users/park/융합캡스톤디자인2/capston/capston_test/smoking_beer/Dataset/data.yaml\"\n",
    "\n",
    "# 파일 존재 여부 확인\n",
    "if os.path.exists(data_path):\n",
    "    print(\"data.yaml 파일이 존재합니다.\")\n",
    "else:\n",
    "    print(\"data.yaml 파일이 존재하지 않습니다. 경로를 다시 확인하세요.\")"
   ]
  },
  {
   "cell_type": "code",
   "execution_count": 3,
   "id": "452800d5-e175-486a-af57-edcd38354132",
   "metadata": {},
   "outputs": [
    {
     "name": "stdout",
     "output_type": "stream",
     "text": [
      "Ultralytics 8.3.27  Python-3.12.4 torch-2.4.1+cpu CPU (Intel Xeon E5-2680 v2 2.80GHz)\n",
      "Setup complete  (20 CPUs, 63.9 GB RAM, 407.3/930.8 GB disk)\n"
     ]
    }
   ],
   "source": [
    "from ultralytics import YOLO\n",
    "import ultralytics\n",
    "ultralytics.checks()"
   ]
  },
  {
   "cell_type": "code",
   "execution_count": 4,
   "id": "e746fb45-e9ef-463f-88e0-eadb34d681ba",
   "metadata": {
    "scrolled": true
   },
   "outputs": [
    {
     "name": "stdout",
     "output_type": "stream",
     "text": [
      "New https://pypi.org/project/ultralytics/8.3.33 available  Update with 'pip install -U ultralytics'\n",
      "Ultralytics 8.3.27  Python-3.12.4 torch-2.4.1+cpu CPU (Intel Xeon E5-2680 v2 2.80GHz)\n",
      "\u001b[34m\u001b[1mengine\\trainer: \u001b[0mtask=detect, mode=train, model=yolov8n.pt, data=C:/Users/park/2/capston/capston_test/smoking_beer/Dataset/data.yaml, epochs=80, time=None, patience=100, batch=16, imgsz=640, save=True, save_period=-1, cache=False, device=None, workers=8, project=None, name=train4, exist_ok=False, pretrained=True, optimizer=auto, verbose=True, seed=0, deterministic=True, single_cls=False, rect=False, cos_lr=False, close_mosaic=10, resume=False, amp=True, fraction=1.0, profile=False, freeze=None, multi_scale=False, overlap_mask=True, mask_ratio=4, dropout=0.0, val=True, split=val, save_json=False, save_hybrid=False, conf=None, iou=0.7, max_det=300, half=False, dnn=False, plots=True, source=None, vid_stride=1, stream_buffer=False, visualize=False, augment=False, agnostic_nms=False, classes=None, retina_masks=False, embed=None, show=False, save_frames=False, save_txt=False, save_conf=False, save_crop=False, show_labels=True, show_conf=True, show_boxes=True, line_width=None, format=torchscript, keras=False, optimize=False, int8=False, dynamic=False, simplify=True, opset=None, workspace=4, nms=False, lr0=0.01, lrf=0.01, momentum=0.937, weight_decay=0.0005, warmup_epochs=3.0, warmup_momentum=0.8, warmup_bias_lr=0.1, box=7.5, cls=0.5, dfl=1.5, pose=12.0, kobj=1.0, label_smoothing=0.0, nbs=64, hsv_h=0.015, hsv_s=0.7, hsv_v=0.4, degrees=0.0, translate=0.1, scale=0.5, shear=0.0, perspective=0.0, flipud=0.0, fliplr=0.5, bgr=0.0, mosaic=1.0, mixup=0.0, copy_paste=0.0, copy_paste_mode=flip, auto_augment=randaugment, erasing=0.4, crop_fraction=1.0, cfg=None, tracker=botsort.yaml, save_dir=runs\\detect\\train4\n",
      "Overriding model.yaml nc=80 with nc=2\n",
      "\n",
      "                   from  n    params  module                                       arguments                     \n",
      "  0                  -1  1       464  ultralytics.nn.modules.conv.Conv             [3, 16, 3, 2]                 \n",
      "  1                  -1  1      4672  ultralytics.nn.modules.conv.Conv             [16, 32, 3, 2]                \n",
      "  2                  -1  1      7360  ultralytics.nn.modules.block.C2f             [32, 32, 1, True]             \n",
      "  3                  -1  1     18560  ultralytics.nn.modules.conv.Conv             [32, 64, 3, 2]                \n",
      "  4                  -1  2     49664  ultralytics.nn.modules.block.C2f             [64, 64, 2, True]             \n",
      "  5                  -1  1     73984  ultralytics.nn.modules.conv.Conv             [64, 128, 3, 2]               \n",
      "  6                  -1  2    197632  ultralytics.nn.modules.block.C2f             [128, 128, 2, True]           \n",
      "  7                  -1  1    295424  ultralytics.nn.modules.conv.Conv             [128, 256, 3, 2]              \n",
      "  8                  -1  1    460288  ultralytics.nn.modules.block.C2f             [256, 256, 1, True]           \n",
      "  9                  -1  1    164608  ultralytics.nn.modules.block.SPPF            [256, 256, 5]                 \n",
      " 10                  -1  1         0  torch.nn.modules.upsampling.Upsample         [None, 2, 'nearest']          \n",
      " 11             [-1, 6]  1         0  ultralytics.nn.modules.conv.Concat           [1]                           \n",
      " 12                  -1  1    148224  ultralytics.nn.modules.block.C2f             [384, 128, 1]                 \n",
      " 13                  -1  1         0  torch.nn.modules.upsampling.Upsample         [None, 2, 'nearest']          \n",
      " 14             [-1, 4]  1         0  ultralytics.nn.modules.conv.Concat           [1]                           \n",
      " 15                  -1  1     37248  ultralytics.nn.modules.block.C2f             [192, 64, 1]                  \n",
      " 16                  -1  1     36992  ultralytics.nn.modules.conv.Conv             [64, 64, 3, 2]                \n",
      " 17            [-1, 12]  1         0  ultralytics.nn.modules.conv.Concat           [1]                           \n",
      " 18                  -1  1    123648  ultralytics.nn.modules.block.C2f             [192, 128, 1]                 \n",
      " 19                  -1  1    147712  ultralytics.nn.modules.conv.Conv             [128, 128, 3, 2]              \n",
      " 20             [-1, 9]  1         0  ultralytics.nn.modules.conv.Concat           [1]                           \n",
      " 21                  -1  1    493056  ultralytics.nn.modules.block.C2f             [384, 256, 1]                 \n",
      " 22        [15, 18, 21]  1    751702  ultralytics.nn.modules.head.Detect           [2, [64, 128, 256]]           \n",
      "Model summary: 225 layers, 3,011,238 parameters, 3,011,222 gradients, 8.2 GFLOPs\n",
      "\n",
      "Transferred 319/355 items from pretrained weights\n",
      "Freezing layer 'model.22.dfl.conv.weight'\n"
     ]
    },
    {
     "name": "stderr",
     "output_type": "stream",
     "text": [
      "\u001b[34m\u001b[1mtrain: \u001b[0mScanning C:\\Users\\park\\융합캡스톤디자인2\\capston\\capston_test\\smoking_beer\\Dataset\\train\\labels.cache... 725 ima\u001b[0m\n",
      "\u001b[34m\u001b[1mval: \u001b[0mScanning C:\\Users\\park\\융합캡스톤디자인2\\capston\\capston_test\\smoking_beer\\Dataset\\valid\\labels.cache... 155 image\u001b[0m\n"
     ]
    },
    {
     "name": "stdout",
     "output_type": "stream",
     "text": [
      "Plotting labels to runs\\detect\\train4\\labels.jpg... \n",
      "\u001b[34m\u001b[1moptimizer:\u001b[0m 'optimizer=auto' found, ignoring 'lr0=0.01' and 'momentum=0.937' and determining best 'optimizer', 'lr0' and 'momentum' automatically... \n",
      "\u001b[34m\u001b[1moptimizer:\u001b[0m AdamW(lr=0.001667, momentum=0.9) with parameter groups 57 weight(decay=0.0), 64 weight(decay=0.0005), 63 bias(decay=0.0)\n",
      "Image sizes 640 train, 640 val\n",
      "Using 0 dataloader workers\n",
      "Logging results to \u001b[1mruns\\detect\\train4\u001b[0m\n",
      "Starting training for 80 epochs...\n",
      "\n",
      "      Epoch    GPU_mem   box_loss   cls_loss   dfl_loss  Instances       Size\n"
     ]
    },
    {
     "name": "stderr",
     "output_type": "stream",
     "text": [
      "       1/80         0G      1.152      2.453      1.327         10        640: 100%|██████████| 46/46 [04:15<00:00,  5.\n",
      "                 Class     Images  Instances      Box(P          R      mAP50  mAP50-95): 100%|██████████| 5/5 [00:23<0"
     ]
    },
    {
     "name": "stdout",
     "output_type": "stream",
     "text": [
      "                   all        155        216      0.916      0.149      0.313      0.211\n"
     ]
    },
    {
     "name": "stderr",
     "output_type": "stream",
     "text": [
      "\n"
     ]
    },
    {
     "name": "stdout",
     "output_type": "stream",
     "text": [
      "\n",
      "      Epoch    GPU_mem   box_loss   cls_loss   dfl_loss  Instances       Size\n"
     ]
    },
    {
     "name": "stderr",
     "output_type": "stream",
     "text": [
      "       2/80         0G      1.299      2.172      1.381         11        640: 100%|██████████| 46/46 [04:10<00:00,  5.\n",
      "                 Class     Images  Instances      Box(P          R      mAP50  mAP50-95): 100%|██████████| 5/5 [00:26<0"
     ]
    },
    {
     "name": "stdout",
     "output_type": "stream",
     "text": [
      "                   all        155        216      0.699      0.215      0.247      0.121\n"
     ]
    },
    {
     "name": "stderr",
     "output_type": "stream",
     "text": [
      "\n"
     ]
    },
    {
     "name": "stdout",
     "output_type": "stream",
     "text": [
      "\n",
      "      Epoch    GPU_mem   box_loss   cls_loss   dfl_loss  Instances       Size\n"
     ]
    },
    {
     "name": "stderr",
     "output_type": "stream",
     "text": [
      "       3/80         0G      1.371      2.073      1.472         20        640: 100%|██████████| 46/46 [06:07<00:00,  7.\n",
      "                 Class     Images  Instances      Box(P          R      mAP50  mAP50-95): 100%|██████████| 5/5 [00:29<0"
     ]
    },
    {
     "name": "stdout",
     "output_type": "stream",
     "text": [
      "                   all        155        216      0.457      0.401      0.325       0.16\n"
     ]
    },
    {
     "name": "stderr",
     "output_type": "stream",
     "text": [
      "\n"
     ]
    },
    {
     "name": "stdout",
     "output_type": "stream",
     "text": [
      "\n",
      "      Epoch    GPU_mem   box_loss   cls_loss   dfl_loss  Instances       Size\n"
     ]
    },
    {
     "name": "stderr",
     "output_type": "stream",
     "text": [
      "       4/80         0G        1.4      2.014      1.506         11        640: 100%|██████████| 46/46 [04:13<00:00,  5.\n",
      "                 Class     Images  Instances      Box(P          R      mAP50  mAP50-95): 100%|██████████| 5/5 [00:16<0"
     ]
    },
    {
     "name": "stdout",
     "output_type": "stream",
     "text": [
      "                   all        155        216      0.428      0.239      0.236      0.109\n"
     ]
    },
    {
     "name": "stderr",
     "output_type": "stream",
     "text": [
      "\n"
     ]
    },
    {
     "name": "stdout",
     "output_type": "stream",
     "text": [
      "\n",
      "      Epoch    GPU_mem   box_loss   cls_loss   dfl_loss  Instances       Size\n"
     ]
    },
    {
     "name": "stderr",
     "output_type": "stream",
     "text": [
      "       5/80         0G      1.389      1.852      1.458          8        640: 100%|██████████| 46/46 [04:05<00:00,  5.\n",
      "                 Class     Images  Instances      Box(P          R      mAP50  mAP50-95): 100%|██████████| 5/5 [00:16<0"
     ]
    },
    {
     "name": "stdout",
     "output_type": "stream",
     "text": [
      "                   all        155        216      0.509      0.257      0.236      0.115\n"
     ]
    },
    {
     "name": "stderr",
     "output_type": "stream",
     "text": [
      "\n"
     ]
    },
    {
     "name": "stdout",
     "output_type": "stream",
     "text": [
      "\n",
      "      Epoch    GPU_mem   box_loss   cls_loss   dfl_loss  Instances       Size\n"
     ]
    },
    {
     "name": "stderr",
     "output_type": "stream",
     "text": [
      "       6/80         0G      1.422      1.758      1.492         19        640: 100%|██████████| 46/46 [04:04<00:00,  5.\n",
      "                 Class     Images  Instances      Box(P          R      mAP50  mAP50-95): 100%|██████████| 5/5 [00:16<0"
     ]
    },
    {
     "name": "stdout",
     "output_type": "stream",
     "text": [
      "                   all        155        216      0.332      0.354      0.298      0.188\n"
     ]
    },
    {
     "name": "stderr",
     "output_type": "stream",
     "text": [
      "\n"
     ]
    },
    {
     "name": "stdout",
     "output_type": "stream",
     "text": [
      "\n",
      "      Epoch    GPU_mem   box_loss   cls_loss   dfl_loss  Instances       Size\n"
     ]
    },
    {
     "name": "stderr",
     "output_type": "stream",
     "text": [
      "       7/80         0G      1.372      1.711      1.432         12        640: 100%|██████████| 46/46 [04:02<00:00,  5.\n",
      "                 Class     Images  Instances      Box(P          R      mAP50  mAP50-95): 100%|██████████| 5/5 [00:16<0"
     ]
    },
    {
     "name": "stdout",
     "output_type": "stream",
     "text": [
      "                   all        155        216      0.494      0.386      0.363      0.181\n"
     ]
    },
    {
     "name": "stderr",
     "output_type": "stream",
     "text": [
      "\n"
     ]
    },
    {
     "name": "stdout",
     "output_type": "stream",
     "text": [
      "\n",
      "      Epoch    GPU_mem   box_loss   cls_loss   dfl_loss  Instances       Size\n"
     ]
    },
    {
     "name": "stderr",
     "output_type": "stream",
     "text": [
      "       8/80         0G      1.315      1.532      1.422         21        640: 100%|██████████| 46/46 [04:04<00:00,  5.\n",
      "                 Class     Images  Instances      Box(P          R      mAP50  mAP50-95): 100%|██████████| 5/5 [00:16<0"
     ]
    },
    {
     "name": "stdout",
     "output_type": "stream",
     "text": [
      "                   all        155        216       0.66      0.491      0.533       0.32\n"
     ]
    },
    {
     "name": "stderr",
     "output_type": "stream",
     "text": [
      "\n"
     ]
    },
    {
     "name": "stdout",
     "output_type": "stream",
     "text": [
      "\n",
      "      Epoch    GPU_mem   box_loss   cls_loss   dfl_loss  Instances       Size\n"
     ]
    },
    {
     "name": "stderr",
     "output_type": "stream",
     "text": [
      "       9/80         0G      1.271      1.503      1.399         20        640: 100%|██████████| 46/46 [04:05<00:00,  5.\n",
      "                 Class     Images  Instances      Box(P          R      mAP50  mAP50-95): 100%|██████████| 5/5 [00:16<0"
     ]
    },
    {
     "name": "stdout",
     "output_type": "stream",
     "text": [
      "                   all        155        216      0.554      0.396      0.425      0.247\n"
     ]
    },
    {
     "name": "stderr",
     "output_type": "stream",
     "text": [
      "\n"
     ]
    },
    {
     "name": "stdout",
     "output_type": "stream",
     "text": [
      "\n",
      "      Epoch    GPU_mem   box_loss   cls_loss   dfl_loss  Instances       Size\n"
     ]
    },
    {
     "name": "stderr",
     "output_type": "stream",
     "text": [
      "      10/80         0G      1.259      1.483      1.387         11        640: 100%|██████████| 46/46 [04:03<00:00,  5.\n",
      "                 Class     Images  Instances      Box(P          R      mAP50  mAP50-95): 100%|██████████| 5/5 [00:15<0"
     ]
    },
    {
     "name": "stdout",
     "output_type": "stream",
     "text": [
      "                   all        155        216      0.638      0.479      0.502      0.313\n"
     ]
    },
    {
     "name": "stderr",
     "output_type": "stream",
     "text": [
      "\n"
     ]
    },
    {
     "name": "stdout",
     "output_type": "stream",
     "text": [
      "\n",
      "      Epoch    GPU_mem   box_loss   cls_loss   dfl_loss  Instances       Size\n"
     ]
    },
    {
     "name": "stderr",
     "output_type": "stream",
     "text": [
      "      11/80         0G      1.265      1.402      1.356         10        640: 100%|██████████| 46/46 [04:05<00:00,  5.\n",
      "                 Class     Images  Instances      Box(P          R      mAP50  mAP50-95): 100%|██████████| 5/5 [00:15<0"
     ]
    },
    {
     "name": "stdout",
     "output_type": "stream",
     "text": [
      "                   all        155        216      0.604      0.361       0.39      0.241\n"
     ]
    },
    {
     "name": "stderr",
     "output_type": "stream",
     "text": [
      "\n"
     ]
    },
    {
     "name": "stdout",
     "output_type": "stream",
     "text": [
      "\n",
      "      Epoch    GPU_mem   box_loss   cls_loss   dfl_loss  Instances       Size\n"
     ]
    },
    {
     "name": "stderr",
     "output_type": "stream",
     "text": [
      "      12/80         0G      1.228        1.4      1.369         11        640: 100%|██████████| 46/46 [04:05<00:00,  5.\n",
      "                 Class     Images  Instances      Box(P          R      mAP50  mAP50-95): 100%|██████████| 5/5 [00:15<0"
     ]
    },
    {
     "name": "stdout",
     "output_type": "stream",
     "text": [
      "                   all        155        216      0.686      0.525      0.564      0.334\n"
     ]
    },
    {
     "name": "stderr",
     "output_type": "stream",
     "text": [
      "\n"
     ]
    },
    {
     "name": "stdout",
     "output_type": "stream",
     "text": [
      "\n",
      "      Epoch    GPU_mem   box_loss   cls_loss   dfl_loss  Instances       Size\n"
     ]
    },
    {
     "name": "stderr",
     "output_type": "stream",
     "text": [
      "      13/80         0G      1.213      1.375      1.346         10        640: 100%|██████████| 46/46 [04:08<00:00,  5.\n",
      "                 Class     Images  Instances      Box(P          R      mAP50  mAP50-95): 100%|██████████| 5/5 [00:16<0"
     ]
    },
    {
     "name": "stdout",
     "output_type": "stream",
     "text": [
      "                   all        155        216       0.66      0.562      0.579      0.357\n"
     ]
    },
    {
     "name": "stderr",
     "output_type": "stream",
     "text": [
      "\n"
     ]
    },
    {
     "name": "stdout",
     "output_type": "stream",
     "text": [
      "\n",
      "      Epoch    GPU_mem   box_loss   cls_loss   dfl_loss  Instances       Size\n"
     ]
    },
    {
     "name": "stderr",
     "output_type": "stream",
     "text": [
      "      14/80         0G      1.204       1.29      1.358          8        640: 100%|██████████| 46/46 [04:11<00:00,  5.\n",
      "                 Class     Images  Instances      Box(P          R      mAP50  mAP50-95): 100%|██████████| 5/5 [00:16<0"
     ]
    },
    {
     "name": "stdout",
     "output_type": "stream",
     "text": [
      "                   all        155        216       0.73      0.537      0.608      0.376\n"
     ]
    },
    {
     "name": "stderr",
     "output_type": "stream",
     "text": [
      "\n"
     ]
    },
    {
     "name": "stdout",
     "output_type": "stream",
     "text": [
      "\n",
      "      Epoch    GPU_mem   box_loss   cls_loss   dfl_loss  Instances       Size\n"
     ]
    },
    {
     "name": "stderr",
     "output_type": "stream",
     "text": [
      "      15/80         0G      1.197      1.287      1.325         15        640: 100%|██████████| 46/46 [04:24<00:00,  5.\n",
      "                 Class     Images  Instances      Box(P          R      mAP50  mAP50-95): 100%|██████████| 5/5 [00:22<0"
     ]
    },
    {
     "name": "stdout",
     "output_type": "stream",
     "text": [
      "                   all        155        216      0.617       0.57      0.599      0.375\n"
     ]
    },
    {
     "name": "stderr",
     "output_type": "stream",
     "text": [
      "\n"
     ]
    },
    {
     "name": "stdout",
     "output_type": "stream",
     "text": [
      "\n",
      "      Epoch    GPU_mem   box_loss   cls_loss   dfl_loss  Instances       Size\n"
     ]
    },
    {
     "name": "stderr",
     "output_type": "stream",
     "text": [
      "      16/80         0G      1.173      1.252      1.323         13        640: 100%|██████████| 46/46 [04:26<00:00,  5.\n",
      "                 Class     Images  Instances      Box(P          R      mAP50  mAP50-95): 100%|██████████| 5/5 [00:18<0"
     ]
    },
    {
     "name": "stdout",
     "output_type": "stream",
     "text": [
      "                   all        155        216      0.584      0.593      0.569      0.391\n"
     ]
    },
    {
     "name": "stderr",
     "output_type": "stream",
     "text": [
      "\n"
     ]
    },
    {
     "name": "stdout",
     "output_type": "stream",
     "text": [
      "\n",
      "      Epoch    GPU_mem   box_loss   cls_loss   dfl_loss  Instances       Size\n"
     ]
    },
    {
     "name": "stderr",
     "output_type": "stream",
     "text": [
      "      17/80         0G      1.117      1.198      1.285         17        640: 100%|██████████| 46/46 [04:07<00:00,  5.\n",
      "                 Class     Images  Instances      Box(P          R      mAP50  mAP50-95): 100%|██████████| 5/5 [00:16<0"
     ]
    },
    {
     "name": "stdout",
     "output_type": "stream",
     "text": [
      "                   all        155        216      0.575       0.56      0.542      0.333\n"
     ]
    },
    {
     "name": "stderr",
     "output_type": "stream",
     "text": [
      "\n"
     ]
    },
    {
     "name": "stdout",
     "output_type": "stream",
     "text": [
      "\n",
      "      Epoch    GPU_mem   box_loss   cls_loss   dfl_loss  Instances       Size\n"
     ]
    },
    {
     "name": "stderr",
     "output_type": "stream",
     "text": [
      "      18/80         0G      1.185      1.268      1.309          5        640: 100%|██████████| 46/46 [04:06<00:00,  5.\n",
      "                 Class     Images  Instances      Box(P          R      mAP50  mAP50-95): 100%|██████████| 5/5 [00:15<0"
     ]
    },
    {
     "name": "stdout",
     "output_type": "stream",
     "text": [
      "                   all        155        216      0.506      0.577      0.593      0.395\n"
     ]
    },
    {
     "name": "stderr",
     "output_type": "stream",
     "text": [
      "\n"
     ]
    },
    {
     "name": "stdout",
     "output_type": "stream",
     "text": [
      "\n",
      "      Epoch    GPU_mem   box_loss   cls_loss   dfl_loss  Instances       Size\n"
     ]
    },
    {
     "name": "stderr",
     "output_type": "stream",
     "text": [
      "      19/80         0G      1.139      1.227      1.309         25        640: 100%|██████████| 46/46 [04:06<00:00,  5.\n",
      "                 Class     Images  Instances      Box(P          R      mAP50  mAP50-95): 100%|██████████| 5/5 [00:15<0"
     ]
    },
    {
     "name": "stdout",
     "output_type": "stream",
     "text": [
      "                   all        155        216      0.627      0.572      0.611      0.401\n"
     ]
    },
    {
     "name": "stderr",
     "output_type": "stream",
     "text": [
      "\n"
     ]
    },
    {
     "name": "stdout",
     "output_type": "stream",
     "text": [
      "\n",
      "      Epoch    GPU_mem   box_loss   cls_loss   dfl_loss  Instances       Size\n"
     ]
    },
    {
     "name": "stderr",
     "output_type": "stream",
     "text": [
      "      20/80         0G      1.157      1.228      1.322         14        640: 100%|██████████| 46/46 [04:06<00:00,  5.\n",
      "                 Class     Images  Instances      Box(P          R      mAP50  mAP50-95): 100%|██████████| 5/5 [00:16<0"
     ]
    },
    {
     "name": "stdout",
     "output_type": "stream",
     "text": [
      "                   all        155        216      0.715      0.582      0.635      0.412\n"
     ]
    },
    {
     "name": "stderr",
     "output_type": "stream",
     "text": [
      "\n"
     ]
    },
    {
     "name": "stdout",
     "output_type": "stream",
     "text": [
      "\n",
      "      Epoch    GPU_mem   box_loss   cls_loss   dfl_loss  Instances       Size\n"
     ]
    },
    {
     "name": "stderr",
     "output_type": "stream",
     "text": [
      "      21/80         0G      1.087      1.124      1.275          8        640: 100%|██████████| 46/46 [04:04<00:00,  5.\n",
      "                 Class     Images  Instances      Box(P          R      mAP50  mAP50-95): 100%|██████████| 5/5 [00:16<0"
     ]
    },
    {
     "name": "stdout",
     "output_type": "stream",
     "text": [
      "                   all        155        216      0.603      0.572      0.585      0.388\n"
     ]
    },
    {
     "name": "stderr",
     "output_type": "stream",
     "text": [
      "\n"
     ]
    },
    {
     "name": "stdout",
     "output_type": "stream",
     "text": [
      "\n",
      "      Epoch    GPU_mem   box_loss   cls_loss   dfl_loss  Instances       Size\n"
     ]
    },
    {
     "name": "stderr",
     "output_type": "stream",
     "text": [
      "      22/80         0G      1.087      1.122      1.265         14        640: 100%|██████████| 46/46 [04:05<00:00,  5.\n",
      "                 Class     Images  Instances      Box(P          R      mAP50  mAP50-95): 100%|██████████| 5/5 [00:16<0"
     ]
    },
    {
     "name": "stdout",
     "output_type": "stream",
     "text": [
      "                   all        155        216       0.76      0.595      0.651      0.425\n"
     ]
    },
    {
     "name": "stderr",
     "output_type": "stream",
     "text": [
      "\n"
     ]
    },
    {
     "name": "stdout",
     "output_type": "stream",
     "text": [
      "\n",
      "      Epoch    GPU_mem   box_loss   cls_loss   dfl_loss  Instances       Size\n"
     ]
    },
    {
     "name": "stderr",
     "output_type": "stream",
     "text": [
      "      23/80         0G      1.087      1.189      1.284          6        640: 100%|██████████| 46/46 [04:05<00:00,  5.\n",
      "                 Class     Images  Instances      Box(P          R      mAP50  mAP50-95): 100%|██████████| 5/5 [00:16<0"
     ]
    },
    {
     "name": "stdout",
     "output_type": "stream",
     "text": [
      "                   all        155        216      0.712      0.638      0.663      0.442\n"
     ]
    },
    {
     "name": "stderr",
     "output_type": "stream",
     "text": [
      "\n"
     ]
    },
    {
     "name": "stdout",
     "output_type": "stream",
     "text": [
      "\n",
      "      Epoch    GPU_mem   box_loss   cls_loss   dfl_loss  Instances       Size\n"
     ]
    },
    {
     "name": "stderr",
     "output_type": "stream",
     "text": [
      "      24/80         0G      1.062      1.081      1.238         12        640: 100%|██████████| 46/46 [04:03<00:00,  5.\n",
      "                 Class     Images  Instances      Box(P          R      mAP50  mAP50-95): 100%|██████████| 5/5 [00:16<0"
     ]
    },
    {
     "name": "stdout",
     "output_type": "stream",
     "text": [
      "                   all        155        216      0.695      0.625       0.65      0.449\n"
     ]
    },
    {
     "name": "stderr",
     "output_type": "stream",
     "text": [
      "\n"
     ]
    },
    {
     "name": "stdout",
     "output_type": "stream",
     "text": [
      "\n",
      "      Epoch    GPU_mem   box_loss   cls_loss   dfl_loss  Instances       Size\n"
     ]
    },
    {
     "name": "stderr",
     "output_type": "stream",
     "text": [
      "      25/80         0G      1.028      1.055      1.249         13        640: 100%|██████████| 46/46 [04:05<00:00,  5.\n",
      "                 Class     Images  Instances      Box(P          R      mAP50  mAP50-95): 100%|██████████| 5/5 [00:16<0"
     ]
    },
    {
     "name": "stdout",
     "output_type": "stream",
     "text": [
      "                   all        155        216      0.799      0.617      0.697      0.459\n"
     ]
    },
    {
     "name": "stderr",
     "output_type": "stream",
     "text": [
      "\n"
     ]
    },
    {
     "name": "stdout",
     "output_type": "stream",
     "text": [
      "\n",
      "      Epoch    GPU_mem   box_loss   cls_loss   dfl_loss  Instances       Size\n"
     ]
    },
    {
     "name": "stderr",
     "output_type": "stream",
     "text": [
      "      26/80         0G      1.017      1.041      1.225         16        640: 100%|██████████| 46/46 [04:08<00:00,  5.\n",
      "                 Class     Images  Instances      Box(P          R      mAP50  mAP50-95): 100%|██████████| 5/5 [00:16<0"
     ]
    },
    {
     "name": "stdout",
     "output_type": "stream",
     "text": [
      "                   all        155        216      0.721       0.62      0.666      0.474\n"
     ]
    },
    {
     "name": "stderr",
     "output_type": "stream",
     "text": [
      "\n"
     ]
    },
    {
     "name": "stdout",
     "output_type": "stream",
     "text": [
      "\n",
      "      Epoch    GPU_mem   box_loss   cls_loss   dfl_loss  Instances       Size\n"
     ]
    },
    {
     "name": "stderr",
     "output_type": "stream",
     "text": [
      "      27/80         0G       1.03      1.031       1.23          8        640: 100%|██████████| 46/46 [04:07<00:00,  5.\n",
      "                 Class     Images  Instances      Box(P          R      mAP50  mAP50-95): 100%|██████████| 5/5 [00:15<0"
     ]
    },
    {
     "name": "stdout",
     "output_type": "stream",
     "text": [
      "                   all        155        216      0.781      0.602      0.682      0.438\n"
     ]
    },
    {
     "name": "stderr",
     "output_type": "stream",
     "text": [
      "\n"
     ]
    },
    {
     "name": "stdout",
     "output_type": "stream",
     "text": [
      "\n",
      "      Epoch    GPU_mem   box_loss   cls_loss   dfl_loss  Instances       Size\n"
     ]
    },
    {
     "name": "stderr",
     "output_type": "stream",
     "text": [
      "      28/80         0G     0.9934      1.013      1.198         13        640: 100%|██████████| 46/46 [04:04<00:00,  5.\n",
      "                 Class     Images  Instances      Box(P          R      mAP50  mAP50-95): 100%|██████████| 5/5 [00:16<0"
     ]
    },
    {
     "name": "stdout",
     "output_type": "stream",
     "text": [
      "                   all        155        216      0.764      0.609      0.698      0.478\n"
     ]
    },
    {
     "name": "stderr",
     "output_type": "stream",
     "text": [
      "\n"
     ]
    },
    {
     "name": "stdout",
     "output_type": "stream",
     "text": [
      "\n",
      "      Epoch    GPU_mem   box_loss   cls_loss   dfl_loss  Instances       Size\n"
     ]
    },
    {
     "name": "stderr",
     "output_type": "stream",
     "text": [
      "      29/80         0G     0.9793     0.9661      1.205         12        640: 100%|██████████| 46/46 [04:06<00:00,  5.\n",
      "                 Class     Images  Instances      Box(P          R      mAP50  mAP50-95): 100%|██████████| 5/5 [00:16<0"
     ]
    },
    {
     "name": "stdout",
     "output_type": "stream",
     "text": [
      "                   all        155        216      0.684      0.691       0.68      0.459\n"
     ]
    },
    {
     "name": "stderr",
     "output_type": "stream",
     "text": [
      "\n"
     ]
    },
    {
     "name": "stdout",
     "output_type": "stream",
     "text": [
      "\n",
      "      Epoch    GPU_mem   box_loss   cls_loss   dfl_loss  Instances       Size\n"
     ]
    },
    {
     "name": "stderr",
     "output_type": "stream",
     "text": [
      "      30/80         0G      0.954     0.9307      1.175         14        640: 100%|██████████| 46/46 [04:08<00:00,  5.\n",
      "                 Class     Images  Instances      Box(P          R      mAP50  mAP50-95): 100%|██████████| 5/5 [00:16<0"
     ]
    },
    {
     "name": "stdout",
     "output_type": "stream",
     "text": [
      "                   all        155        216      0.783      0.654      0.706       0.48\n"
     ]
    },
    {
     "name": "stderr",
     "output_type": "stream",
     "text": [
      "\n"
     ]
    },
    {
     "name": "stdout",
     "output_type": "stream",
     "text": [
      "\n",
      "      Epoch    GPU_mem   box_loss   cls_loss   dfl_loss  Instances       Size\n"
     ]
    },
    {
     "name": "stderr",
     "output_type": "stream",
     "text": [
      "      31/80         0G     0.9558     0.9316      1.176          7        640: 100%|██████████| 46/46 [04:06<00:00,  5.\n",
      "                 Class     Images  Instances      Box(P          R      mAP50  mAP50-95): 100%|██████████| 5/5 [00:15<0"
     ]
    },
    {
     "name": "stdout",
     "output_type": "stream",
     "text": [
      "                   all        155        216      0.772      0.681      0.735      0.499\n"
     ]
    },
    {
     "name": "stderr",
     "output_type": "stream",
     "text": [
      "\n"
     ]
    },
    {
     "name": "stdout",
     "output_type": "stream",
     "text": [
      "\n",
      "      Epoch    GPU_mem   box_loss   cls_loss   dfl_loss  Instances       Size\n"
     ]
    },
    {
     "name": "stderr",
     "output_type": "stream",
     "text": [
      "      32/80         0G     0.9439     0.9209      1.172         15        640: 100%|██████████| 46/46 [04:04<00:00,  5.\n",
      "                 Class     Images  Instances      Box(P          R      mAP50  mAP50-95): 100%|██████████| 5/5 [00:15<0"
     ]
    },
    {
     "name": "stdout",
     "output_type": "stream",
     "text": [
      "                   all        155        216      0.769      0.628      0.693      0.471\n"
     ]
    },
    {
     "name": "stderr",
     "output_type": "stream",
     "text": [
      "\n"
     ]
    },
    {
     "name": "stdout",
     "output_type": "stream",
     "text": [
      "\n",
      "      Epoch    GPU_mem   box_loss   cls_loss   dfl_loss  Instances       Size\n"
     ]
    },
    {
     "name": "stderr",
     "output_type": "stream",
     "text": [
      "      33/80         0G     0.9061     0.8777      1.151          9        640: 100%|██████████| 46/46 [04:05<00:00,  5.\n",
      "                 Class     Images  Instances      Box(P          R      mAP50  mAP50-95): 100%|██████████| 5/5 [00:15<0"
     ]
    },
    {
     "name": "stdout",
     "output_type": "stream",
     "text": [
      "                   all        155        216      0.796      0.653      0.724      0.499\n"
     ]
    },
    {
     "name": "stderr",
     "output_type": "stream",
     "text": [
      "\n"
     ]
    },
    {
     "name": "stdout",
     "output_type": "stream",
     "text": [
      "\n",
      "      Epoch    GPU_mem   box_loss   cls_loss   dfl_loss  Instances       Size\n"
     ]
    },
    {
     "name": "stderr",
     "output_type": "stream",
     "text": [
      "      34/80         0G     0.9706      0.916      1.175         12        640: 100%|██████████| 46/46 [04:04<00:00,  5.\n",
      "                 Class     Images  Instances      Box(P          R      mAP50  mAP50-95): 100%|██████████| 5/5 [00:16<0"
     ]
    },
    {
     "name": "stdout",
     "output_type": "stream",
     "text": [
      "                   all        155        216      0.707      0.684      0.708      0.494\n"
     ]
    },
    {
     "name": "stderr",
     "output_type": "stream",
     "text": [
      "\n"
     ]
    },
    {
     "name": "stdout",
     "output_type": "stream",
     "text": [
      "\n",
      "      Epoch    GPU_mem   box_loss   cls_loss   dfl_loss  Instances       Size\n"
     ]
    },
    {
     "name": "stderr",
     "output_type": "stream",
     "text": [
      "      35/80         0G     0.9424     0.8918      1.177         15        640: 100%|██████████| 46/46 [04:04<00:00,  5.\n",
      "                 Class     Images  Instances      Box(P          R      mAP50  mAP50-95): 100%|██████████| 5/5 [00:16<0"
     ]
    },
    {
     "name": "stdout",
     "output_type": "stream",
     "text": [
      "                   all        155        216      0.826      0.663      0.715      0.473\n"
     ]
    },
    {
     "name": "stderr",
     "output_type": "stream",
     "text": [
      "\n"
     ]
    },
    {
     "name": "stdout",
     "output_type": "stream",
     "text": [
      "\n",
      "      Epoch    GPU_mem   box_loss   cls_loss   dfl_loss  Instances       Size\n"
     ]
    },
    {
     "name": "stderr",
     "output_type": "stream",
     "text": [
      "      36/80         0G     0.9265     0.8527      1.155          8        640: 100%|██████████| 46/46 [04:03<00:00,  5.\n",
      "                 Class     Images  Instances      Box(P          R      mAP50  mAP50-95): 100%|██████████| 5/5 [00:16<0"
     ]
    },
    {
     "name": "stdout",
     "output_type": "stream",
     "text": [
      "                   all        155        216      0.787      0.646      0.695      0.475\n"
     ]
    },
    {
     "name": "stderr",
     "output_type": "stream",
     "text": [
      "\n"
     ]
    },
    {
     "name": "stdout",
     "output_type": "stream",
     "text": [
      "\n",
      "      Epoch    GPU_mem   box_loss   cls_loss   dfl_loss  Instances       Size\n"
     ]
    },
    {
     "name": "stderr",
     "output_type": "stream",
     "text": [
      "      37/80         0G     0.9395     0.8962      1.166         17        640: 100%|██████████| 46/46 [04:04<00:00,  5.\n",
      "                 Class     Images  Instances      Box(P          R      mAP50  mAP50-95): 100%|██████████| 5/5 [00:15<0"
     ]
    },
    {
     "name": "stdout",
     "output_type": "stream",
     "text": [
      "                   all        155        216       0.85      0.638      0.733      0.488\n"
     ]
    },
    {
     "name": "stderr",
     "output_type": "stream",
     "text": [
      "\n"
     ]
    },
    {
     "name": "stdout",
     "output_type": "stream",
     "text": [
      "\n",
      "      Epoch    GPU_mem   box_loss   cls_loss   dfl_loss  Instances       Size\n"
     ]
    },
    {
     "name": "stderr",
     "output_type": "stream",
     "text": [
      "      38/80         0G     0.9199     0.8752      1.149          8        640: 100%|██████████| 46/46 [04:07<00:00,  5.\n",
      "                 Class     Images  Instances      Box(P          R      mAP50  mAP50-95): 100%|██████████| 5/5 [00:16<0"
     ]
    },
    {
     "name": "stdout",
     "output_type": "stream",
     "text": [
      "                   all        155        216      0.807      0.673      0.733      0.471\n"
     ]
    },
    {
     "name": "stderr",
     "output_type": "stream",
     "text": [
      "\n"
     ]
    },
    {
     "name": "stdout",
     "output_type": "stream",
     "text": [
      "\n",
      "      Epoch    GPU_mem   box_loss   cls_loss   dfl_loss  Instances       Size\n"
     ]
    },
    {
     "name": "stderr",
     "output_type": "stream",
     "text": [
      "      39/80         0G      0.898     0.8463      1.154         11        640: 100%|██████████| 46/46 [04:05<00:00,  5.\n",
      "                 Class     Images  Instances      Box(P          R      mAP50  mAP50-95): 100%|██████████| 5/5 [00:16<0"
     ]
    },
    {
     "name": "stdout",
     "output_type": "stream",
     "text": [
      "                   all        155        216      0.766      0.661      0.699      0.477\n"
     ]
    },
    {
     "name": "stderr",
     "output_type": "stream",
     "text": [
      "\n"
     ]
    },
    {
     "name": "stdout",
     "output_type": "stream",
     "text": [
      "\n",
      "      Epoch    GPU_mem   box_loss   cls_loss   dfl_loss  Instances       Size\n"
     ]
    },
    {
     "name": "stderr",
     "output_type": "stream",
     "text": [
      "      40/80         0G     0.9066     0.8338      1.144          9        640: 100%|██████████| 46/46 [04:04<00:00,  5.\n",
      "                 Class     Images  Instances      Box(P          R      mAP50  mAP50-95): 100%|██████████| 5/5 [00:16<0"
     ]
    },
    {
     "name": "stdout",
     "output_type": "stream",
     "text": [
      "                   all        155        216      0.779      0.717      0.745      0.509\n"
     ]
    },
    {
     "name": "stderr",
     "output_type": "stream",
     "text": [
      "\n"
     ]
    },
    {
     "name": "stdout",
     "output_type": "stream",
     "text": [
      "\n",
      "      Epoch    GPU_mem   box_loss   cls_loss   dfl_loss  Instances       Size\n"
     ]
    },
    {
     "name": "stderr",
     "output_type": "stream",
     "text": [
      "      41/80         0G     0.8937     0.8235      1.143         13        640: 100%|██████████| 46/46 [04:05<00:00,  5.\n",
      "                 Class     Images  Instances      Box(P          R      mAP50  mAP50-95): 100%|██████████| 5/5 [00:15<0"
     ]
    },
    {
     "name": "stdout",
     "output_type": "stream",
     "text": [
      "                   all        155        216      0.781       0.72      0.737      0.527\n"
     ]
    },
    {
     "name": "stderr",
     "output_type": "stream",
     "text": [
      "\n"
     ]
    },
    {
     "name": "stdout",
     "output_type": "stream",
     "text": [
      "\n",
      "      Epoch    GPU_mem   box_loss   cls_loss   dfl_loss  Instances       Size\n"
     ]
    },
    {
     "name": "stderr",
     "output_type": "stream",
     "text": [
      "      42/80         0G      0.879     0.8315      1.126          5        640: 100%|██████████| 46/46 [04:04<00:00,  5.\n",
      "                 Class     Images  Instances      Box(P          R      mAP50  mAP50-95): 100%|██████████| 5/5 [00:17<0"
     ]
    },
    {
     "name": "stdout",
     "output_type": "stream",
     "text": [
      "                   all        155        216      0.863      0.668      0.748      0.525\n"
     ]
    },
    {
     "name": "stderr",
     "output_type": "stream",
     "text": [
      "\n"
     ]
    },
    {
     "name": "stdout",
     "output_type": "stream",
     "text": [
      "\n",
      "      Epoch    GPU_mem   box_loss   cls_loss   dfl_loss  Instances       Size\n"
     ]
    },
    {
     "name": "stderr",
     "output_type": "stream",
     "text": [
      "      43/80         0G     0.8619     0.8117      1.128          6        640: 100%|██████████| 46/46 [04:03<00:00,  5.\n",
      "                 Class     Images  Instances      Box(P          R      mAP50  mAP50-95): 100%|██████████| 5/5 [00:15<0"
     ]
    },
    {
     "name": "stdout",
     "output_type": "stream",
     "text": [
      "                   all        155        216      0.719      0.712      0.726      0.513\n"
     ]
    },
    {
     "name": "stderr",
     "output_type": "stream",
     "text": [
      "\n"
     ]
    },
    {
     "name": "stdout",
     "output_type": "stream",
     "text": [
      "\n",
      "      Epoch    GPU_mem   box_loss   cls_loss   dfl_loss  Instances       Size\n"
     ]
    },
    {
     "name": "stderr",
     "output_type": "stream",
     "text": [
      "      44/80         0G     0.9182     0.8261      1.147         15        640: 100%|██████████| 46/46 [04:04<00:00,  5.\n",
      "                 Class     Images  Instances      Box(P          R      mAP50  mAP50-95): 100%|██████████| 5/5 [00:16<0"
     ]
    },
    {
     "name": "stdout",
     "output_type": "stream",
     "text": [
      "                   all        155        216      0.848      0.729      0.782      0.539\n"
     ]
    },
    {
     "name": "stderr",
     "output_type": "stream",
     "text": [
      "\n"
     ]
    },
    {
     "name": "stdout",
     "output_type": "stream",
     "text": [
      "\n",
      "      Epoch    GPU_mem   box_loss   cls_loss   dfl_loss  Instances       Size\n"
     ]
    },
    {
     "name": "stderr",
     "output_type": "stream",
     "text": [
      "      45/80         0G     0.9343     0.8495      1.139          8        640: 100%|██████████| 46/46 [04:04<00:00,  5.\n",
      "                 Class     Images  Instances      Box(P          R      mAP50  mAP50-95): 100%|██████████| 5/5 [00:15<0"
     ]
    },
    {
     "name": "stdout",
     "output_type": "stream",
     "text": [
      "                   all        155        216      0.818      0.669      0.727      0.503\n"
     ]
    },
    {
     "name": "stderr",
     "output_type": "stream",
     "text": [
      "\n"
     ]
    },
    {
     "name": "stdout",
     "output_type": "stream",
     "text": [
      "\n",
      "      Epoch    GPU_mem   box_loss   cls_loss   dfl_loss  Instances       Size\n"
     ]
    },
    {
     "name": "stderr",
     "output_type": "stream",
     "text": [
      "      46/80         0G     0.8571     0.7815      1.104         10        640: 100%|██████████| 46/46 [04:04<00:00,  5.\n",
      "                 Class     Images  Instances      Box(P          R      mAP50  mAP50-95): 100%|██████████| 5/5 [00:16<0"
     ]
    },
    {
     "name": "stdout",
     "output_type": "stream",
     "text": [
      "                   all        155        216       0.86      0.708      0.769      0.522\n"
     ]
    },
    {
     "name": "stderr",
     "output_type": "stream",
     "text": [
      "\n"
     ]
    },
    {
     "name": "stdout",
     "output_type": "stream",
     "text": [
      "\n",
      "      Epoch    GPU_mem   box_loss   cls_loss   dfl_loss  Instances       Size\n"
     ]
    },
    {
     "name": "stderr",
     "output_type": "stream",
     "text": [
      "      47/80         0G     0.8627     0.7737      1.096         22        640: 100%|██████████| 46/46 [04:07<00:00,  5.\n",
      "                 Class     Images  Instances      Box(P          R      mAP50  mAP50-95): 100%|██████████| 5/5 [00:15<0"
     ]
    },
    {
     "name": "stdout",
     "output_type": "stream",
     "text": [
      "                   all        155        216      0.829      0.734      0.777      0.552\n"
     ]
    },
    {
     "name": "stderr",
     "output_type": "stream",
     "text": [
      "\n"
     ]
    },
    {
     "name": "stdout",
     "output_type": "stream",
     "text": [
      "\n",
      "      Epoch    GPU_mem   box_loss   cls_loss   dfl_loss  Instances       Size\n"
     ]
    },
    {
     "name": "stderr",
     "output_type": "stream",
     "text": [
      "      48/80         0G     0.8103     0.7052      1.087         12        640: 100%|██████████| 46/46 [04:04<00:00,  5.\n",
      "                 Class     Images  Instances      Box(P          R      mAP50  mAP50-95): 100%|██████████| 5/5 [00:16<0"
     ]
    },
    {
     "name": "stdout",
     "output_type": "stream",
     "text": [
      "                   all        155        216      0.846      0.717      0.761      0.529\n"
     ]
    },
    {
     "name": "stderr",
     "output_type": "stream",
     "text": [
      "\n"
     ]
    },
    {
     "name": "stdout",
     "output_type": "stream",
     "text": [
      "\n",
      "      Epoch    GPU_mem   box_loss   cls_loss   dfl_loss  Instances       Size\n"
     ]
    },
    {
     "name": "stderr",
     "output_type": "stream",
     "text": [
      "      49/80         0G      0.803     0.7208      1.086          8        640: 100%|██████████| 46/46 [04:06<00:00,  5.\n",
      "                 Class     Images  Instances      Box(P          R      mAP50  mAP50-95): 100%|██████████| 5/5 [00:16<0"
     ]
    },
    {
     "name": "stdout",
     "output_type": "stream",
     "text": [
      "                   all        155        216       0.84      0.699      0.761      0.518\n"
     ]
    },
    {
     "name": "stderr",
     "output_type": "stream",
     "text": [
      "\n"
     ]
    },
    {
     "name": "stdout",
     "output_type": "stream",
     "text": [
      "\n",
      "      Epoch    GPU_mem   box_loss   cls_loss   dfl_loss  Instances       Size\n"
     ]
    },
    {
     "name": "stderr",
     "output_type": "stream",
     "text": [
      "      50/80         0G     0.8082     0.7062      1.088         10        640: 100%|██████████| 46/46 [04:03<00:00,  5.\n",
      "                 Class     Images  Instances      Box(P          R      mAP50  mAP50-95): 100%|██████████| 5/5 [00:15<0"
     ]
    },
    {
     "name": "stdout",
     "output_type": "stream",
     "text": [
      "                   all        155        216      0.826      0.667      0.738       0.52\n"
     ]
    },
    {
     "name": "stderr",
     "output_type": "stream",
     "text": [
      "\n"
     ]
    },
    {
     "name": "stdout",
     "output_type": "stream",
     "text": [
      "\n",
      "      Epoch    GPU_mem   box_loss   cls_loss   dfl_loss  Instances       Size\n"
     ]
    },
    {
     "name": "stderr",
     "output_type": "stream",
     "text": [
      "      51/80         0G     0.8131     0.7457      1.103          7        640: 100%|██████████| 46/46 [04:03<00:00,  5.\n",
      "                 Class     Images  Instances      Box(P          R      mAP50  mAP50-95): 100%|██████████| 5/5 [00:16<0"
     ]
    },
    {
     "name": "stdout",
     "output_type": "stream",
     "text": [
      "                   all        155        216      0.802      0.717      0.759      0.534\n"
     ]
    },
    {
     "name": "stderr",
     "output_type": "stream",
     "text": [
      "\n"
     ]
    },
    {
     "name": "stdout",
     "output_type": "stream",
     "text": [
      "\n",
      "      Epoch    GPU_mem   box_loss   cls_loss   dfl_loss  Instances       Size\n"
     ]
    },
    {
     "name": "stderr",
     "output_type": "stream",
     "text": [
      "      52/80         0G     0.8053     0.7378      1.086         10        640: 100%|██████████| 46/46 [04:03<00:00,  5.\n",
      "                 Class     Images  Instances      Box(P          R      mAP50  mAP50-95): 100%|██████████| 5/5 [00:15<0"
     ]
    },
    {
     "name": "stdout",
     "output_type": "stream",
     "text": [
      "                   all        155        216      0.847      0.683      0.751      0.538\n"
     ]
    },
    {
     "name": "stderr",
     "output_type": "stream",
     "text": [
      "\n"
     ]
    },
    {
     "name": "stdout",
     "output_type": "stream",
     "text": [
      "\n",
      "      Epoch    GPU_mem   box_loss   cls_loss   dfl_loss  Instances       Size\n"
     ]
    },
    {
     "name": "stderr",
     "output_type": "stream",
     "text": [
      "      53/80         0G     0.7652     0.6857      1.059          8        640: 100%|██████████| 46/46 [04:03<00:00,  5.\n",
      "                 Class     Images  Instances      Box(P          R      mAP50  mAP50-95): 100%|██████████| 5/5 [00:15<0"
     ]
    },
    {
     "name": "stdout",
     "output_type": "stream",
     "text": [
      "                   all        155        216      0.822      0.721      0.765      0.538\n"
     ]
    },
    {
     "name": "stderr",
     "output_type": "stream",
     "text": [
      "\n"
     ]
    },
    {
     "name": "stdout",
     "output_type": "stream",
     "text": [
      "\n",
      "      Epoch    GPU_mem   box_loss   cls_loss   dfl_loss  Instances       Size\n"
     ]
    },
    {
     "name": "stderr",
     "output_type": "stream",
     "text": [
      "      54/80         0G     0.7993     0.7159      1.073          8        640: 100%|██████████| 46/46 [04:04<00:00,  5.\n",
      "                 Class     Images  Instances      Box(P          R      mAP50  mAP50-95): 100%|██████████| 5/5 [00:17<0"
     ]
    },
    {
     "name": "stdout",
     "output_type": "stream",
     "text": [
      "                   all        155        216      0.822      0.743      0.778      0.539\n"
     ]
    },
    {
     "name": "stderr",
     "output_type": "stream",
     "text": [
      "\n"
     ]
    },
    {
     "name": "stdout",
     "output_type": "stream",
     "text": [
      "\n",
      "      Epoch    GPU_mem   box_loss   cls_loss   dfl_loss  Instances       Size\n"
     ]
    },
    {
     "name": "stderr",
     "output_type": "stream",
     "text": [
      "      55/80         0G     0.7881     0.6845       1.09          9        640: 100%|██████████| 46/46 [04:05<00:00,  5.\n",
      "                 Class     Images  Instances      Box(P          R      mAP50  mAP50-95): 100%|██████████| 5/5 [00:15<0"
     ]
    },
    {
     "name": "stdout",
     "output_type": "stream",
     "text": [
      "                   all        155        216      0.821      0.711      0.764      0.535\n"
     ]
    },
    {
     "name": "stderr",
     "output_type": "stream",
     "text": [
      "\n"
     ]
    },
    {
     "name": "stdout",
     "output_type": "stream",
     "text": [
      "\n",
      "      Epoch    GPU_mem   box_loss   cls_loss   dfl_loss  Instances       Size\n"
     ]
    },
    {
     "name": "stderr",
     "output_type": "stream",
     "text": [
      "      56/80         0G     0.7781     0.6657      1.073         13        640: 100%|██████████| 46/46 [04:05<00:00,  5.\n",
      "                 Class     Images  Instances      Box(P          R      mAP50  mAP50-95): 100%|██████████| 5/5 [00:15<0"
     ]
    },
    {
     "name": "stdout",
     "output_type": "stream",
     "text": [
      "                   all        155        216      0.808      0.716      0.748      0.537\n"
     ]
    },
    {
     "name": "stderr",
     "output_type": "stream",
     "text": [
      "\n"
     ]
    },
    {
     "name": "stdout",
     "output_type": "stream",
     "text": [
      "\n",
      "      Epoch    GPU_mem   box_loss   cls_loss   dfl_loss  Instances       Size\n"
     ]
    },
    {
     "name": "stderr",
     "output_type": "stream",
     "text": [
      "      57/80         0G     0.7603     0.6574      1.047         16        640: 100%|██████████| 46/46 [04:03<00:00,  5.\n",
      "                 Class     Images  Instances      Box(P          R      mAP50  mAP50-95): 100%|██████████| 5/5 [00:15<0"
     ]
    },
    {
     "name": "stdout",
     "output_type": "stream",
     "text": [
      "                   all        155        216      0.861      0.684      0.762      0.555\n"
     ]
    },
    {
     "name": "stderr",
     "output_type": "stream",
     "text": [
      "\n"
     ]
    },
    {
     "name": "stdout",
     "output_type": "stream",
     "text": [
      "\n",
      "      Epoch    GPU_mem   box_loss   cls_loss   dfl_loss  Instances       Size\n"
     ]
    },
    {
     "name": "stderr",
     "output_type": "stream",
     "text": [
      "      58/80         0G      0.765     0.6667      1.058         11        640: 100%|██████████| 46/46 [04:05<00:00,  5.\n",
      "                 Class     Images  Instances      Box(P          R      mAP50  mAP50-95): 100%|██████████| 5/5 [00:16<0"
     ]
    },
    {
     "name": "stdout",
     "output_type": "stream",
     "text": [
      "                   all        155        216      0.822      0.724      0.784      0.555\n"
     ]
    },
    {
     "name": "stderr",
     "output_type": "stream",
     "text": [
      "\n"
     ]
    },
    {
     "name": "stdout",
     "output_type": "stream",
     "text": [
      "\n",
      "      Epoch    GPU_mem   box_loss   cls_loss   dfl_loss  Instances       Size\n"
     ]
    },
    {
     "name": "stderr",
     "output_type": "stream",
     "text": [
      "      59/80         0G     0.7179     0.6323      1.039         13        640: 100%|██████████| 46/46 [04:04<00:00,  5.\n",
      "                 Class     Images  Instances      Box(P          R      mAP50  mAP50-95): 100%|██████████| 5/5 [00:16<0"
     ]
    },
    {
     "name": "stdout",
     "output_type": "stream",
     "text": [
      "                   all        155        216      0.824      0.724      0.778      0.559\n"
     ]
    },
    {
     "name": "stderr",
     "output_type": "stream",
     "text": [
      "\n"
     ]
    },
    {
     "name": "stdout",
     "output_type": "stream",
     "text": [
      "\n",
      "      Epoch    GPU_mem   box_loss   cls_loss   dfl_loss  Instances       Size\n"
     ]
    },
    {
     "name": "stderr",
     "output_type": "stream",
     "text": [
      "      60/80         0G     0.7184     0.6421      1.047         18        640: 100%|██████████| 46/46 [04:03<00:00,  5.\n",
      "                 Class     Images  Instances      Box(P          R      mAP50  mAP50-95): 100%|██████████| 5/5 [00:16<0"
     ]
    },
    {
     "name": "stdout",
     "output_type": "stream",
     "text": [
      "                   all        155        216      0.815      0.721      0.776      0.562\n"
     ]
    },
    {
     "name": "stderr",
     "output_type": "stream",
     "text": [
      "\n"
     ]
    },
    {
     "name": "stdout",
     "output_type": "stream",
     "text": [
      "\n",
      "      Epoch    GPU_mem   box_loss   cls_loss   dfl_loss  Instances       Size\n"
     ]
    },
    {
     "name": "stderr",
     "output_type": "stream",
     "text": [
      "      61/80         0G     0.7692     0.6614      1.065         14        640: 100%|██████████| 46/46 [04:06<00:00,  5.\n",
      "                 Class     Images  Instances      Box(P          R      mAP50  mAP50-95): 100%|██████████| 5/5 [00:15<0"
     ]
    },
    {
     "name": "stdout",
     "output_type": "stream",
     "text": [
      "                   all        155        216      0.831      0.708      0.776      0.546\n"
     ]
    },
    {
     "name": "stderr",
     "output_type": "stream",
     "text": [
      "\n"
     ]
    },
    {
     "name": "stdout",
     "output_type": "stream",
     "text": [
      "\n",
      "      Epoch    GPU_mem   box_loss   cls_loss   dfl_loss  Instances       Size\n"
     ]
    },
    {
     "name": "stderr",
     "output_type": "stream",
     "text": [
      "      62/80         0G       0.75     0.6508      1.054         15        640: 100%|██████████| 46/46 [04:04<00:00,  5.\n",
      "                 Class     Images  Instances      Box(P          R      mAP50  mAP50-95): 100%|██████████| 5/5 [00:16<0"
     ]
    },
    {
     "name": "stdout",
     "output_type": "stream",
     "text": [
      "                   all        155        216      0.816      0.733      0.777      0.556\n"
     ]
    },
    {
     "name": "stderr",
     "output_type": "stream",
     "text": [
      "\n"
     ]
    },
    {
     "name": "stdout",
     "output_type": "stream",
     "text": [
      "\n",
      "      Epoch    GPU_mem   box_loss   cls_loss   dfl_loss  Instances       Size\n"
     ]
    },
    {
     "name": "stderr",
     "output_type": "stream",
     "text": [
      "      63/80         0G      0.716     0.6062      1.032         19        640: 100%|██████████| 46/46 [04:03<00:00,  5.\n",
      "                 Class     Images  Instances      Box(P          R      mAP50  mAP50-95): 100%|██████████| 5/5 [00:16<0"
     ]
    },
    {
     "name": "stdout",
     "output_type": "stream",
     "text": [
      "                   all        155        216      0.861      0.732       0.79      0.558\n"
     ]
    },
    {
     "name": "stderr",
     "output_type": "stream",
     "text": [
      "\n"
     ]
    },
    {
     "name": "stdout",
     "output_type": "stream",
     "text": [
      "\n",
      "      Epoch    GPU_mem   box_loss   cls_loss   dfl_loss  Instances       Size\n"
     ]
    },
    {
     "name": "stderr",
     "output_type": "stream",
     "text": [
      "      64/80         0G     0.7124     0.6065      1.022         10        640: 100%|██████████| 46/46 [04:04<00:00,  5.\n",
      "                 Class     Images  Instances      Box(P          R      mAP50  mAP50-95): 100%|██████████| 5/5 [00:16<0"
     ]
    },
    {
     "name": "stdout",
     "output_type": "stream",
     "text": [
      "                   all        155        216       0.86      0.731      0.788      0.558\n"
     ]
    },
    {
     "name": "stderr",
     "output_type": "stream",
     "text": [
      "\n"
     ]
    },
    {
     "name": "stdout",
     "output_type": "stream",
     "text": [
      "\n",
      "      Epoch    GPU_mem   box_loss   cls_loss   dfl_loss  Instances       Size\n"
     ]
    },
    {
     "name": "stderr",
     "output_type": "stream",
     "text": [
      "      65/80         0G     0.7212     0.6201       1.04         10        640: 100%|██████████| 46/46 [04:04<00:00,  5.\n",
      "                 Class     Images  Instances      Box(P          R      mAP50  mAP50-95): 100%|██████████| 5/5 [00:16<0"
     ]
    },
    {
     "name": "stdout",
     "output_type": "stream",
     "text": [
      "                   all        155        216      0.854      0.749      0.794      0.558\n"
     ]
    },
    {
     "name": "stderr",
     "output_type": "stream",
     "text": [
      "\n"
     ]
    },
    {
     "name": "stdout",
     "output_type": "stream",
     "text": [
      "\n",
      "      Epoch    GPU_mem   box_loss   cls_loss   dfl_loss  Instances       Size\n"
     ]
    },
    {
     "name": "stderr",
     "output_type": "stream",
     "text": [
      "      66/80         0G     0.7087     0.6043      1.026         12        640: 100%|██████████| 46/46 [04:21<00:00,  5.\n",
      "                 Class     Images  Instances      Box(P          R      mAP50  mAP50-95): 100%|██████████| 5/5 [00:23<0"
     ]
    },
    {
     "name": "stdout",
     "output_type": "stream",
     "text": [
      "                   all        155        216      0.879      0.719      0.792      0.562\n"
     ]
    },
    {
     "name": "stderr",
     "output_type": "stream",
     "text": [
      "\n"
     ]
    },
    {
     "name": "stdout",
     "output_type": "stream",
     "text": [
      "\n",
      "      Epoch    GPU_mem   box_loss   cls_loss   dfl_loss  Instances       Size\n"
     ]
    },
    {
     "name": "stderr",
     "output_type": "stream",
     "text": [
      "      67/80         0G     0.7104     0.6081       1.03         13        640: 100%|██████████| 46/46 [06:02<00:00,  7.\n",
      "                 Class     Images  Instances      Box(P          R      mAP50  mAP50-95): 100%|██████████| 5/5 [00:26<0"
     ]
    },
    {
     "name": "stdout",
     "output_type": "stream",
     "text": [
      "                   all        155        216       0.89      0.721      0.779       0.55\n"
     ]
    },
    {
     "name": "stderr",
     "output_type": "stream",
     "text": [
      "\n"
     ]
    },
    {
     "name": "stdout",
     "output_type": "stream",
     "text": [
      "\n",
      "      Epoch    GPU_mem   box_loss   cls_loss   dfl_loss  Instances       Size\n"
     ]
    },
    {
     "name": "stderr",
     "output_type": "stream",
     "text": [
      "      68/80         0G     0.6963     0.5758       1.02         10        640: 100%|██████████| 46/46 [06:12<00:00,  8.\n",
      "                 Class     Images  Instances      Box(P          R      mAP50  mAP50-95): 100%|██████████| 5/5 [00:24<0"
     ]
    },
    {
     "name": "stdout",
     "output_type": "stream",
     "text": [
      "                   all        155        216      0.787      0.753      0.773       0.55\n"
     ]
    },
    {
     "name": "stderr",
     "output_type": "stream",
     "text": [
      "\n"
     ]
    },
    {
     "name": "stdout",
     "output_type": "stream",
     "text": [
      "\n",
      "      Epoch    GPU_mem   box_loss   cls_loss   dfl_loss  Instances       Size\n"
     ]
    },
    {
     "name": "stderr",
     "output_type": "stream",
     "text": [
      "      69/80         0G     0.6939     0.5879      1.028         12        640: 100%|██████████| 46/46 [06:12<00:00,  8.\n",
      "                 Class     Images  Instances      Box(P          R      mAP50  mAP50-95): 100%|██████████| 5/5 [00:26<0"
     ]
    },
    {
     "name": "stdout",
     "output_type": "stream",
     "text": [
      "                   all        155        216      0.876      0.723      0.787      0.565\n"
     ]
    },
    {
     "name": "stderr",
     "output_type": "stream",
     "text": [
      "\n"
     ]
    },
    {
     "name": "stdout",
     "output_type": "stream",
     "text": [
      "\n",
      "      Epoch    GPU_mem   box_loss   cls_loss   dfl_loss  Instances       Size\n"
     ]
    },
    {
     "name": "stderr",
     "output_type": "stream",
     "text": [
      "      70/80         0G     0.6839     0.5697      1.026          9        640: 100%|██████████| 46/46 [06:07<00:00,  7.\n",
      "                 Class     Images  Instances      Box(P          R      mAP50  mAP50-95): 100%|██████████| 5/5 [00:23<0"
     ]
    },
    {
     "name": "stdout",
     "output_type": "stream",
     "text": [
      "                   all        155        216      0.843      0.737       0.78       0.56\n"
     ]
    },
    {
     "name": "stderr",
     "output_type": "stream",
     "text": [
      "\n"
     ]
    },
    {
     "name": "stdout",
     "output_type": "stream",
     "text": [
      "Closing dataloader mosaic\n",
      "\n",
      "      Epoch    GPU_mem   box_loss   cls_loss   dfl_loss  Instances       Size\n"
     ]
    },
    {
     "name": "stderr",
     "output_type": "stream",
     "text": [
      "      71/80         0G     0.6631     0.5368     0.9744          9        640: 100%|██████████| 46/46 [06:01<00:00,  7.\n",
      "                 Class     Images  Instances      Box(P          R      mAP50  mAP50-95): 100%|██████████| 5/5 [00:15<0"
     ]
    },
    {
     "name": "stdout",
     "output_type": "stream",
     "text": [
      "                   all        155        216      0.887      0.732      0.795      0.561\n"
     ]
    },
    {
     "name": "stderr",
     "output_type": "stream",
     "text": [
      "\n"
     ]
    },
    {
     "name": "stdout",
     "output_type": "stream",
     "text": [
      "\n",
      "      Epoch    GPU_mem   box_loss   cls_loss   dfl_loss  Instances       Size\n"
     ]
    },
    {
     "name": "stderr",
     "output_type": "stream",
     "text": [
      "      72/80         0G     0.6465     0.5223     0.9722          8        640: 100%|██████████| 46/46 [04:03<00:00,  5.\n",
      "                 Class     Images  Instances      Box(P          R      mAP50  mAP50-95): 100%|██████████| 5/5 [00:16<0"
     ]
    },
    {
     "name": "stdout",
     "output_type": "stream",
     "text": [
      "                   all        155        216      0.832      0.728      0.774      0.552\n"
     ]
    },
    {
     "name": "stderr",
     "output_type": "stream",
     "text": [
      "\n"
     ]
    },
    {
     "name": "stdout",
     "output_type": "stream",
     "text": [
      "\n",
      "      Epoch    GPU_mem   box_loss   cls_loss   dfl_loss  Instances       Size\n"
     ]
    },
    {
     "name": "stderr",
     "output_type": "stream",
     "text": [
      "      73/80         0G     0.6352     0.5155     0.9613          8        640: 100%|██████████| 46/46 [04:02<00:00,  5.\n",
      "                 Class     Images  Instances      Box(P          R      mAP50  mAP50-95): 100%|██████████| 5/5 [00:16<0"
     ]
    },
    {
     "name": "stdout",
     "output_type": "stream",
     "text": [
      "                   all        155        216      0.789      0.756      0.784      0.565\n"
     ]
    },
    {
     "name": "stderr",
     "output_type": "stream",
     "text": [
      "\n"
     ]
    },
    {
     "name": "stdout",
     "output_type": "stream",
     "text": [
      "\n",
      "      Epoch    GPU_mem   box_loss   cls_loss   dfl_loss  Instances       Size\n"
     ]
    },
    {
     "name": "stderr",
     "output_type": "stream",
     "text": [
      "      74/80         0G     0.6395     0.4967     0.9649          8        640: 100%|██████████| 46/46 [04:03<00:00,  5.\n",
      "                 Class     Images  Instances      Box(P          R      mAP50  mAP50-95): 100%|██████████| 5/5 [00:15<0"
     ]
    },
    {
     "name": "stdout",
     "output_type": "stream",
     "text": [
      "                   all        155        216      0.831      0.739      0.802      0.569\n"
     ]
    },
    {
     "name": "stderr",
     "output_type": "stream",
     "text": [
      "\n"
     ]
    },
    {
     "name": "stdout",
     "output_type": "stream",
     "text": [
      "\n",
      "      Epoch    GPU_mem   box_loss   cls_loss   dfl_loss  Instances       Size\n"
     ]
    },
    {
     "name": "stderr",
     "output_type": "stream",
     "text": [
      "      75/80         0G     0.6231     0.4793     0.9542          8        640: 100%|██████████| 46/46 [04:02<00:00,  5.\n",
      "                 Class     Images  Instances      Box(P          R      mAP50  mAP50-95): 100%|██████████| 5/5 [00:16<0"
     ]
    },
    {
     "name": "stdout",
     "output_type": "stream",
     "text": [
      "                   all        155        216      0.855      0.719      0.799      0.568\n"
     ]
    },
    {
     "name": "stderr",
     "output_type": "stream",
     "text": [
      "\n"
     ]
    },
    {
     "name": "stdout",
     "output_type": "stream",
     "text": [
      "\n",
      "      Epoch    GPU_mem   box_loss   cls_loss   dfl_loss  Instances       Size\n"
     ]
    },
    {
     "name": "stderr",
     "output_type": "stream",
     "text": [
      "      76/80         0G     0.6242     0.4866     0.9678          7        640: 100%|██████████| 46/46 [04:33<00:00,  5.\n",
      "                 Class     Images  Instances      Box(P          R      mAP50  mAP50-95): 100%|██████████| 5/5 [00:18<0"
     ]
    },
    {
     "name": "stdout",
     "output_type": "stream",
     "text": [
      "                   all        155        216      0.832      0.746      0.801      0.568\n"
     ]
    },
    {
     "name": "stderr",
     "output_type": "stream",
     "text": [
      "\n"
     ]
    },
    {
     "name": "stdout",
     "output_type": "stream",
     "text": [
      "\n",
      "      Epoch    GPU_mem   box_loss   cls_loss   dfl_loss  Instances       Size\n"
     ]
    },
    {
     "name": "stderr",
     "output_type": "stream",
     "text": [
      "      77/80         0G     0.6131      0.476     0.9616          6        640: 100%|██████████| 46/46 [04:19<00:00,  5.\n",
      "                 Class     Images  Instances      Box(P          R      mAP50  mAP50-95): 100%|██████████| 5/5 [00:16<0"
     ]
    },
    {
     "name": "stdout",
     "output_type": "stream",
     "text": [
      "                   all        155        216      0.839      0.735      0.798      0.572\n"
     ]
    },
    {
     "name": "stderr",
     "output_type": "stream",
     "text": [
      "\n"
     ]
    },
    {
     "name": "stdout",
     "output_type": "stream",
     "text": [
      "\n",
      "      Epoch    GPU_mem   box_loss   cls_loss   dfl_loss  Instances       Size\n"
     ]
    },
    {
     "name": "stderr",
     "output_type": "stream",
     "text": [
      "      78/80         0G      0.609      0.462      0.952          5        640: 100%|██████████| 46/46 [04:07<00:00,  5.\n",
      "                 Class     Images  Instances      Box(P          R      mAP50  mAP50-95): 100%|██████████| 5/5 [00:16<0"
     ]
    },
    {
     "name": "stdout",
     "output_type": "stream",
     "text": [
      "                   all        155        216      0.857      0.741      0.802       0.57\n"
     ]
    },
    {
     "name": "stderr",
     "output_type": "stream",
     "text": [
      "\n"
     ]
    },
    {
     "name": "stdout",
     "output_type": "stream",
     "text": [
      "\n",
      "      Epoch    GPU_mem   box_loss   cls_loss   dfl_loss  Instances       Size\n"
     ]
    },
    {
     "name": "stderr",
     "output_type": "stream",
     "text": [
      "      79/80         0G      0.596      0.457     0.9383          5        640: 100%|██████████| 46/46 [04:05<00:00,  5.\n",
      "                 Class     Images  Instances      Box(P          R      mAP50  mAP50-95): 100%|██████████| 5/5 [00:16<0"
     ]
    },
    {
     "name": "stdout",
     "output_type": "stream",
     "text": [
      "                   all        155        216      0.847      0.743      0.799       0.57\n"
     ]
    },
    {
     "name": "stderr",
     "output_type": "stream",
     "text": [
      "\n"
     ]
    },
    {
     "name": "stdout",
     "output_type": "stream",
     "text": [
      "\n",
      "      Epoch    GPU_mem   box_loss   cls_loss   dfl_loss  Instances       Size\n"
     ]
    },
    {
     "name": "stderr",
     "output_type": "stream",
     "text": [
      "      80/80         0G     0.5933     0.4631     0.9374          7        640: 100%|██████████| 46/46 [04:09<00:00,  5.\n",
      "                 Class     Images  Instances      Box(P          R      mAP50  mAP50-95): 100%|██████████| 5/5 [00:16<0"
     ]
    },
    {
     "name": "stdout",
     "output_type": "stream",
     "text": [
      "                   all        155        216      0.843      0.733      0.796      0.573\n"
     ]
    },
    {
     "name": "stderr",
     "output_type": "stream",
     "text": [
      "\n"
     ]
    },
    {
     "name": "stdout",
     "output_type": "stream",
     "text": [
      "\n",
      "80 epochs completed in 6.085 hours.\n",
      "Optimizer stripped from runs\\detect\\train4\\weights\\last.pt, 6.3MB\n",
      "Optimizer stripped from runs\\detect\\train4\\weights\\best.pt, 6.3MB\n",
      "\n",
      "Validating runs\\detect\\train4\\weights\\best.pt...\n",
      "Ultralytics 8.3.27  Python-3.12.4 torch-2.4.1+cpu CPU (Intel Xeon E5-2680 v2 2.80GHz)\n",
      "Model summary (fused): 168 layers, 3,006,038 parameters, 0 gradients, 8.1 GFLOPs\n"
     ]
    },
    {
     "name": "stderr",
     "output_type": "stream",
     "text": [
      "                 Class     Images  Instances      Box(P          R      mAP50  mAP50-95): 100%|██████████| 5/5 [00:17<0\n"
     ]
    },
    {
     "name": "stdout",
     "output_type": "stream",
     "text": [
      "                   all        155        216      0.846      0.729      0.796      0.573\n",
      "              drinking         44        100      0.891       0.88      0.899      0.801\n",
      "               smoking        112        116      0.802      0.578      0.693      0.344\n",
      "Speed: 2.5ms preprocess, 95.4ms inference, 0.0ms loss, 0.6ms postprocess per image\n",
      "Results saved to \u001b[1mruns\\detect\\train4\u001b[0m\n"
     ]
    },
    {
     "data": {
      "text/plain": [
       "ultralytics.utils.metrics.DetMetrics object with attributes:\n",
       "\n",
       "ap_class_index: array([0, 1])\n",
       "box: ultralytics.utils.metrics.Metric object\n",
       "confusion_matrix: <ultralytics.utils.metrics.ConfusionMatrix object at 0x000002424CFE8080>\n",
       "curves: ['Precision-Recall(B)', 'F1-Confidence(B)', 'Precision-Confidence(B)', 'Recall-Confidence(B)']\n",
       "curves_results: [[array([          0,    0.001001,    0.002002,    0.003003,    0.004004,    0.005005,    0.006006,    0.007007,    0.008008,    0.009009,     0.01001,    0.011011,    0.012012,    0.013013,    0.014014,    0.015015,    0.016016,    0.017017,    0.018018,    0.019019,     0.02002,    0.021021,    0.022022,    0.023023,\n",
       "          0.024024,    0.025025,    0.026026,    0.027027,    0.028028,    0.029029,     0.03003,    0.031031,    0.032032,    0.033033,    0.034034,    0.035035,    0.036036,    0.037037,    0.038038,    0.039039,     0.04004,    0.041041,    0.042042,    0.043043,    0.044044,    0.045045,    0.046046,    0.047047,\n",
       "          0.048048,    0.049049,     0.05005,    0.051051,    0.052052,    0.053053,    0.054054,    0.055055,    0.056056,    0.057057,    0.058058,    0.059059,     0.06006,    0.061061,    0.062062,    0.063063,    0.064064,    0.065065,    0.066066,    0.067067,    0.068068,    0.069069,     0.07007,    0.071071,\n",
       "          0.072072,    0.073073,    0.074074,    0.075075,    0.076076,    0.077077,    0.078078,    0.079079,     0.08008,    0.081081,    0.082082,    0.083083,    0.084084,    0.085085,    0.086086,    0.087087,    0.088088,    0.089089,     0.09009,    0.091091,    0.092092,    0.093093,    0.094094,    0.095095,\n",
       "          0.096096,    0.097097,    0.098098,    0.099099,      0.1001,      0.1011,      0.1021,      0.1031,      0.1041,     0.10511,     0.10611,     0.10711,     0.10811,     0.10911,     0.11011,     0.11111,     0.11211,     0.11311,     0.11411,     0.11512,     0.11612,     0.11712,     0.11812,     0.11912,\n",
       "           0.12012,     0.12112,     0.12212,     0.12312,     0.12412,     0.12513,     0.12613,     0.12713,     0.12813,     0.12913,     0.13013,     0.13113,     0.13213,     0.13313,     0.13413,     0.13514,     0.13614,     0.13714,     0.13814,     0.13914,     0.14014,     0.14114,     0.14214,     0.14314,\n",
       "           0.14414,     0.14515,     0.14615,     0.14715,     0.14815,     0.14915,     0.15015,     0.15115,     0.15215,     0.15315,     0.15415,     0.15516,     0.15616,     0.15716,     0.15816,     0.15916,     0.16016,     0.16116,     0.16216,     0.16316,     0.16416,     0.16517,     0.16617,     0.16717,\n",
       "           0.16817,     0.16917,     0.17017,     0.17117,     0.17217,     0.17317,     0.17417,     0.17518,     0.17618,     0.17718,     0.17818,     0.17918,     0.18018,     0.18118,     0.18218,     0.18318,     0.18418,     0.18519,     0.18619,     0.18719,     0.18819,     0.18919,     0.19019,     0.19119,\n",
       "           0.19219,     0.19319,     0.19419,      0.1952,      0.1962,      0.1972,      0.1982,      0.1992,      0.2002,      0.2012,      0.2022,      0.2032,      0.2042,     0.20521,     0.20621,     0.20721,     0.20821,     0.20921,     0.21021,     0.21121,     0.21221,     0.21321,     0.21421,     0.21522,\n",
       "           0.21622,     0.21722,     0.21822,     0.21922,     0.22022,     0.22122,     0.22222,     0.22322,     0.22422,     0.22523,     0.22623,     0.22723,     0.22823,     0.22923,     0.23023,     0.23123,     0.23223,     0.23323,     0.23423,     0.23524,     0.23624,     0.23724,     0.23824,     0.23924,\n",
       "           0.24024,     0.24124,     0.24224,     0.24324,     0.24424,     0.24525,     0.24625,     0.24725,     0.24825,     0.24925,     0.25025,     0.25125,     0.25225,     0.25325,     0.25425,     0.25526,     0.25626,     0.25726,     0.25826,     0.25926,     0.26026,     0.26126,     0.26226,     0.26326,\n",
       "           0.26426,     0.26527,     0.26627,     0.26727,     0.26827,     0.26927,     0.27027,     0.27127,     0.27227,     0.27327,     0.27427,     0.27528,     0.27628,     0.27728,     0.27828,     0.27928,     0.28028,     0.28128,     0.28228,     0.28328,     0.28428,     0.28529,     0.28629,     0.28729,\n",
       "           0.28829,     0.28929,     0.29029,     0.29129,     0.29229,     0.29329,     0.29429,      0.2953,      0.2963,      0.2973,      0.2983,      0.2993,      0.3003,      0.3013,      0.3023,      0.3033,      0.3043,     0.30531,     0.30631,     0.30731,     0.30831,     0.30931,     0.31031,     0.31131,\n",
       "           0.31231,     0.31331,     0.31431,     0.31532,     0.31632,     0.31732,     0.31832,     0.31932,     0.32032,     0.32132,     0.32232,     0.32332,     0.32432,     0.32533,     0.32633,     0.32733,     0.32833,     0.32933,     0.33033,     0.33133,     0.33233,     0.33333,     0.33433,     0.33534,\n",
       "           0.33634,     0.33734,     0.33834,     0.33934,     0.34034,     0.34134,     0.34234,     0.34334,     0.34434,     0.34535,     0.34635,     0.34735,     0.34835,     0.34935,     0.35035,     0.35135,     0.35235,     0.35335,     0.35435,     0.35536,     0.35636,     0.35736,     0.35836,     0.35936,\n",
       "           0.36036,     0.36136,     0.36236,     0.36336,     0.36436,     0.36537,     0.36637,     0.36737,     0.36837,     0.36937,     0.37037,     0.37137,     0.37237,     0.37337,     0.37437,     0.37538,     0.37638,     0.37738,     0.37838,     0.37938,     0.38038,     0.38138,     0.38238,     0.38338,\n",
       "           0.38438,     0.38539,     0.38639,     0.38739,     0.38839,     0.38939,     0.39039,     0.39139,     0.39239,     0.39339,     0.39439,      0.3954,      0.3964,      0.3974,      0.3984,      0.3994,      0.4004,      0.4014,      0.4024,      0.4034,      0.4044,     0.40541,     0.40641,     0.40741,\n",
       "           0.40841,     0.40941,     0.41041,     0.41141,     0.41241,     0.41341,     0.41441,     0.41542,     0.41642,     0.41742,     0.41842,     0.41942,     0.42042,     0.42142,     0.42242,     0.42342,     0.42442,     0.42543,     0.42643,     0.42743,     0.42843,     0.42943,     0.43043,     0.43143,\n",
       "           0.43243,     0.43343,     0.43443,     0.43544,     0.43644,     0.43744,     0.43844,     0.43944,     0.44044,     0.44144,     0.44244,     0.44344,     0.44444,     0.44545,     0.44645,     0.44745,     0.44845,     0.44945,     0.45045,     0.45145,     0.45245,     0.45345,     0.45445,     0.45546,\n",
       "           0.45646,     0.45746,     0.45846,     0.45946,     0.46046,     0.46146,     0.46246,     0.46346,     0.46446,     0.46547,     0.46647,     0.46747,     0.46847,     0.46947,     0.47047,     0.47147,     0.47247,     0.47347,     0.47447,     0.47548,     0.47648,     0.47748,     0.47848,     0.47948,\n",
       "           0.48048,     0.48148,     0.48248,     0.48348,     0.48448,     0.48549,     0.48649,     0.48749,     0.48849,     0.48949,     0.49049,     0.49149,     0.49249,     0.49349,     0.49449,      0.4955,      0.4965,      0.4975,      0.4985,      0.4995,      0.5005,      0.5015,      0.5025,      0.5035,\n",
       "            0.5045,     0.50551,     0.50651,     0.50751,     0.50851,     0.50951,     0.51051,     0.51151,     0.51251,     0.51351,     0.51451,     0.51552,     0.51652,     0.51752,     0.51852,     0.51952,     0.52052,     0.52152,     0.52252,     0.52352,     0.52452,     0.52553,     0.52653,     0.52753,\n",
       "           0.52853,     0.52953,     0.53053,     0.53153,     0.53253,     0.53353,     0.53453,     0.53554,     0.53654,     0.53754,     0.53854,     0.53954,     0.54054,     0.54154,     0.54254,     0.54354,     0.54454,     0.54555,     0.54655,     0.54755,     0.54855,     0.54955,     0.55055,     0.55155,\n",
       "           0.55255,     0.55355,     0.55455,     0.55556,     0.55656,     0.55756,     0.55856,     0.55956,     0.56056,     0.56156,     0.56256,     0.56356,     0.56456,     0.56557,     0.56657,     0.56757,     0.56857,     0.56957,     0.57057,     0.57157,     0.57257,     0.57357,     0.57457,     0.57558,\n",
       "           0.57658,     0.57758,     0.57858,     0.57958,     0.58058,     0.58158,     0.58258,     0.58358,     0.58458,     0.58559,     0.58659,     0.58759,     0.58859,     0.58959,     0.59059,     0.59159,     0.59259,     0.59359,     0.59459,      0.5956,      0.5966,      0.5976,      0.5986,      0.5996,\n",
       "            0.6006,      0.6016,      0.6026,      0.6036,      0.6046,     0.60561,     0.60661,     0.60761,     0.60861,     0.60961,     0.61061,     0.61161,     0.61261,     0.61361,     0.61461,     0.61562,     0.61662,     0.61762,     0.61862,     0.61962,     0.62062,     0.62162,     0.62262,     0.62362,\n",
       "           0.62462,     0.62563,     0.62663,     0.62763,     0.62863,     0.62963,     0.63063,     0.63163,     0.63263,     0.63363,     0.63463,     0.63564,     0.63664,     0.63764,     0.63864,     0.63964,     0.64064,     0.64164,     0.64264,     0.64364,     0.64464,     0.64565,     0.64665,     0.64765,\n",
       "           0.64865,     0.64965,     0.65065,     0.65165,     0.65265,     0.65365,     0.65465,     0.65566,     0.65666,     0.65766,     0.65866,     0.65966,     0.66066,     0.66166,     0.66266,     0.66366,     0.66466,     0.66567,     0.66667,     0.66767,     0.66867,     0.66967,     0.67067,     0.67167,\n",
       "           0.67267,     0.67367,     0.67467,     0.67568,     0.67668,     0.67768,     0.67868,     0.67968,     0.68068,     0.68168,     0.68268,     0.68368,     0.68468,     0.68569,     0.68669,     0.68769,     0.68869,     0.68969,     0.69069,     0.69169,     0.69269,     0.69369,     0.69469,      0.6957,\n",
       "            0.6967,      0.6977,      0.6987,      0.6997,      0.7007,      0.7017,      0.7027,      0.7037,      0.7047,     0.70571,     0.70671,     0.70771,     0.70871,     0.70971,     0.71071,     0.71171,     0.71271,     0.71371,     0.71471,     0.71572,     0.71672,     0.71772,     0.71872,     0.71972,\n",
       "           0.72072,     0.72172,     0.72272,     0.72372,     0.72472,     0.72573,     0.72673,     0.72773,     0.72873,     0.72973,     0.73073,     0.73173,     0.73273,     0.73373,     0.73473,     0.73574,     0.73674,     0.73774,     0.73874,     0.73974,     0.74074,     0.74174,     0.74274,     0.74374,\n",
       "           0.74474,     0.74575,     0.74675,     0.74775,     0.74875,     0.74975,     0.75075,     0.75175,     0.75275,     0.75375,     0.75475,     0.75576,     0.75676,     0.75776,     0.75876,     0.75976,     0.76076,     0.76176,     0.76276,     0.76376,     0.76476,     0.76577,     0.76677,     0.76777,\n",
       "           0.76877,     0.76977,     0.77077,     0.77177,     0.77277,     0.77377,     0.77477,     0.77578,     0.77678,     0.77778,     0.77878,     0.77978,     0.78078,     0.78178,     0.78278,     0.78378,     0.78478,     0.78579,     0.78679,     0.78779,     0.78879,     0.78979,     0.79079,     0.79179,\n",
       "           0.79279,     0.79379,     0.79479,      0.7958,      0.7968,      0.7978,      0.7988,      0.7998,      0.8008,      0.8018,      0.8028,      0.8038,      0.8048,     0.80581,     0.80681,     0.80781,     0.80881,     0.80981,     0.81081,     0.81181,     0.81281,     0.81381,     0.81481,     0.81582,\n",
       "           0.81682,     0.81782,     0.81882,     0.81982,     0.82082,     0.82182,     0.82282,     0.82382,     0.82482,     0.82583,     0.82683,     0.82783,     0.82883,     0.82983,     0.83083,     0.83183,     0.83283,     0.83383,     0.83483,     0.83584,     0.83684,     0.83784,     0.83884,     0.83984,\n",
       "           0.84084,     0.84184,     0.84284,     0.84384,     0.84484,     0.84585,     0.84685,     0.84785,     0.84885,     0.84985,     0.85085,     0.85185,     0.85285,     0.85385,     0.85485,     0.85586,     0.85686,     0.85786,     0.85886,     0.85986,     0.86086,     0.86186,     0.86286,     0.86386,\n",
       "           0.86486,     0.86587,     0.86687,     0.86787,     0.86887,     0.86987,     0.87087,     0.87187,     0.87287,     0.87387,     0.87487,     0.87588,     0.87688,     0.87788,     0.87888,     0.87988,     0.88088,     0.88188,     0.88288,     0.88388,     0.88488,     0.88589,     0.88689,     0.88789,\n",
       "           0.88889,     0.88989,     0.89089,     0.89189,     0.89289,     0.89389,     0.89489,      0.8959,      0.8969,      0.8979,      0.8989,      0.8999,      0.9009,      0.9019,      0.9029,      0.9039,      0.9049,     0.90591,     0.90691,     0.90791,     0.90891,     0.90991,     0.91091,     0.91191,\n",
       "           0.91291,     0.91391,     0.91491,     0.91592,     0.91692,     0.91792,     0.91892,     0.91992,     0.92092,     0.92192,     0.92292,     0.92392,     0.92492,     0.92593,     0.92693,     0.92793,     0.92893,     0.92993,     0.93093,     0.93193,     0.93293,     0.93393,     0.93493,     0.93594,\n",
       "           0.93694,     0.93794,     0.93894,     0.93994,     0.94094,     0.94194,     0.94294,     0.94394,     0.94494,     0.94595,     0.94695,     0.94795,     0.94895,     0.94995,     0.95095,     0.95195,     0.95295,     0.95395,     0.95495,     0.95596,     0.95696,     0.95796,     0.95896,     0.95996,\n",
       "           0.96096,     0.96196,     0.96296,     0.96396,     0.96496,     0.96597,     0.96697,     0.96797,     0.96897,     0.96997,     0.97097,     0.97197,     0.97297,     0.97397,     0.97497,     0.97598,     0.97698,     0.97798,     0.97898,     0.97998,     0.98098,     0.98198,     0.98298,     0.98398,\n",
       "           0.98498,     0.98599,     0.98699,     0.98799,     0.98899,     0.98999,     0.99099,     0.99199,     0.99299,     0.99399,     0.99499,       0.996,       0.997,       0.998,       0.999,           1]), array([[          1,           1,           1, ...,   0.0049688,   0.0024844,           0],\n",
       "       [          1,           1,           1, ...,   0.0012081,  0.00060407,           0]]), 'Recall', 'Precision'], [array([          0,    0.001001,    0.002002,    0.003003,    0.004004,    0.005005,    0.006006,    0.007007,    0.008008,    0.009009,     0.01001,    0.011011,    0.012012,    0.013013,    0.014014,    0.015015,    0.016016,    0.017017,    0.018018,    0.019019,     0.02002,    0.021021,    0.022022,    0.023023,\n",
       "          0.024024,    0.025025,    0.026026,    0.027027,    0.028028,    0.029029,     0.03003,    0.031031,    0.032032,    0.033033,    0.034034,    0.035035,    0.036036,    0.037037,    0.038038,    0.039039,     0.04004,    0.041041,    0.042042,    0.043043,    0.044044,    0.045045,    0.046046,    0.047047,\n",
       "          0.048048,    0.049049,     0.05005,    0.051051,    0.052052,    0.053053,    0.054054,    0.055055,    0.056056,    0.057057,    0.058058,    0.059059,     0.06006,    0.061061,    0.062062,    0.063063,    0.064064,    0.065065,    0.066066,    0.067067,    0.068068,    0.069069,     0.07007,    0.071071,\n",
       "          0.072072,    0.073073,    0.074074,    0.075075,    0.076076,    0.077077,    0.078078,    0.079079,     0.08008,    0.081081,    0.082082,    0.083083,    0.084084,    0.085085,    0.086086,    0.087087,    0.088088,    0.089089,     0.09009,    0.091091,    0.092092,    0.093093,    0.094094,    0.095095,\n",
       "          0.096096,    0.097097,    0.098098,    0.099099,      0.1001,      0.1011,      0.1021,      0.1031,      0.1041,     0.10511,     0.10611,     0.10711,     0.10811,     0.10911,     0.11011,     0.11111,     0.11211,     0.11311,     0.11411,     0.11512,     0.11612,     0.11712,     0.11812,     0.11912,\n",
       "           0.12012,     0.12112,     0.12212,     0.12312,     0.12412,     0.12513,     0.12613,     0.12713,     0.12813,     0.12913,     0.13013,     0.13113,     0.13213,     0.13313,     0.13413,     0.13514,     0.13614,     0.13714,     0.13814,     0.13914,     0.14014,     0.14114,     0.14214,     0.14314,\n",
       "           0.14414,     0.14515,     0.14615,     0.14715,     0.14815,     0.14915,     0.15015,     0.15115,     0.15215,     0.15315,     0.15415,     0.15516,     0.15616,     0.15716,     0.15816,     0.15916,     0.16016,     0.16116,     0.16216,     0.16316,     0.16416,     0.16517,     0.16617,     0.16717,\n",
       "           0.16817,     0.16917,     0.17017,     0.17117,     0.17217,     0.17317,     0.17417,     0.17518,     0.17618,     0.17718,     0.17818,     0.17918,     0.18018,     0.18118,     0.18218,     0.18318,     0.18418,     0.18519,     0.18619,     0.18719,     0.18819,     0.18919,     0.19019,     0.19119,\n",
       "           0.19219,     0.19319,     0.19419,      0.1952,      0.1962,      0.1972,      0.1982,      0.1992,      0.2002,      0.2012,      0.2022,      0.2032,      0.2042,     0.20521,     0.20621,     0.20721,     0.20821,     0.20921,     0.21021,     0.21121,     0.21221,     0.21321,     0.21421,     0.21522,\n",
       "           0.21622,     0.21722,     0.21822,     0.21922,     0.22022,     0.22122,     0.22222,     0.22322,     0.22422,     0.22523,     0.22623,     0.22723,     0.22823,     0.22923,     0.23023,     0.23123,     0.23223,     0.23323,     0.23423,     0.23524,     0.23624,     0.23724,     0.23824,     0.23924,\n",
       "           0.24024,     0.24124,     0.24224,     0.24324,     0.24424,     0.24525,     0.24625,     0.24725,     0.24825,     0.24925,     0.25025,     0.25125,     0.25225,     0.25325,     0.25425,     0.25526,     0.25626,     0.25726,     0.25826,     0.25926,     0.26026,     0.26126,     0.26226,     0.26326,\n",
       "           0.26426,     0.26527,     0.26627,     0.26727,     0.26827,     0.26927,     0.27027,     0.27127,     0.27227,     0.27327,     0.27427,     0.27528,     0.27628,     0.27728,     0.27828,     0.27928,     0.28028,     0.28128,     0.28228,     0.28328,     0.28428,     0.28529,     0.28629,     0.28729,\n",
       "           0.28829,     0.28929,     0.29029,     0.29129,     0.29229,     0.29329,     0.29429,      0.2953,      0.2963,      0.2973,      0.2983,      0.2993,      0.3003,      0.3013,      0.3023,      0.3033,      0.3043,     0.30531,     0.30631,     0.30731,     0.30831,     0.30931,     0.31031,     0.31131,\n",
       "           0.31231,     0.31331,     0.31431,     0.31532,     0.31632,     0.31732,     0.31832,     0.31932,     0.32032,     0.32132,     0.32232,     0.32332,     0.32432,     0.32533,     0.32633,     0.32733,     0.32833,     0.32933,     0.33033,     0.33133,     0.33233,     0.33333,     0.33433,     0.33534,\n",
       "           0.33634,     0.33734,     0.33834,     0.33934,     0.34034,     0.34134,     0.34234,     0.34334,     0.34434,     0.34535,     0.34635,     0.34735,     0.34835,     0.34935,     0.35035,     0.35135,     0.35235,     0.35335,     0.35435,     0.35536,     0.35636,     0.35736,     0.35836,     0.35936,\n",
       "           0.36036,     0.36136,     0.36236,     0.36336,     0.36436,     0.36537,     0.36637,     0.36737,     0.36837,     0.36937,     0.37037,     0.37137,     0.37237,     0.37337,     0.37437,     0.37538,     0.37638,     0.37738,     0.37838,     0.37938,     0.38038,     0.38138,     0.38238,     0.38338,\n",
       "           0.38438,     0.38539,     0.38639,     0.38739,     0.38839,     0.38939,     0.39039,     0.39139,     0.39239,     0.39339,     0.39439,      0.3954,      0.3964,      0.3974,      0.3984,      0.3994,      0.4004,      0.4014,      0.4024,      0.4034,      0.4044,     0.40541,     0.40641,     0.40741,\n",
       "           0.40841,     0.40941,     0.41041,     0.41141,     0.41241,     0.41341,     0.41441,     0.41542,     0.41642,     0.41742,     0.41842,     0.41942,     0.42042,     0.42142,     0.42242,     0.42342,     0.42442,     0.42543,     0.42643,     0.42743,     0.42843,     0.42943,     0.43043,     0.43143,\n",
       "           0.43243,     0.43343,     0.43443,     0.43544,     0.43644,     0.43744,     0.43844,     0.43944,     0.44044,     0.44144,     0.44244,     0.44344,     0.44444,     0.44545,     0.44645,     0.44745,     0.44845,     0.44945,     0.45045,     0.45145,     0.45245,     0.45345,     0.45445,     0.45546,\n",
       "           0.45646,     0.45746,     0.45846,     0.45946,     0.46046,     0.46146,     0.46246,     0.46346,     0.46446,     0.46547,     0.46647,     0.46747,     0.46847,     0.46947,     0.47047,     0.47147,     0.47247,     0.47347,     0.47447,     0.47548,     0.47648,     0.47748,     0.47848,     0.47948,\n",
       "           0.48048,     0.48148,     0.48248,     0.48348,     0.48448,     0.48549,     0.48649,     0.48749,     0.48849,     0.48949,     0.49049,     0.49149,     0.49249,     0.49349,     0.49449,      0.4955,      0.4965,      0.4975,      0.4985,      0.4995,      0.5005,      0.5015,      0.5025,      0.5035,\n",
       "            0.5045,     0.50551,     0.50651,     0.50751,     0.50851,     0.50951,     0.51051,     0.51151,     0.51251,     0.51351,     0.51451,     0.51552,     0.51652,     0.51752,     0.51852,     0.51952,     0.52052,     0.52152,     0.52252,     0.52352,     0.52452,     0.52553,     0.52653,     0.52753,\n",
       "           0.52853,     0.52953,     0.53053,     0.53153,     0.53253,     0.53353,     0.53453,     0.53554,     0.53654,     0.53754,     0.53854,     0.53954,     0.54054,     0.54154,     0.54254,     0.54354,     0.54454,     0.54555,     0.54655,     0.54755,     0.54855,     0.54955,     0.55055,     0.55155,\n",
       "           0.55255,     0.55355,     0.55455,     0.55556,     0.55656,     0.55756,     0.55856,     0.55956,     0.56056,     0.56156,     0.56256,     0.56356,     0.56456,     0.56557,     0.56657,     0.56757,     0.56857,     0.56957,     0.57057,     0.57157,     0.57257,     0.57357,     0.57457,     0.57558,\n",
       "           0.57658,     0.57758,     0.57858,     0.57958,     0.58058,     0.58158,     0.58258,     0.58358,     0.58458,     0.58559,     0.58659,     0.58759,     0.58859,     0.58959,     0.59059,     0.59159,     0.59259,     0.59359,     0.59459,      0.5956,      0.5966,      0.5976,      0.5986,      0.5996,\n",
       "            0.6006,      0.6016,      0.6026,      0.6036,      0.6046,     0.60561,     0.60661,     0.60761,     0.60861,     0.60961,     0.61061,     0.61161,     0.61261,     0.61361,     0.61461,     0.61562,     0.61662,     0.61762,     0.61862,     0.61962,     0.62062,     0.62162,     0.62262,     0.62362,\n",
       "           0.62462,     0.62563,     0.62663,     0.62763,     0.62863,     0.62963,     0.63063,     0.63163,     0.63263,     0.63363,     0.63463,     0.63564,     0.63664,     0.63764,     0.63864,     0.63964,     0.64064,     0.64164,     0.64264,     0.64364,     0.64464,     0.64565,     0.64665,     0.64765,\n",
       "           0.64865,     0.64965,     0.65065,     0.65165,     0.65265,     0.65365,     0.65465,     0.65566,     0.65666,     0.65766,     0.65866,     0.65966,     0.66066,     0.66166,     0.66266,     0.66366,     0.66466,     0.66567,     0.66667,     0.66767,     0.66867,     0.66967,     0.67067,     0.67167,\n",
       "           0.67267,     0.67367,     0.67467,     0.67568,     0.67668,     0.67768,     0.67868,     0.67968,     0.68068,     0.68168,     0.68268,     0.68368,     0.68468,     0.68569,     0.68669,     0.68769,     0.68869,     0.68969,     0.69069,     0.69169,     0.69269,     0.69369,     0.69469,      0.6957,\n",
       "            0.6967,      0.6977,      0.6987,      0.6997,      0.7007,      0.7017,      0.7027,      0.7037,      0.7047,     0.70571,     0.70671,     0.70771,     0.70871,     0.70971,     0.71071,     0.71171,     0.71271,     0.71371,     0.71471,     0.71572,     0.71672,     0.71772,     0.71872,     0.71972,\n",
       "           0.72072,     0.72172,     0.72272,     0.72372,     0.72472,     0.72573,     0.72673,     0.72773,     0.72873,     0.72973,     0.73073,     0.73173,     0.73273,     0.73373,     0.73473,     0.73574,     0.73674,     0.73774,     0.73874,     0.73974,     0.74074,     0.74174,     0.74274,     0.74374,\n",
       "           0.74474,     0.74575,     0.74675,     0.74775,     0.74875,     0.74975,     0.75075,     0.75175,     0.75275,     0.75375,     0.75475,     0.75576,     0.75676,     0.75776,     0.75876,     0.75976,     0.76076,     0.76176,     0.76276,     0.76376,     0.76476,     0.76577,     0.76677,     0.76777,\n",
       "           0.76877,     0.76977,     0.77077,     0.77177,     0.77277,     0.77377,     0.77477,     0.77578,     0.77678,     0.77778,     0.77878,     0.77978,     0.78078,     0.78178,     0.78278,     0.78378,     0.78478,     0.78579,     0.78679,     0.78779,     0.78879,     0.78979,     0.79079,     0.79179,\n",
       "           0.79279,     0.79379,     0.79479,      0.7958,      0.7968,      0.7978,      0.7988,      0.7998,      0.8008,      0.8018,      0.8028,      0.8038,      0.8048,     0.80581,     0.80681,     0.80781,     0.80881,     0.80981,     0.81081,     0.81181,     0.81281,     0.81381,     0.81481,     0.81582,\n",
       "           0.81682,     0.81782,     0.81882,     0.81982,     0.82082,     0.82182,     0.82282,     0.82382,     0.82482,     0.82583,     0.82683,     0.82783,     0.82883,     0.82983,     0.83083,     0.83183,     0.83283,     0.83383,     0.83483,     0.83584,     0.83684,     0.83784,     0.83884,     0.83984,\n",
       "           0.84084,     0.84184,     0.84284,     0.84384,     0.84484,     0.84585,     0.84685,     0.84785,     0.84885,     0.84985,     0.85085,     0.85185,     0.85285,     0.85385,     0.85485,     0.85586,     0.85686,     0.85786,     0.85886,     0.85986,     0.86086,     0.86186,     0.86286,     0.86386,\n",
       "           0.86486,     0.86587,     0.86687,     0.86787,     0.86887,     0.86987,     0.87087,     0.87187,     0.87287,     0.87387,     0.87487,     0.87588,     0.87688,     0.87788,     0.87888,     0.87988,     0.88088,     0.88188,     0.88288,     0.88388,     0.88488,     0.88589,     0.88689,     0.88789,\n",
       "           0.88889,     0.88989,     0.89089,     0.89189,     0.89289,     0.89389,     0.89489,      0.8959,      0.8969,      0.8979,      0.8989,      0.8999,      0.9009,      0.9019,      0.9029,      0.9039,      0.9049,     0.90591,     0.90691,     0.90791,     0.90891,     0.90991,     0.91091,     0.91191,\n",
       "           0.91291,     0.91391,     0.91491,     0.91592,     0.91692,     0.91792,     0.91892,     0.91992,     0.92092,     0.92192,     0.92292,     0.92392,     0.92492,     0.92593,     0.92693,     0.92793,     0.92893,     0.92993,     0.93093,     0.93193,     0.93293,     0.93393,     0.93493,     0.93594,\n",
       "           0.93694,     0.93794,     0.93894,     0.93994,     0.94094,     0.94194,     0.94294,     0.94394,     0.94494,     0.94595,     0.94695,     0.94795,     0.94895,     0.94995,     0.95095,     0.95195,     0.95295,     0.95395,     0.95495,     0.95596,     0.95696,     0.95796,     0.95896,     0.95996,\n",
       "           0.96096,     0.96196,     0.96296,     0.96396,     0.96496,     0.96597,     0.96697,     0.96797,     0.96897,     0.96997,     0.97097,     0.97197,     0.97297,     0.97397,     0.97497,     0.97598,     0.97698,     0.97798,     0.97898,     0.97998,     0.98098,     0.98198,     0.98298,     0.98398,\n",
       "           0.98498,     0.98599,     0.98699,     0.98799,     0.98899,     0.98999,     0.99099,     0.99199,     0.99299,     0.99399,     0.99499,       0.996,       0.997,       0.998,       0.999,           1]), array([[    0.17994,     0.18002,     0.29949, ...,           0,           0,           0],\n",
       "       [    0.12569,     0.12571,     0.17637, ...,           0,           0,           0]]), 'Confidence', 'F1'], [array([          0,    0.001001,    0.002002,    0.003003,    0.004004,    0.005005,    0.006006,    0.007007,    0.008008,    0.009009,     0.01001,    0.011011,    0.012012,    0.013013,    0.014014,    0.015015,    0.016016,    0.017017,    0.018018,    0.019019,     0.02002,    0.021021,    0.022022,    0.023023,\n",
       "          0.024024,    0.025025,    0.026026,    0.027027,    0.028028,    0.029029,     0.03003,    0.031031,    0.032032,    0.033033,    0.034034,    0.035035,    0.036036,    0.037037,    0.038038,    0.039039,     0.04004,    0.041041,    0.042042,    0.043043,    0.044044,    0.045045,    0.046046,    0.047047,\n",
       "          0.048048,    0.049049,     0.05005,    0.051051,    0.052052,    0.053053,    0.054054,    0.055055,    0.056056,    0.057057,    0.058058,    0.059059,     0.06006,    0.061061,    0.062062,    0.063063,    0.064064,    0.065065,    0.066066,    0.067067,    0.068068,    0.069069,     0.07007,    0.071071,\n",
       "          0.072072,    0.073073,    0.074074,    0.075075,    0.076076,    0.077077,    0.078078,    0.079079,     0.08008,    0.081081,    0.082082,    0.083083,    0.084084,    0.085085,    0.086086,    0.087087,    0.088088,    0.089089,     0.09009,    0.091091,    0.092092,    0.093093,    0.094094,    0.095095,\n",
       "          0.096096,    0.097097,    0.098098,    0.099099,      0.1001,      0.1011,      0.1021,      0.1031,      0.1041,     0.10511,     0.10611,     0.10711,     0.10811,     0.10911,     0.11011,     0.11111,     0.11211,     0.11311,     0.11411,     0.11512,     0.11612,     0.11712,     0.11812,     0.11912,\n",
       "           0.12012,     0.12112,     0.12212,     0.12312,     0.12412,     0.12513,     0.12613,     0.12713,     0.12813,     0.12913,     0.13013,     0.13113,     0.13213,     0.13313,     0.13413,     0.13514,     0.13614,     0.13714,     0.13814,     0.13914,     0.14014,     0.14114,     0.14214,     0.14314,\n",
       "           0.14414,     0.14515,     0.14615,     0.14715,     0.14815,     0.14915,     0.15015,     0.15115,     0.15215,     0.15315,     0.15415,     0.15516,     0.15616,     0.15716,     0.15816,     0.15916,     0.16016,     0.16116,     0.16216,     0.16316,     0.16416,     0.16517,     0.16617,     0.16717,\n",
       "           0.16817,     0.16917,     0.17017,     0.17117,     0.17217,     0.17317,     0.17417,     0.17518,     0.17618,     0.17718,     0.17818,     0.17918,     0.18018,     0.18118,     0.18218,     0.18318,     0.18418,     0.18519,     0.18619,     0.18719,     0.18819,     0.18919,     0.19019,     0.19119,\n",
       "           0.19219,     0.19319,     0.19419,      0.1952,      0.1962,      0.1972,      0.1982,      0.1992,      0.2002,      0.2012,      0.2022,      0.2032,      0.2042,     0.20521,     0.20621,     0.20721,     0.20821,     0.20921,     0.21021,     0.21121,     0.21221,     0.21321,     0.21421,     0.21522,\n",
       "           0.21622,     0.21722,     0.21822,     0.21922,     0.22022,     0.22122,     0.22222,     0.22322,     0.22422,     0.22523,     0.22623,     0.22723,     0.22823,     0.22923,     0.23023,     0.23123,     0.23223,     0.23323,     0.23423,     0.23524,     0.23624,     0.23724,     0.23824,     0.23924,\n",
       "           0.24024,     0.24124,     0.24224,     0.24324,     0.24424,     0.24525,     0.24625,     0.24725,     0.24825,     0.24925,     0.25025,     0.25125,     0.25225,     0.25325,     0.25425,     0.25526,     0.25626,     0.25726,     0.25826,     0.25926,     0.26026,     0.26126,     0.26226,     0.26326,\n",
       "           0.26426,     0.26527,     0.26627,     0.26727,     0.26827,     0.26927,     0.27027,     0.27127,     0.27227,     0.27327,     0.27427,     0.27528,     0.27628,     0.27728,     0.27828,     0.27928,     0.28028,     0.28128,     0.28228,     0.28328,     0.28428,     0.28529,     0.28629,     0.28729,\n",
       "           0.28829,     0.28929,     0.29029,     0.29129,     0.29229,     0.29329,     0.29429,      0.2953,      0.2963,      0.2973,      0.2983,      0.2993,      0.3003,      0.3013,      0.3023,      0.3033,      0.3043,     0.30531,     0.30631,     0.30731,     0.30831,     0.30931,     0.31031,     0.31131,\n",
       "           0.31231,     0.31331,     0.31431,     0.31532,     0.31632,     0.31732,     0.31832,     0.31932,     0.32032,     0.32132,     0.32232,     0.32332,     0.32432,     0.32533,     0.32633,     0.32733,     0.32833,     0.32933,     0.33033,     0.33133,     0.33233,     0.33333,     0.33433,     0.33534,\n",
       "           0.33634,     0.33734,     0.33834,     0.33934,     0.34034,     0.34134,     0.34234,     0.34334,     0.34434,     0.34535,     0.34635,     0.34735,     0.34835,     0.34935,     0.35035,     0.35135,     0.35235,     0.35335,     0.35435,     0.35536,     0.35636,     0.35736,     0.35836,     0.35936,\n",
       "           0.36036,     0.36136,     0.36236,     0.36336,     0.36436,     0.36537,     0.36637,     0.36737,     0.36837,     0.36937,     0.37037,     0.37137,     0.37237,     0.37337,     0.37437,     0.37538,     0.37638,     0.37738,     0.37838,     0.37938,     0.38038,     0.38138,     0.38238,     0.38338,\n",
       "           0.38438,     0.38539,     0.38639,     0.38739,     0.38839,     0.38939,     0.39039,     0.39139,     0.39239,     0.39339,     0.39439,      0.3954,      0.3964,      0.3974,      0.3984,      0.3994,      0.4004,      0.4014,      0.4024,      0.4034,      0.4044,     0.40541,     0.40641,     0.40741,\n",
       "           0.40841,     0.40941,     0.41041,     0.41141,     0.41241,     0.41341,     0.41441,     0.41542,     0.41642,     0.41742,     0.41842,     0.41942,     0.42042,     0.42142,     0.42242,     0.42342,     0.42442,     0.42543,     0.42643,     0.42743,     0.42843,     0.42943,     0.43043,     0.43143,\n",
       "           0.43243,     0.43343,     0.43443,     0.43544,     0.43644,     0.43744,     0.43844,     0.43944,     0.44044,     0.44144,     0.44244,     0.44344,     0.44444,     0.44545,     0.44645,     0.44745,     0.44845,     0.44945,     0.45045,     0.45145,     0.45245,     0.45345,     0.45445,     0.45546,\n",
       "           0.45646,     0.45746,     0.45846,     0.45946,     0.46046,     0.46146,     0.46246,     0.46346,     0.46446,     0.46547,     0.46647,     0.46747,     0.46847,     0.46947,     0.47047,     0.47147,     0.47247,     0.47347,     0.47447,     0.47548,     0.47648,     0.47748,     0.47848,     0.47948,\n",
       "           0.48048,     0.48148,     0.48248,     0.48348,     0.48448,     0.48549,     0.48649,     0.48749,     0.48849,     0.48949,     0.49049,     0.49149,     0.49249,     0.49349,     0.49449,      0.4955,      0.4965,      0.4975,      0.4985,      0.4995,      0.5005,      0.5015,      0.5025,      0.5035,\n",
       "            0.5045,     0.50551,     0.50651,     0.50751,     0.50851,     0.50951,     0.51051,     0.51151,     0.51251,     0.51351,     0.51451,     0.51552,     0.51652,     0.51752,     0.51852,     0.51952,     0.52052,     0.52152,     0.52252,     0.52352,     0.52452,     0.52553,     0.52653,     0.52753,\n",
       "           0.52853,     0.52953,     0.53053,     0.53153,     0.53253,     0.53353,     0.53453,     0.53554,     0.53654,     0.53754,     0.53854,     0.53954,     0.54054,     0.54154,     0.54254,     0.54354,     0.54454,     0.54555,     0.54655,     0.54755,     0.54855,     0.54955,     0.55055,     0.55155,\n",
       "           0.55255,     0.55355,     0.55455,     0.55556,     0.55656,     0.55756,     0.55856,     0.55956,     0.56056,     0.56156,     0.56256,     0.56356,     0.56456,     0.56557,     0.56657,     0.56757,     0.56857,     0.56957,     0.57057,     0.57157,     0.57257,     0.57357,     0.57457,     0.57558,\n",
       "           0.57658,     0.57758,     0.57858,     0.57958,     0.58058,     0.58158,     0.58258,     0.58358,     0.58458,     0.58559,     0.58659,     0.58759,     0.58859,     0.58959,     0.59059,     0.59159,     0.59259,     0.59359,     0.59459,      0.5956,      0.5966,      0.5976,      0.5986,      0.5996,\n",
       "            0.6006,      0.6016,      0.6026,      0.6036,      0.6046,     0.60561,     0.60661,     0.60761,     0.60861,     0.60961,     0.61061,     0.61161,     0.61261,     0.61361,     0.61461,     0.61562,     0.61662,     0.61762,     0.61862,     0.61962,     0.62062,     0.62162,     0.62262,     0.62362,\n",
       "           0.62462,     0.62563,     0.62663,     0.62763,     0.62863,     0.62963,     0.63063,     0.63163,     0.63263,     0.63363,     0.63463,     0.63564,     0.63664,     0.63764,     0.63864,     0.63964,     0.64064,     0.64164,     0.64264,     0.64364,     0.64464,     0.64565,     0.64665,     0.64765,\n",
       "           0.64865,     0.64965,     0.65065,     0.65165,     0.65265,     0.65365,     0.65465,     0.65566,     0.65666,     0.65766,     0.65866,     0.65966,     0.66066,     0.66166,     0.66266,     0.66366,     0.66466,     0.66567,     0.66667,     0.66767,     0.66867,     0.66967,     0.67067,     0.67167,\n",
       "           0.67267,     0.67367,     0.67467,     0.67568,     0.67668,     0.67768,     0.67868,     0.67968,     0.68068,     0.68168,     0.68268,     0.68368,     0.68468,     0.68569,     0.68669,     0.68769,     0.68869,     0.68969,     0.69069,     0.69169,     0.69269,     0.69369,     0.69469,      0.6957,\n",
       "            0.6967,      0.6977,      0.6987,      0.6997,      0.7007,      0.7017,      0.7027,      0.7037,      0.7047,     0.70571,     0.70671,     0.70771,     0.70871,     0.70971,     0.71071,     0.71171,     0.71271,     0.71371,     0.71471,     0.71572,     0.71672,     0.71772,     0.71872,     0.71972,\n",
       "           0.72072,     0.72172,     0.72272,     0.72372,     0.72472,     0.72573,     0.72673,     0.72773,     0.72873,     0.72973,     0.73073,     0.73173,     0.73273,     0.73373,     0.73473,     0.73574,     0.73674,     0.73774,     0.73874,     0.73974,     0.74074,     0.74174,     0.74274,     0.74374,\n",
       "           0.74474,     0.74575,     0.74675,     0.74775,     0.74875,     0.74975,     0.75075,     0.75175,     0.75275,     0.75375,     0.75475,     0.75576,     0.75676,     0.75776,     0.75876,     0.75976,     0.76076,     0.76176,     0.76276,     0.76376,     0.76476,     0.76577,     0.76677,     0.76777,\n",
       "           0.76877,     0.76977,     0.77077,     0.77177,     0.77277,     0.77377,     0.77477,     0.77578,     0.77678,     0.77778,     0.77878,     0.77978,     0.78078,     0.78178,     0.78278,     0.78378,     0.78478,     0.78579,     0.78679,     0.78779,     0.78879,     0.78979,     0.79079,     0.79179,\n",
       "           0.79279,     0.79379,     0.79479,      0.7958,      0.7968,      0.7978,      0.7988,      0.7998,      0.8008,      0.8018,      0.8028,      0.8038,      0.8048,     0.80581,     0.80681,     0.80781,     0.80881,     0.80981,     0.81081,     0.81181,     0.81281,     0.81381,     0.81481,     0.81582,\n",
       "           0.81682,     0.81782,     0.81882,     0.81982,     0.82082,     0.82182,     0.82282,     0.82382,     0.82482,     0.82583,     0.82683,     0.82783,     0.82883,     0.82983,     0.83083,     0.83183,     0.83283,     0.83383,     0.83483,     0.83584,     0.83684,     0.83784,     0.83884,     0.83984,\n",
       "           0.84084,     0.84184,     0.84284,     0.84384,     0.84484,     0.84585,     0.84685,     0.84785,     0.84885,     0.84985,     0.85085,     0.85185,     0.85285,     0.85385,     0.85485,     0.85586,     0.85686,     0.85786,     0.85886,     0.85986,     0.86086,     0.86186,     0.86286,     0.86386,\n",
       "           0.86486,     0.86587,     0.86687,     0.86787,     0.86887,     0.86987,     0.87087,     0.87187,     0.87287,     0.87387,     0.87487,     0.87588,     0.87688,     0.87788,     0.87888,     0.87988,     0.88088,     0.88188,     0.88288,     0.88388,     0.88488,     0.88589,     0.88689,     0.88789,\n",
       "           0.88889,     0.88989,     0.89089,     0.89189,     0.89289,     0.89389,     0.89489,      0.8959,      0.8969,      0.8979,      0.8989,      0.8999,      0.9009,      0.9019,      0.9029,      0.9039,      0.9049,     0.90591,     0.90691,     0.90791,     0.90891,     0.90991,     0.91091,     0.91191,\n",
       "           0.91291,     0.91391,     0.91491,     0.91592,     0.91692,     0.91792,     0.91892,     0.91992,     0.92092,     0.92192,     0.92292,     0.92392,     0.92492,     0.92593,     0.92693,     0.92793,     0.92893,     0.92993,     0.93093,     0.93193,     0.93293,     0.93393,     0.93493,     0.93594,\n",
       "           0.93694,     0.93794,     0.93894,     0.93994,     0.94094,     0.94194,     0.94294,     0.94394,     0.94494,     0.94595,     0.94695,     0.94795,     0.94895,     0.94995,     0.95095,     0.95195,     0.95295,     0.95395,     0.95495,     0.95596,     0.95696,     0.95796,     0.95896,     0.95996,\n",
       "           0.96096,     0.96196,     0.96296,     0.96396,     0.96496,     0.96597,     0.96697,     0.96797,     0.96897,     0.96997,     0.97097,     0.97197,     0.97297,     0.97397,     0.97497,     0.97598,     0.97698,     0.97798,     0.97898,     0.97998,     0.98098,     0.98198,     0.98298,     0.98398,\n",
       "           0.98498,     0.98599,     0.98699,     0.98799,     0.98899,     0.98999,     0.99099,     0.99199,     0.99299,     0.99399,     0.99499,       0.996,       0.997,       0.998,       0.999,           1]), array([[   0.099276,    0.099322,     0.17848, ...,           1,           1,           1],\n",
       "       [    0.06763,    0.067642,    0.098013, ...,           1,           1,           1]]), 'Confidence', 'Precision'], [array([          0,    0.001001,    0.002002,    0.003003,    0.004004,    0.005005,    0.006006,    0.007007,    0.008008,    0.009009,     0.01001,    0.011011,    0.012012,    0.013013,    0.014014,    0.015015,    0.016016,    0.017017,    0.018018,    0.019019,     0.02002,    0.021021,    0.022022,    0.023023,\n",
       "          0.024024,    0.025025,    0.026026,    0.027027,    0.028028,    0.029029,     0.03003,    0.031031,    0.032032,    0.033033,    0.034034,    0.035035,    0.036036,    0.037037,    0.038038,    0.039039,     0.04004,    0.041041,    0.042042,    0.043043,    0.044044,    0.045045,    0.046046,    0.047047,\n",
       "          0.048048,    0.049049,     0.05005,    0.051051,    0.052052,    0.053053,    0.054054,    0.055055,    0.056056,    0.057057,    0.058058,    0.059059,     0.06006,    0.061061,    0.062062,    0.063063,    0.064064,    0.065065,    0.066066,    0.067067,    0.068068,    0.069069,     0.07007,    0.071071,\n",
       "          0.072072,    0.073073,    0.074074,    0.075075,    0.076076,    0.077077,    0.078078,    0.079079,     0.08008,    0.081081,    0.082082,    0.083083,    0.084084,    0.085085,    0.086086,    0.087087,    0.088088,    0.089089,     0.09009,    0.091091,    0.092092,    0.093093,    0.094094,    0.095095,\n",
       "          0.096096,    0.097097,    0.098098,    0.099099,      0.1001,      0.1011,      0.1021,      0.1031,      0.1041,     0.10511,     0.10611,     0.10711,     0.10811,     0.10911,     0.11011,     0.11111,     0.11211,     0.11311,     0.11411,     0.11512,     0.11612,     0.11712,     0.11812,     0.11912,\n",
       "           0.12012,     0.12112,     0.12212,     0.12312,     0.12412,     0.12513,     0.12613,     0.12713,     0.12813,     0.12913,     0.13013,     0.13113,     0.13213,     0.13313,     0.13413,     0.13514,     0.13614,     0.13714,     0.13814,     0.13914,     0.14014,     0.14114,     0.14214,     0.14314,\n",
       "           0.14414,     0.14515,     0.14615,     0.14715,     0.14815,     0.14915,     0.15015,     0.15115,     0.15215,     0.15315,     0.15415,     0.15516,     0.15616,     0.15716,     0.15816,     0.15916,     0.16016,     0.16116,     0.16216,     0.16316,     0.16416,     0.16517,     0.16617,     0.16717,\n",
       "           0.16817,     0.16917,     0.17017,     0.17117,     0.17217,     0.17317,     0.17417,     0.17518,     0.17618,     0.17718,     0.17818,     0.17918,     0.18018,     0.18118,     0.18218,     0.18318,     0.18418,     0.18519,     0.18619,     0.18719,     0.18819,     0.18919,     0.19019,     0.19119,\n",
       "           0.19219,     0.19319,     0.19419,      0.1952,      0.1962,      0.1972,      0.1982,      0.1992,      0.2002,      0.2012,      0.2022,      0.2032,      0.2042,     0.20521,     0.20621,     0.20721,     0.20821,     0.20921,     0.21021,     0.21121,     0.21221,     0.21321,     0.21421,     0.21522,\n",
       "           0.21622,     0.21722,     0.21822,     0.21922,     0.22022,     0.22122,     0.22222,     0.22322,     0.22422,     0.22523,     0.22623,     0.22723,     0.22823,     0.22923,     0.23023,     0.23123,     0.23223,     0.23323,     0.23423,     0.23524,     0.23624,     0.23724,     0.23824,     0.23924,\n",
       "           0.24024,     0.24124,     0.24224,     0.24324,     0.24424,     0.24525,     0.24625,     0.24725,     0.24825,     0.24925,     0.25025,     0.25125,     0.25225,     0.25325,     0.25425,     0.25526,     0.25626,     0.25726,     0.25826,     0.25926,     0.26026,     0.26126,     0.26226,     0.26326,\n",
       "           0.26426,     0.26527,     0.26627,     0.26727,     0.26827,     0.26927,     0.27027,     0.27127,     0.27227,     0.27327,     0.27427,     0.27528,     0.27628,     0.27728,     0.27828,     0.27928,     0.28028,     0.28128,     0.28228,     0.28328,     0.28428,     0.28529,     0.28629,     0.28729,\n",
       "           0.28829,     0.28929,     0.29029,     0.29129,     0.29229,     0.29329,     0.29429,      0.2953,      0.2963,      0.2973,      0.2983,      0.2993,      0.3003,      0.3013,      0.3023,      0.3033,      0.3043,     0.30531,     0.30631,     0.30731,     0.30831,     0.30931,     0.31031,     0.31131,\n",
       "           0.31231,     0.31331,     0.31431,     0.31532,     0.31632,     0.31732,     0.31832,     0.31932,     0.32032,     0.32132,     0.32232,     0.32332,     0.32432,     0.32533,     0.32633,     0.32733,     0.32833,     0.32933,     0.33033,     0.33133,     0.33233,     0.33333,     0.33433,     0.33534,\n",
       "           0.33634,     0.33734,     0.33834,     0.33934,     0.34034,     0.34134,     0.34234,     0.34334,     0.34434,     0.34535,     0.34635,     0.34735,     0.34835,     0.34935,     0.35035,     0.35135,     0.35235,     0.35335,     0.35435,     0.35536,     0.35636,     0.35736,     0.35836,     0.35936,\n",
       "           0.36036,     0.36136,     0.36236,     0.36336,     0.36436,     0.36537,     0.36637,     0.36737,     0.36837,     0.36937,     0.37037,     0.37137,     0.37237,     0.37337,     0.37437,     0.37538,     0.37638,     0.37738,     0.37838,     0.37938,     0.38038,     0.38138,     0.38238,     0.38338,\n",
       "           0.38438,     0.38539,     0.38639,     0.38739,     0.38839,     0.38939,     0.39039,     0.39139,     0.39239,     0.39339,     0.39439,      0.3954,      0.3964,      0.3974,      0.3984,      0.3994,      0.4004,      0.4014,      0.4024,      0.4034,      0.4044,     0.40541,     0.40641,     0.40741,\n",
       "           0.40841,     0.40941,     0.41041,     0.41141,     0.41241,     0.41341,     0.41441,     0.41542,     0.41642,     0.41742,     0.41842,     0.41942,     0.42042,     0.42142,     0.42242,     0.42342,     0.42442,     0.42543,     0.42643,     0.42743,     0.42843,     0.42943,     0.43043,     0.43143,\n",
       "           0.43243,     0.43343,     0.43443,     0.43544,     0.43644,     0.43744,     0.43844,     0.43944,     0.44044,     0.44144,     0.44244,     0.44344,     0.44444,     0.44545,     0.44645,     0.44745,     0.44845,     0.44945,     0.45045,     0.45145,     0.45245,     0.45345,     0.45445,     0.45546,\n",
       "           0.45646,     0.45746,     0.45846,     0.45946,     0.46046,     0.46146,     0.46246,     0.46346,     0.46446,     0.46547,     0.46647,     0.46747,     0.46847,     0.46947,     0.47047,     0.47147,     0.47247,     0.47347,     0.47447,     0.47548,     0.47648,     0.47748,     0.47848,     0.47948,\n",
       "           0.48048,     0.48148,     0.48248,     0.48348,     0.48448,     0.48549,     0.48649,     0.48749,     0.48849,     0.48949,     0.49049,     0.49149,     0.49249,     0.49349,     0.49449,      0.4955,      0.4965,      0.4975,      0.4985,      0.4995,      0.5005,      0.5015,      0.5025,      0.5035,\n",
       "            0.5045,     0.50551,     0.50651,     0.50751,     0.50851,     0.50951,     0.51051,     0.51151,     0.51251,     0.51351,     0.51451,     0.51552,     0.51652,     0.51752,     0.51852,     0.51952,     0.52052,     0.52152,     0.52252,     0.52352,     0.52452,     0.52553,     0.52653,     0.52753,\n",
       "           0.52853,     0.52953,     0.53053,     0.53153,     0.53253,     0.53353,     0.53453,     0.53554,     0.53654,     0.53754,     0.53854,     0.53954,     0.54054,     0.54154,     0.54254,     0.54354,     0.54454,     0.54555,     0.54655,     0.54755,     0.54855,     0.54955,     0.55055,     0.55155,\n",
       "           0.55255,     0.55355,     0.55455,     0.55556,     0.55656,     0.55756,     0.55856,     0.55956,     0.56056,     0.56156,     0.56256,     0.56356,     0.56456,     0.56557,     0.56657,     0.56757,     0.56857,     0.56957,     0.57057,     0.57157,     0.57257,     0.57357,     0.57457,     0.57558,\n",
       "           0.57658,     0.57758,     0.57858,     0.57958,     0.58058,     0.58158,     0.58258,     0.58358,     0.58458,     0.58559,     0.58659,     0.58759,     0.58859,     0.58959,     0.59059,     0.59159,     0.59259,     0.59359,     0.59459,      0.5956,      0.5966,      0.5976,      0.5986,      0.5996,\n",
       "            0.6006,      0.6016,      0.6026,      0.6036,      0.6046,     0.60561,     0.60661,     0.60761,     0.60861,     0.60961,     0.61061,     0.61161,     0.61261,     0.61361,     0.61461,     0.61562,     0.61662,     0.61762,     0.61862,     0.61962,     0.62062,     0.62162,     0.62262,     0.62362,\n",
       "           0.62462,     0.62563,     0.62663,     0.62763,     0.62863,     0.62963,     0.63063,     0.63163,     0.63263,     0.63363,     0.63463,     0.63564,     0.63664,     0.63764,     0.63864,     0.63964,     0.64064,     0.64164,     0.64264,     0.64364,     0.64464,     0.64565,     0.64665,     0.64765,\n",
       "           0.64865,     0.64965,     0.65065,     0.65165,     0.65265,     0.65365,     0.65465,     0.65566,     0.65666,     0.65766,     0.65866,     0.65966,     0.66066,     0.66166,     0.66266,     0.66366,     0.66466,     0.66567,     0.66667,     0.66767,     0.66867,     0.66967,     0.67067,     0.67167,\n",
       "           0.67267,     0.67367,     0.67467,     0.67568,     0.67668,     0.67768,     0.67868,     0.67968,     0.68068,     0.68168,     0.68268,     0.68368,     0.68468,     0.68569,     0.68669,     0.68769,     0.68869,     0.68969,     0.69069,     0.69169,     0.69269,     0.69369,     0.69469,      0.6957,\n",
       "            0.6967,      0.6977,      0.6987,      0.6997,      0.7007,      0.7017,      0.7027,      0.7037,      0.7047,     0.70571,     0.70671,     0.70771,     0.70871,     0.70971,     0.71071,     0.71171,     0.71271,     0.71371,     0.71471,     0.71572,     0.71672,     0.71772,     0.71872,     0.71972,\n",
       "           0.72072,     0.72172,     0.72272,     0.72372,     0.72472,     0.72573,     0.72673,     0.72773,     0.72873,     0.72973,     0.73073,     0.73173,     0.73273,     0.73373,     0.73473,     0.73574,     0.73674,     0.73774,     0.73874,     0.73974,     0.74074,     0.74174,     0.74274,     0.74374,\n",
       "           0.74474,     0.74575,     0.74675,     0.74775,     0.74875,     0.74975,     0.75075,     0.75175,     0.75275,     0.75375,     0.75475,     0.75576,     0.75676,     0.75776,     0.75876,     0.75976,     0.76076,     0.76176,     0.76276,     0.76376,     0.76476,     0.76577,     0.76677,     0.76777,\n",
       "           0.76877,     0.76977,     0.77077,     0.77177,     0.77277,     0.77377,     0.77477,     0.77578,     0.77678,     0.77778,     0.77878,     0.77978,     0.78078,     0.78178,     0.78278,     0.78378,     0.78478,     0.78579,     0.78679,     0.78779,     0.78879,     0.78979,     0.79079,     0.79179,\n",
       "           0.79279,     0.79379,     0.79479,      0.7958,      0.7968,      0.7978,      0.7988,      0.7998,      0.8008,      0.8018,      0.8028,      0.8038,      0.8048,     0.80581,     0.80681,     0.80781,     0.80881,     0.80981,     0.81081,     0.81181,     0.81281,     0.81381,     0.81481,     0.81582,\n",
       "           0.81682,     0.81782,     0.81882,     0.81982,     0.82082,     0.82182,     0.82282,     0.82382,     0.82482,     0.82583,     0.82683,     0.82783,     0.82883,     0.82983,     0.83083,     0.83183,     0.83283,     0.83383,     0.83483,     0.83584,     0.83684,     0.83784,     0.83884,     0.83984,\n",
       "           0.84084,     0.84184,     0.84284,     0.84384,     0.84484,     0.84585,     0.84685,     0.84785,     0.84885,     0.84985,     0.85085,     0.85185,     0.85285,     0.85385,     0.85485,     0.85586,     0.85686,     0.85786,     0.85886,     0.85986,     0.86086,     0.86186,     0.86286,     0.86386,\n",
       "           0.86486,     0.86587,     0.86687,     0.86787,     0.86887,     0.86987,     0.87087,     0.87187,     0.87287,     0.87387,     0.87487,     0.87588,     0.87688,     0.87788,     0.87888,     0.87988,     0.88088,     0.88188,     0.88288,     0.88388,     0.88488,     0.88589,     0.88689,     0.88789,\n",
       "           0.88889,     0.88989,     0.89089,     0.89189,     0.89289,     0.89389,     0.89489,      0.8959,      0.8969,      0.8979,      0.8989,      0.8999,      0.9009,      0.9019,      0.9029,      0.9039,      0.9049,     0.90591,     0.90691,     0.90791,     0.90891,     0.90991,     0.91091,     0.91191,\n",
       "           0.91291,     0.91391,     0.91491,     0.91592,     0.91692,     0.91792,     0.91892,     0.91992,     0.92092,     0.92192,     0.92292,     0.92392,     0.92492,     0.92593,     0.92693,     0.92793,     0.92893,     0.92993,     0.93093,     0.93193,     0.93293,     0.93393,     0.93493,     0.93594,\n",
       "           0.93694,     0.93794,     0.93894,     0.93994,     0.94094,     0.94194,     0.94294,     0.94394,     0.94494,     0.94595,     0.94695,     0.94795,     0.94895,     0.94995,     0.95095,     0.95195,     0.95295,     0.95395,     0.95495,     0.95596,     0.95696,     0.95796,     0.95896,     0.95996,\n",
       "           0.96096,     0.96196,     0.96296,     0.96396,     0.96496,     0.96597,     0.96697,     0.96797,     0.96897,     0.96997,     0.97097,     0.97197,     0.97297,     0.97397,     0.97497,     0.97598,     0.97698,     0.97798,     0.97898,     0.97998,     0.98098,     0.98198,     0.98298,     0.98398,\n",
       "           0.98498,     0.98599,     0.98699,     0.98799,     0.98899,     0.98999,     0.99099,     0.99199,     0.99299,     0.99399,     0.99499,       0.996,       0.997,       0.998,       0.999,           1]), array([[       0.96,        0.96,        0.93, ...,           0,           0,           0],\n",
       "       [    0.88793,     0.88793,     0.87931, ...,           0,           0,           0]]), 'Confidence', 'Recall']]\n",
       "fitness: 0.5949603743627617\n",
       "keys: ['metrics/precision(B)', 'metrics/recall(B)', 'metrics/mAP50(B)', 'metrics/mAP50-95(B)']\n",
       "maps: array([    0.80082,     0.34442])\n",
       "names: {0: 'drinking', 1: 'smoking'}\n",
       "plot: True\n",
       "results_dict: {'metrics/precision(B)': 0.8461323632920086, 'metrics/recall(B)': 0.7287931034482759, 'metrics/mAP50(B)': 0.7960350419474227, 'metrics/mAP50-95(B)': 0.5726187446311327, 'fitness': 0.5949603743627617}\n",
       "save_dir: WindowsPath('runs/detect/train4')\n",
       "speed: {'preprocess': 2.462260953841671, 'inference': 95.38958918663764, 'loss': 0.0, 'postprocess': 0.6444838739210559}\n",
       "task: 'detect'"
      ]
     },
     "execution_count": 4,
     "metadata": {},
     "output_type": "execute_result"
    }
   ],
   "source": [
    "model = YOLO('yolov8n.pt')\n",
    "model.train(data=\"C:/Users/park/융합캡스톤디자인2/capston/capston_test/smoking_beer/Dataset/data.yaml\", epochs=80, imgsz=640)\n",
    "#model.export(format=\"torchscript\", path=\"./capstone.pt\")"
   ]
  },
  {
   "cell_type": "code",
   "execution_count": 5,
   "id": "93b33394-fc5c-4ade-a780-c78f6c5b19a9",
   "metadata": {},
   "outputs": [
    {
     "name": "stdout",
     "output_type": "stream",
     "text": [
      "Ultralytics 8.3.27  Python-3.12.4 torch-2.4.1+cpu CPU (Intel Xeon E5-2680 v2 2.80GHz)\n",
      "Model summary (fused): 168 layers, 3,006,038 parameters, 0 gradients, 8.1 GFLOPs\n",
      "\n",
      "\u001b[34m\u001b[1mPyTorch:\u001b[0m starting from 'runs\\detect\\train4\\weights\\best.pt' with input shape (1, 3, 640, 640) BCHW and output shape(s) (1, 6, 8400) (6.0 MB)\n",
      "\n",
      "\u001b[34m\u001b[1mTorchScript:\u001b[0m starting export with torch 2.4.1+cpu...\n",
      "\u001b[34m\u001b[1mTorchScript:\u001b[0m export success  2.5s, saved as 'runs\\detect\\train4\\weights\\best.torchscript' (11.9 MB)\n",
      "\n",
      "Export complete (3.0s)\n",
      "Results saved to \u001b[1mC:\\Users\\park\\2\\capston\\capston_test\\smoking_beer\\Dataset\\runs\\detect\\train4\\weights\u001b[0m\n",
      "Predict:         yolo predict task=detect model=runs\\detect\\train4\\weights\\best.torchscript imgsz=640  \n",
      "Validate:        yolo val task=detect model=runs\\detect\\train4\\weights\\best.torchscript imgsz=640 data=C:/Users/park/2/capston/capston_test/smoking_beer/Dataset/data.yaml  \n",
      "Visualize:       https://netron.app\n"
     ]
    },
    {
     "data": {
      "text/plain": [
       "'./capstone.pt'"
      ]
     },
     "execution_count": 5,
     "metadata": {},
     "output_type": "execute_result"
    }
   ],
   "source": [
    "import shutil\n",
    "# TorchScript 형식으로 모델 내보내기\n",
    "exported_model_path = model.export(format=\"torchscript\")\n",
    "\n",
    "# 내보낸 모델을 원하는 위치로 이동 (이동 후 capstone.pt로 이름 변경)\n",
    "shutil.move(exported_model_path, \"./capstone.pt\")"
   ]
  },
  {
   "cell_type": "code",
   "execution_count": 7,
   "id": "d3d1c696-45d8-4d0e-8160-53f0ae695eba",
   "metadata": {},
   "outputs": [],
   "source": [
    "import torch\n",
    "torch.save(model.model.state_dict(), 'custom_yolo_weights.pt')  # 가중치만 저장\n",
    "#model.load_state_dict(torch.load('custom_yolo_weights.pt'))"
   ]
  },
  {
   "cell_type": "code",
   "execution_count": 8,
   "id": "902722dc-6857-4226-b0b4-63b54bb9722a",
   "metadata": {},
   "outputs": [
    {
     "ename": "NameError",
     "evalue": "name 'scripted_model' is not defined",
     "output_type": "error",
     "traceback": [
      "\u001b[1;31m---------------------------------------------------------------------------\u001b[0m",
      "\u001b[1;31mNameError\u001b[0m                                 Traceback (most recent call last)",
      "Cell \u001b[1;32mIn[8], line 1\u001b[0m\n\u001b[1;32m----> 1\u001b[0m scripted_model\u001b[38;5;241m.\u001b[39msave(\u001b[38;5;124m'\u001b[39m\u001b[38;5;124mcapstone_scripted.pt\u001b[39m\u001b[38;5;124m'\u001b[39m)\n",
      "\u001b[1;31mNameError\u001b[0m: name 'scripted_model' is not defined"
     ]
    }
   ],
   "source": [
    "scripted_model.save('capstone_scripted.pt')"
   ]
  },
  {
   "cell_type": "code",
   "execution_count": 9,
   "id": "173ba8c5-8410-4dcf-adae-a2a40f47a251",
   "metadata": {},
   "outputs": [],
   "source": [
    "model.save('yolo_model.pt')  # 최종 모델 저장"
   ]
  },
  {
   "cell_type": "code",
   "execution_count": 14,
   "id": "59fc69a6-8603-43c4-8cd5-097136234331",
   "metadata": {},
   "outputs": [
    {
     "name": "stdout",
     "output_type": "stream",
     "text": [
      "가중치 파일이 C:/Users/park/융합캡스톤디자인2/capston/capston_test/smoking_beer/Dataset/my_custom_best.pt에 저장되었습니다.\n"
     ]
    }
   ],
   "source": [
    "import shutil\n",
    "\n",
    "# 학습 후 기본 저장 위치에서 가중치를 복사하여 원하는 경로에 저장\n",
    "src_path = 'runs/detect/train/weights/best.pt'  # 기본 경로에 저장된 파일\n",
    "dest_path = 'C:/Users/park/융합캡스톤디자인2/capston/capston_test/smoking_beer/Dataset/my_custom_best.pt'  # 원하는 저장 경로\n",
    "\n",
    "# 가중치 파일 복사\n",
    "shutil.copy(src_path, dest_path)\n",
    "print(f\"가중치 파일이 {dest_path}에 저장되었습니다.\")"
   ]
  },
  {
   "cell_type": "code",
   "execution_count": 1,
   "id": "78bec5a9-e4c0-45ca-90b4-62c9de8fedb9",
   "metadata": {},
   "outputs": [
    {
     "name": "stdout",
     "output_type": "stream",
     "text": [
      "\n",
      "0: 640x512 1 smoking, 144.9ms\n",
      "Speed: 6.0ms preprocess, 144.9ms inference, 2.0ms postprocess per image at shape (1, 3, 640, 512)\n",
      "\n",
      "0: 640x512 1 smoking, 127.1ms\n",
      "Speed: 6.1ms preprocess, 127.1ms inference, 1.0ms postprocess per image at shape (1, 3, 640, 512)\n",
      "\n",
      "0: 640x512 1 smoking, 105.9ms\n",
      "Speed: 3.0ms preprocess, 105.9ms inference, 1.0ms postprocess per image at shape (1, 3, 640, 512)\n",
      "\n",
      "0: 640x512 1 smoking, 97.7ms\n",
      "Speed: 3.0ms preprocess, 97.7ms inference, 1.0ms postprocess per image at shape (1, 3, 640, 512)\n",
      "\n",
      "0: 640x512 1 smoking, 116.2ms\n",
      "Speed: 6.0ms preprocess, 116.2ms inference, 1.0ms postprocess per image at shape (1, 3, 640, 512)\n",
      "\n",
      "0: 640x512 1 smoking, 98.6ms\n",
      "Speed: 3.0ms preprocess, 98.6ms inference, 2.0ms postprocess per image at shape (1, 3, 640, 512)\n",
      "\n",
      "0: 640x512 1 smoking, 87.9ms\n",
      "Speed: 3.0ms preprocess, 87.9ms inference, 1.0ms postprocess per image at shape (1, 3, 640, 512)\n",
      "\n",
      "0: 640x512 1 smoking, 86.6ms\n",
      "Speed: 4.0ms preprocess, 86.6ms inference, 1.0ms postprocess per image at shape (1, 3, 640, 512)\n",
      "\n",
      "0: 640x512 1 smoking, 100.9ms\n",
      "Speed: 2.0ms preprocess, 100.9ms inference, 1.0ms postprocess per image at shape (1, 3, 640, 512)\n",
      "\n",
      "0: 640x512 1 smoking, 90.9ms\n",
      "Speed: 3.0ms preprocess, 90.9ms inference, 1.0ms postprocess per image at shape (1, 3, 640, 512)\n",
      "\n",
      "0: 640x512 1 smoking, 88.0ms\n",
      "Speed: 3.0ms preprocess, 88.0ms inference, 2.0ms postprocess per image at shape (1, 3, 640, 512)\n",
      "\n",
      "0: 640x512 1 smoking, 91.9ms\n",
      "Speed: 3.0ms preprocess, 91.9ms inference, 1.0ms postprocess per image at shape (1, 3, 640, 512)\n",
      "\n",
      "0: 640x512 1 smoking, 102.9ms\n",
      "Speed: 3.0ms preprocess, 102.9ms inference, 2.0ms postprocess per image at shape (1, 3, 640, 512)\n",
      "\n",
      "0: 640x512 1 smoking, 90.4ms\n",
      "Speed: 3.0ms preprocess, 90.4ms inference, 2.0ms postprocess per image at shape (1, 3, 640, 512)\n",
      "\n",
      "0: 640x512 1 smoking, 104.7ms\n",
      "Speed: 3.0ms preprocess, 104.7ms inference, 1.0ms postprocess per image at shape (1, 3, 640, 512)\n",
      "\n",
      "0: 640x512 1 smoking, 92.9ms\n",
      "Speed: 3.0ms preprocess, 92.9ms inference, 2.0ms postprocess per image at shape (1, 3, 640, 512)\n",
      "\n",
      "0: 640x512 1 smoking, 94.5ms\n",
      "Speed: 3.0ms preprocess, 94.5ms inference, 1.0ms postprocess per image at shape (1, 3, 640, 512)\n",
      "\n",
      "0: 640x512 1 smoking, 89.7ms\n",
      "Speed: 5.0ms preprocess, 89.7ms inference, 1.0ms postprocess per image at shape (1, 3, 640, 512)\n",
      "\n",
      "0: 640x512 1 smoking, 86.0ms\n",
      "Speed: 3.0ms preprocess, 86.0ms inference, 2.0ms postprocess per image at shape (1, 3, 640, 512)\n",
      "\n",
      "0: 640x512 1 smoking, 81.9ms\n",
      "Speed: 3.0ms preprocess, 81.9ms inference, 1.0ms postprocess per image at shape (1, 3, 640, 512)\n",
      "\n",
      "0: 640x512 1 smoking, 90.4ms\n",
      "Speed: 3.0ms preprocess, 90.4ms inference, 2.0ms postprocess per image at shape (1, 3, 640, 512)\n",
      "\n",
      "0: 640x512 1 smoking, 101.1ms\n",
      "Speed: 3.0ms preprocess, 101.1ms inference, 3.0ms postprocess per image at shape (1, 3, 640, 512)\n",
      "\n",
      "0: 640x512 1 smoking, 82.6ms\n",
      "Speed: 3.0ms preprocess, 82.6ms inference, 1.0ms postprocess per image at shape (1, 3, 640, 512)\n",
      "\n",
      "0: 640x512 1 smoking, 95.9ms\n",
      "Speed: 3.0ms preprocess, 95.9ms inference, 2.0ms postprocess per image at shape (1, 3, 640, 512)\n",
      "\n",
      "0: 640x512 1 smoking, 114.7ms\n",
      "Speed: 6.0ms preprocess, 114.7ms inference, 1.0ms postprocess per image at shape (1, 3, 640, 512)\n",
      "\n",
      "0: 640x512 1 smoking, 99.4ms\n",
      "Speed: 3.0ms preprocess, 99.4ms inference, 1.0ms postprocess per image at shape (1, 3, 640, 512)\n",
      "\n",
      "0: 640x512 1 smoking, 117.4ms\n",
      "Speed: 3.0ms preprocess, 117.4ms inference, 2.0ms postprocess per image at shape (1, 3, 640, 512)\n",
      "\n",
      "0: 640x512 1 smoking, 160.4ms\n",
      "Speed: 3.0ms preprocess, 160.4ms inference, 2.2ms postprocess per image at shape (1, 3, 640, 512)\n",
      "\n",
      "0: 640x512 1 smoking, 89.9ms\n",
      "Speed: 3.0ms preprocess, 89.9ms inference, 1.0ms postprocess per image at shape (1, 3, 640, 512)\n",
      "\n",
      "0: 640x512 1 smoking, 117.9ms\n",
      "Speed: 3.0ms preprocess, 117.9ms inference, 2.0ms postprocess per image at shape (1, 3, 640, 512)\n",
      "\n",
      "0: 640x512 1 smoking, 117.0ms\n",
      "Speed: 3.0ms preprocess, 117.0ms inference, 1.0ms postprocess per image at shape (1, 3, 640, 512)\n",
      "\n",
      "0: 640x512 1 smoking, 88.8ms\n",
      "Speed: 3.0ms preprocess, 88.8ms inference, 1.0ms postprocess per image at shape (1, 3, 640, 512)\n",
      "\n",
      "0: 640x512 1 smoking, 114.8ms\n",
      "Speed: 6.0ms preprocess, 114.8ms inference, 2.0ms postprocess per image at shape (1, 3, 640, 512)\n",
      "\n",
      "0: 640x512 1 smoking, 89.9ms\n",
      "Speed: 3.0ms preprocess, 89.9ms inference, 1.0ms postprocess per image at shape (1, 3, 640, 512)\n",
      "\n",
      "0: 640x512 1 smoking, 96.0ms\n",
      "Speed: 4.0ms preprocess, 96.0ms inference, 1.0ms postprocess per image at shape (1, 3, 640, 512)\n",
      "\n",
      "0: 640x512 1 smoking, 97.0ms\n",
      "Speed: 2.0ms preprocess, 97.0ms inference, 1.0ms postprocess per image at shape (1, 3, 640, 512)\n",
      "\n",
      "0: 640x512 1 smoking, 131.0ms\n",
      "Speed: 3.0ms preprocess, 131.0ms inference, 1.0ms postprocess per image at shape (1, 3, 640, 512)\n",
      "\n",
      "0: 640x512 1 smoking, 107.7ms\n",
      "Speed: 3.0ms preprocess, 107.7ms inference, 2.0ms postprocess per image at shape (1, 3, 640, 512)\n",
      "\n",
      "0: 640x512 1 smoking, 85.9ms\n",
      "Speed: 3.0ms preprocess, 85.9ms inference, 2.0ms postprocess per image at shape (1, 3, 640, 512)\n",
      "\n",
      "0: 640x512 1 smoking, 95.9ms\n",
      "Speed: 3.0ms preprocess, 95.9ms inference, 1.0ms postprocess per image at shape (1, 3, 640, 512)\n",
      "\n",
      "0: 640x512 1 smoking, 114.9ms\n",
      "Speed: 2.0ms preprocess, 114.9ms inference, 2.0ms postprocess per image at shape (1, 3, 640, 512)\n",
      "\n",
      "0: 640x512 1 smoking, 88.1ms\n",
      "Speed: 3.0ms preprocess, 88.1ms inference, 1.0ms postprocess per image at shape (1, 3, 640, 512)\n",
      "\n",
      "0: 640x512 1 smoking, 92.9ms\n",
      "Speed: 2.0ms preprocess, 92.9ms inference, 2.0ms postprocess per image at shape (1, 3, 640, 512)\n",
      "\n",
      "0: 640x512 1 smoking, 99.9ms\n",
      "Speed: 2.0ms preprocess, 99.9ms inference, 1.0ms postprocess per image at shape (1, 3, 640, 512)\n",
      "\n",
      "0: 640x512 1 smoking, 98.0ms\n",
      "Speed: 2.0ms preprocess, 98.0ms inference, 2.0ms postprocess per image at shape (1, 3, 640, 512)\n",
      "\n",
      "0: 640x512 1 smoking, 82.0ms\n",
      "Speed: 3.0ms preprocess, 82.0ms inference, 1.0ms postprocess per image at shape (1, 3, 640, 512)\n",
      "\n",
      "0: 640x512 1 smoking, 87.0ms\n",
      "Speed: 3.0ms preprocess, 87.0ms inference, 1.0ms postprocess per image at shape (1, 3, 640, 512)\n",
      "\n",
      "0: 640x512 1 smoking, 101.9ms\n",
      "Speed: 2.0ms preprocess, 101.9ms inference, 1.0ms postprocess per image at shape (1, 3, 640, 512)\n",
      "\n",
      "0: 640x512 1 smoking, 124.9ms\n",
      "Speed: 6.0ms preprocess, 124.9ms inference, 1.0ms postprocess per image at shape (1, 3, 640, 512)\n",
      "\n",
      "0: 640x512 1 smoking, 116.9ms\n",
      "Speed: 2.0ms preprocess, 116.9ms inference, 1.0ms postprocess per image at shape (1, 3, 640, 512)\n",
      "\n",
      "0: 640x512 1 smoking, 117.9ms\n",
      "Speed: 3.0ms preprocess, 117.9ms inference, 1.0ms postprocess per image at shape (1, 3, 640, 512)\n",
      "\n",
      "0: 640x512 1 smoking, 120.9ms\n",
      "Speed: 4.0ms preprocess, 120.9ms inference, 1.0ms postprocess per image at shape (1, 3, 640, 512)\n",
      "\n",
      "0: 640x512 2 smokings, 99.9ms\n",
      "Speed: 4.0ms preprocess, 99.9ms inference, 1.0ms postprocess per image at shape (1, 3, 640, 512)\n",
      "\n",
      "0: 640x512 1 smoking, 92.7ms\n",
      "Speed: 2.0ms preprocess, 92.7ms inference, 1.0ms postprocess per image at shape (1, 3, 640, 512)\n",
      "\n",
      "0: 640x512 1 smoking, 82.9ms\n",
      "Speed: 3.0ms preprocess, 82.9ms inference, 1.0ms postprocess per image at shape (1, 3, 640, 512)\n",
      "\n",
      "0: 640x512 1 smoking, 106.9ms\n",
      "Speed: 6.0ms preprocess, 106.9ms inference, 1.0ms postprocess per image at shape (1, 3, 640, 512)\n",
      "\n",
      "0: 640x512 (no detections), 93.9ms\n",
      "Speed: 3.0ms preprocess, 93.9ms inference, 1.0ms postprocess per image at shape (1, 3, 640, 512)\n",
      "\n",
      "0: 640x512 (no detections), 82.7ms\n",
      "Speed: 3.0ms preprocess, 82.7ms inference, 0.0ms postprocess per image at shape (1, 3, 640, 512)\n",
      "\n",
      "0: 640x512 (no detections), 83.9ms\n",
      "Speed: 3.0ms preprocess, 83.9ms inference, 2.0ms postprocess per image at shape (1, 3, 640, 512)\n",
      "\n",
      "0: 640x512 (no detections), 97.9ms\n",
      "Speed: 3.0ms preprocess, 97.9ms inference, 1.0ms postprocess per image at shape (1, 3, 640, 512)\n",
      "\n",
      "0: 640x512 (no detections), 106.9ms\n",
      "Speed: 6.0ms preprocess, 106.9ms inference, 1.0ms postprocess per image at shape (1, 3, 640, 512)\n",
      "\n",
      "0: 640x512 (no detections), 95.3ms\n",
      "Speed: 2.0ms preprocess, 95.3ms inference, 0.0ms postprocess per image at shape (1, 3, 640, 512)\n",
      "\n",
      "0: 640x512 (no detections), 98.6ms\n",
      "Speed: 3.0ms preprocess, 98.6ms inference, 1.0ms postprocess per image at shape (1, 3, 640, 512)\n",
      "\n",
      "0: 640x512 1 smoking, 89.9ms\n",
      "Speed: 4.0ms preprocess, 89.9ms inference, 1.0ms postprocess per image at shape (1, 3, 640, 512)\n",
      "\n",
      "0: 640x512 1 smoking, 111.2ms\n",
      "Speed: 6.0ms preprocess, 111.2ms inference, 1.0ms postprocess per image at shape (1, 3, 640, 512)\n",
      "\n",
      "0: 640x512 2 smokings, 103.6ms\n",
      "Speed: 3.0ms preprocess, 103.6ms inference, 2.0ms postprocess per image at shape (1, 3, 640, 512)\n",
      "\n",
      "0: 640x512 2 smokings, 91.6ms\n",
      "Speed: 3.0ms preprocess, 91.6ms inference, 1.0ms postprocess per image at shape (1, 3, 640, 512)\n",
      "\n",
      "0: 640x512 2 smokings, 96.9ms\n",
      "Speed: 5.5ms preprocess, 96.9ms inference, 1.0ms postprocess per image at shape (1, 3, 640, 512)\n",
      "\n",
      "0: 640x512 2 smokings, 114.4ms\n",
      "Speed: 4.0ms preprocess, 114.4ms inference, 2.0ms postprocess per image at shape (1, 3, 640, 512)\n",
      "\n",
      "0: 640x512 2 smokings, 107.9ms\n",
      "Speed: 2.0ms preprocess, 107.9ms inference, 1.0ms postprocess per image at shape (1, 3, 640, 512)\n",
      "\n",
      "0: 640x512 3 smokings, 91.7ms\n",
      "Speed: 2.0ms preprocess, 91.7ms inference, 1.0ms postprocess per image at shape (1, 3, 640, 512)\n",
      "\n",
      "0: 640x512 1 smoking, 93.9ms\n",
      "Speed: 3.0ms preprocess, 93.9ms inference, 3.0ms postprocess per image at shape (1, 3, 640, 512)\n",
      "\n",
      "0: 640x512 2 smokings, 93.4ms\n",
      "Speed: 3.0ms preprocess, 93.4ms inference, 1.0ms postprocess per image at shape (1, 3, 640, 512)\n",
      "\n",
      "0: 640x512 1 smoking, 83.9ms\n",
      "Speed: 3.0ms preprocess, 83.9ms inference, 2.0ms postprocess per image at shape (1, 3, 640, 512)\n",
      "\n",
      "0: 640x512 2 smokings, 114.9ms\n",
      "Speed: 3.0ms preprocess, 114.9ms inference, 1.0ms postprocess per image at shape (1, 3, 640, 512)\n",
      "\n",
      "0: 640x512 1 smoking, 93.4ms\n",
      "Speed: 3.0ms preprocess, 93.4ms inference, 1.0ms postprocess per image at shape (1, 3, 640, 512)\n",
      "\n",
      "0: 640x512 2 smokings, 84.9ms\n",
      "Speed: 3.0ms preprocess, 84.9ms inference, 2.0ms postprocess per image at shape (1, 3, 640, 512)\n",
      "\n",
      "0: 640x512 1 smoking, 86.8ms\n",
      "Speed: 5.0ms preprocess, 86.8ms inference, 2.0ms postprocess per image at shape (1, 3, 640, 512)\n",
      "\n",
      "0: 640x512 2 smokings, 93.9ms\n",
      "Speed: 3.0ms preprocess, 93.9ms inference, 3.5ms postprocess per image at shape (1, 3, 640, 512)\n",
      "\n",
      "0: 640x512 1 smoking, 104.4ms\n",
      "Speed: 6.0ms preprocess, 104.4ms inference, 1.0ms postprocess per image at shape (1, 3, 640, 512)\n",
      "\n",
      "0: 640x512 1 smoking, 102.9ms\n",
      "Speed: 3.0ms preprocess, 102.9ms inference, 1.0ms postprocess per image at shape (1, 3, 640, 512)\n",
      "\n",
      "0: 640x512 1 smoking, 91.9ms\n",
      "Speed: 3.0ms preprocess, 91.9ms inference, 2.0ms postprocess per image at shape (1, 3, 640, 512)\n",
      "\n",
      "0: 640x512 2 smokings, 109.3ms\n",
      "Speed: 2.0ms preprocess, 109.3ms inference, 1.0ms postprocess per image at shape (1, 3, 640, 512)\n",
      "\n",
      "0: 640x512 2 smokings, 91.9ms\n",
      "Speed: 3.0ms preprocess, 91.9ms inference, 1.0ms postprocess per image at shape (1, 3, 640, 512)\n",
      "\n",
      "0: 640x512 1 smoking, 97.9ms\n",
      "Speed: 3.0ms preprocess, 97.9ms inference, 2.0ms postprocess per image at shape (1, 3, 640, 512)\n",
      "\n",
      "0: 640x512 1 smoking, 85.2ms\n",
      "Speed: 3.0ms preprocess, 85.2ms inference, 1.0ms postprocess per image at shape (1, 3, 640, 512)\n",
      "\n",
      "0: 640x512 2 smokings, 84.9ms\n",
      "Speed: 3.0ms preprocess, 84.9ms inference, 1.0ms postprocess per image at shape (1, 3, 640, 512)\n",
      "\n",
      "0: 640x512 2 smokings, 94.6ms\n",
      "Speed: 3.0ms preprocess, 94.6ms inference, 1.0ms postprocess per image at shape (1, 3, 640, 512)\n",
      "\n",
      "0: 640x512 2 smokings, 89.1ms\n",
      "Speed: 3.0ms preprocess, 89.1ms inference, 1.0ms postprocess per image at shape (1, 3, 640, 512)\n",
      "\n",
      "0: 640x512 1 smoking, 101.6ms\n",
      "Speed: 3.0ms preprocess, 101.6ms inference, 2.0ms postprocess per image at shape (1, 3, 640, 512)\n",
      "\n",
      "0: 640x512 1 smoking, 126.8ms\n",
      "Speed: 3.0ms preprocess, 126.8ms inference, 2.0ms postprocess per image at shape (1, 3, 640, 512)\n",
      "\n",
      "0: 640x512 1 smoking, 89.6ms\n",
      "Speed: 4.0ms preprocess, 89.6ms inference, 2.0ms postprocess per image at shape (1, 3, 640, 512)\n",
      "\n",
      "0: 640x512 1 smoking, 82.9ms\n",
      "Speed: 3.0ms preprocess, 82.9ms inference, 1.0ms postprocess per image at shape (1, 3, 640, 512)\n",
      "\n",
      "0: 640x512 1 smoking, 144.5ms\n",
      "Speed: 2.0ms preprocess, 144.5ms inference, 1.0ms postprocess per image at shape (1, 3, 640, 512)\n",
      "\n",
      "0: 640x512 1 smoking, 102.8ms\n",
      "Speed: 6.0ms preprocess, 102.8ms inference, 1.0ms postprocess per image at shape (1, 3, 640, 512)\n",
      "\n",
      "0: 640x512 1 smoking, 98.3ms\n",
      "Speed: 3.0ms preprocess, 98.3ms inference, 2.0ms postprocess per image at shape (1, 3, 640, 512)\n",
      "\n",
      "0: 640x512 1 smoking, 163.0ms\n",
      "Speed: 2.0ms preprocess, 163.0ms inference, 3.0ms postprocess per image at shape (1, 3, 640, 512)\n",
      "\n",
      "0: 640x512 2 smokings, 106.8ms\n",
      "Speed: 2.0ms preprocess, 106.8ms inference, 1.0ms postprocess per image at shape (1, 3, 640, 512)\n",
      "\n",
      "0: 640x512 1 smoking, 103.0ms\n",
      "Speed: 3.0ms preprocess, 103.0ms inference, 1.0ms postprocess per image at shape (1, 3, 640, 512)\n",
      "\n",
      "0: 640x512 1 smoking, 92.6ms\n",
      "Speed: 4.0ms preprocess, 92.6ms inference, 1.0ms postprocess per image at shape (1, 3, 640, 512)\n",
      "\n",
      "0: 640x512 2 smokings, 96.9ms\n",
      "Speed: 3.0ms preprocess, 96.9ms inference, 2.0ms postprocess per image at shape (1, 3, 640, 512)\n",
      "\n",
      "0: 640x512 1 smoking, 91.9ms\n",
      "Speed: 3.0ms preprocess, 91.9ms inference, 3.0ms postprocess per image at shape (1, 3, 640, 512)\n",
      "\n",
      "0: 640x512 1 smoking, 84.2ms\n",
      "Speed: 2.0ms preprocess, 84.2ms inference, 1.0ms postprocess per image at shape (1, 3, 640, 512)\n",
      "\n",
      "0: 640x512 1 smoking, 100.9ms\n",
      "Speed: 4.0ms preprocess, 100.9ms inference, 2.0ms postprocess per image at shape (1, 3, 640, 512)\n",
      "\n",
      "0: 640x512 1 smoking, 96.7ms\n",
      "Speed: 6.0ms preprocess, 96.7ms inference, 1.0ms postprocess per image at shape (1, 3, 640, 512)\n",
      "\n",
      "0: 640x512 1 smoking, 113.9ms\n",
      "Speed: 3.0ms preprocess, 113.9ms inference, 1.0ms postprocess per image at shape (1, 3, 640, 512)\n",
      "\n",
      "0: 640x512 1 smoking, 115.9ms\n",
      "Speed: 6.0ms preprocess, 115.9ms inference, 1.0ms postprocess per image at shape (1, 3, 640, 512)\n",
      "\n",
      "0: 640x512 1 smoking, 112.3ms\n",
      "Speed: 5.0ms preprocess, 112.3ms inference, 1.0ms postprocess per image at shape (1, 3, 640, 512)\n",
      "\n",
      "0: 640x512 1 smoking, 138.6ms\n",
      "Speed: 3.0ms preprocess, 138.6ms inference, 1.0ms postprocess per image at shape (1, 3, 640, 512)\n",
      "\n",
      "0: 640x512 1 smoking, 110.9ms\n",
      "Speed: 3.0ms preprocess, 110.9ms inference, 2.0ms postprocess per image at shape (1, 3, 640, 512)\n",
      "\n",
      "0: 640x512 1 smoking, 109.9ms\n",
      "Speed: 2.0ms preprocess, 109.9ms inference, 1.0ms postprocess per image at shape (1, 3, 640, 512)\n",
      "\n",
      "0: 640x512 1 smoking, 115.8ms\n",
      "Speed: 2.0ms preprocess, 115.8ms inference, 1.0ms postprocess per image at shape (1, 3, 640, 512)\n",
      "\n",
      "0: 640x512 1 smoking, 98.4ms\n",
      "Speed: 3.0ms preprocess, 98.4ms inference, 1.0ms postprocess per image at shape (1, 3, 640, 512)\n",
      "\n",
      "0: 640x512 1 smoking, 101.9ms\n",
      "Speed: 6.0ms preprocess, 101.9ms inference, 1.0ms postprocess per image at shape (1, 3, 640, 512)\n",
      "\n",
      "0: 640x512 1 smoking, 94.0ms\n",
      "Speed: 2.0ms preprocess, 94.0ms inference, 1.0ms postprocess per image at shape (1, 3, 640, 512)\n",
      "\n",
      "0: 640x512 1 smoking, 87.9ms\n",
      "Speed: 3.0ms preprocess, 87.9ms inference, 1.0ms postprocess per image at shape (1, 3, 640, 512)\n",
      "\n",
      "0: 640x512 1 smoking, 121.1ms\n",
      "Speed: 3.0ms preprocess, 121.1ms inference, 2.0ms postprocess per image at shape (1, 3, 640, 512)\n",
      "\n",
      "0: 640x512 1 smoking, 92.6ms\n",
      "Speed: 3.0ms preprocess, 92.6ms inference, 2.0ms postprocess per image at shape (1, 3, 640, 512)\n",
      "\n",
      "0: 640x512 1 smoking, 97.4ms\n",
      "Speed: 3.0ms preprocess, 97.4ms inference, 1.0ms postprocess per image at shape (1, 3, 640, 512)\n",
      "\n",
      "0: 640x512 1 smoking, 97.7ms\n",
      "Speed: 3.0ms preprocess, 97.7ms inference, 1.0ms postprocess per image at shape (1, 3, 640, 512)\n",
      "\n",
      "0: 640x512 1 smoking, 109.6ms\n",
      "Speed: 3.0ms preprocess, 109.6ms inference, 1.0ms postprocess per image at shape (1, 3, 640, 512)\n",
      "\n",
      "0: 640x512 1 smoking, 120.4ms\n",
      "Speed: 4.0ms preprocess, 120.4ms inference, 1.0ms postprocess per image at shape (1, 3, 640, 512)\n",
      "\n",
      "0: 640x512 1 smoking, 119.2ms\n",
      "Speed: 2.0ms preprocess, 119.2ms inference, 3.0ms postprocess per image at shape (1, 3, 640, 512)\n",
      "\n",
      "0: 640x512 1 smoking, 124.3ms\n",
      "Speed: 3.0ms preprocess, 124.3ms inference, 3.0ms postprocess per image at shape (1, 3, 640, 512)\n",
      "\n",
      "0: 640x512 1 smoking, 86.9ms\n",
      "Speed: 3.0ms preprocess, 86.9ms inference, 1.0ms postprocess per image at shape (1, 3, 640, 512)\n",
      "\n",
      "0: 640x512 1 smoking, 89.1ms\n",
      "Speed: 3.0ms preprocess, 89.1ms inference, 1.0ms postprocess per image at shape (1, 3, 640, 512)\n",
      "\n",
      "0: 640x512 1 smoking, 104.0ms\n",
      "Speed: 3.0ms preprocess, 104.0ms inference, 1.0ms postprocess per image at shape (1, 3, 640, 512)\n",
      "\n",
      "0: 640x512 1 smoking, 82.9ms\n",
      "Speed: 3.0ms preprocess, 82.9ms inference, 2.0ms postprocess per image at shape (1, 3, 640, 512)\n",
      "\n",
      "0: 640x512 1 smoking, 92.9ms\n",
      "Speed: 3.0ms preprocess, 92.9ms inference, 2.0ms postprocess per image at shape (1, 3, 640, 512)\n",
      "\n",
      "0: 640x512 1 smoking, 99.0ms\n",
      "Speed: 6.0ms preprocess, 99.0ms inference, 1.0ms postprocess per image at shape (1, 3, 640, 512)\n",
      "\n",
      "0: 640x512 1 smoking, 94.5ms\n",
      "Speed: 3.0ms preprocess, 94.5ms inference, 1.0ms postprocess per image at shape (1, 3, 640, 512)\n",
      "\n",
      "0: 640x512 1 smoking, 105.4ms\n",
      "Speed: 6.0ms preprocess, 105.4ms inference, 2.0ms postprocess per image at shape (1, 3, 640, 512)\n",
      "\n",
      "0: 640x512 1 smoking, 80.9ms\n",
      "Speed: 2.0ms preprocess, 80.9ms inference, 1.0ms postprocess per image at shape (1, 3, 640, 512)\n",
      "\n",
      "0: 640x512 1 smoking, 106.9ms\n",
      "Speed: 3.0ms preprocess, 106.9ms inference, 1.0ms postprocess per image at shape (1, 3, 640, 512)\n",
      "\n",
      "0: 640x512 1 smoking, 81.8ms\n",
      "Speed: 3.0ms preprocess, 81.8ms inference, 1.0ms postprocess per image at shape (1, 3, 640, 512)\n",
      "\n",
      "0: 640x512 1 smoking, 112.8ms\n",
      "Speed: 4.0ms preprocess, 112.8ms inference, 1.0ms postprocess per image at shape (1, 3, 640, 512)\n",
      "\n",
      "0: 640x512 1 smoking, 92.1ms\n",
      "Speed: 2.0ms preprocess, 92.1ms inference, 1.0ms postprocess per image at shape (1, 3, 640, 512)\n",
      "\n",
      "0: 640x512 1 smoking, 133.0ms\n",
      "Speed: 2.0ms preprocess, 133.0ms inference, 1.0ms postprocess per image at shape (1, 3, 640, 512)\n",
      "\n",
      "0: 640x512 1 smoking, 117.9ms\n",
      "Speed: 3.0ms preprocess, 117.9ms inference, 2.0ms postprocess per image at shape (1, 3, 640, 512)\n",
      "\n",
      "0: 640x512 1 smoking, 119.9ms\n",
      "Speed: 3.0ms preprocess, 119.9ms inference, 2.0ms postprocess per image at shape (1, 3, 640, 512)\n",
      "\n",
      "0: 640x512 1 smoking, 124.2ms\n",
      "Speed: 3.0ms preprocess, 124.2ms inference, 1.0ms postprocess per image at shape (1, 3, 640, 512)\n",
      "\n",
      "0: 640x512 1 smoking, 129.4ms\n",
      "Speed: 3.0ms preprocess, 129.4ms inference, 1.0ms postprocess per image at shape (1, 3, 640, 512)\n",
      "\n",
      "0: 640x512 1 smoking, 135.8ms\n",
      "Speed: 2.0ms preprocess, 135.8ms inference, 2.0ms postprocess per image at shape (1, 3, 640, 512)\n",
      "\n",
      "0: 640x512 2 smokings, 108.9ms\n",
      "Speed: 3.0ms preprocess, 108.9ms inference, 3.0ms postprocess per image at shape (1, 3, 640, 512)\n",
      "\n",
      "0: 640x512 2 smokings, 96.1ms\n",
      "Speed: 2.9ms preprocess, 96.1ms inference, 1.0ms postprocess per image at shape (1, 3, 640, 512)\n",
      "\n",
      "0: 640x512 2 smokings, 83.0ms\n",
      "Speed: 3.0ms preprocess, 83.0ms inference, 2.0ms postprocess per image at shape (1, 3, 640, 512)\n",
      "\n",
      "0: 640x512 2 smokings, 84.0ms\n",
      "Speed: 4.1ms preprocess, 84.0ms inference, 1.0ms postprocess per image at shape (1, 3, 640, 512)\n",
      "\n",
      "0: 640x512 2 smokings, 113.9ms\n",
      "Speed: 6.0ms preprocess, 113.9ms inference, 3.0ms postprocess per image at shape (1, 3, 640, 512)\n",
      "\n",
      "0: 640x512 2 smokings, 129.1ms\n",
      "Speed: 3.0ms preprocess, 129.1ms inference, 1.0ms postprocess per image at shape (1, 3, 640, 512)\n",
      "\n",
      "0: 640x512 2 smokings, 148.1ms\n",
      "Speed: 3.0ms preprocess, 148.1ms inference, 2.0ms postprocess per image at shape (1, 3, 640, 512)\n",
      "\n",
      "0: 640x512 2 smokings, 93.9ms\n",
      "Speed: 3.0ms preprocess, 93.9ms inference, 1.0ms postprocess per image at shape (1, 3, 640, 512)\n",
      "\n",
      "0: 640x512 2 smokings, 109.9ms\n",
      "Speed: 3.0ms preprocess, 109.9ms inference, 1.0ms postprocess per image at shape (1, 3, 640, 512)\n",
      "\n",
      "0: 640x512 2 smokings, 104.1ms\n",
      "Speed: 4.0ms preprocess, 104.1ms inference, 2.0ms postprocess per image at shape (1, 3, 640, 512)\n",
      "\n",
      "0: 640x512 2 smokings, 85.0ms\n",
      "Speed: 2.0ms preprocess, 85.0ms inference, 1.0ms postprocess per image at shape (1, 3, 640, 512)\n",
      "\n",
      "0: 640x512 2 smokings, 104.9ms\n",
      "Speed: 6.0ms preprocess, 104.9ms inference, 1.0ms postprocess per image at shape (1, 3, 640, 512)\n",
      "\n",
      "0: 640x512 1 smoking, 102.4ms\n",
      "Speed: 3.0ms preprocess, 102.4ms inference, 1.0ms postprocess per image at shape (1, 3, 640, 512)\n",
      "\n",
      "0: 640x512 1 smoking, 92.8ms\n",
      "Speed: 3.0ms preprocess, 92.8ms inference, 2.0ms postprocess per image at shape (1, 3, 640, 512)\n",
      "\n",
      "0: 640x512 1 smoking, 89.0ms\n",
      "Speed: 5.0ms preprocess, 89.0ms inference, 2.0ms postprocess per image at shape (1, 3, 640, 512)\n",
      "\n",
      "0: 640x512 2 smokings, 94.6ms\n",
      "Speed: 3.0ms preprocess, 94.6ms inference, 2.0ms postprocess per image at shape (1, 3, 640, 512)\n",
      "\n",
      "0: 640x512 2 smokings, 86.0ms\n",
      "Speed: 3.0ms preprocess, 86.0ms inference, 1.0ms postprocess per image at shape (1, 3, 640, 512)\n",
      "\n",
      "0: 640x512 1 smoking, 123.9ms\n",
      "Speed: 3.0ms preprocess, 123.9ms inference, 1.0ms postprocess per image at shape (1, 3, 640, 512)\n",
      "\n",
      "0: 640x512 2 smokings, 115.3ms\n",
      "Speed: 3.0ms preprocess, 115.3ms inference, 2.0ms postprocess per image at shape (1, 3, 640, 512)\n",
      "\n",
      "0: 640x512 2 smokings, 88.9ms\n",
      "Speed: 3.0ms preprocess, 88.9ms inference, 1.0ms postprocess per image at shape (1, 3, 640, 512)\n",
      "\n",
      "0: 640x512 2 smokings, 93.8ms\n",
      "Speed: 2.0ms preprocess, 93.8ms inference, 2.0ms postprocess per image at shape (1, 3, 640, 512)\n",
      "\n",
      "0: 640x512 2 smokings, 82.9ms\n",
      "Speed: 6.0ms preprocess, 82.9ms inference, 1.0ms postprocess per image at shape (1, 3, 640, 512)\n",
      "\n",
      "0: 640x512 2 smokings, 101.3ms\n",
      "Speed: 6.0ms preprocess, 101.3ms inference, 1.0ms postprocess per image at shape (1, 3, 640, 512)\n",
      "\n",
      "0: 640x512 2 smokings, 122.8ms\n",
      "Speed: 4.0ms preprocess, 122.8ms inference, 1.0ms postprocess per image at shape (1, 3, 640, 512)\n",
      "\n",
      "0: 640x512 1 smoking, 79.3ms\n",
      "Speed: 5.0ms preprocess, 79.3ms inference, 2.0ms postprocess per image at shape (1, 3, 640, 512)\n",
      "\n",
      "0: 640x512 2 smokings, 148.9ms\n",
      "Speed: 3.0ms preprocess, 148.9ms inference, 3.0ms postprocess per image at shape (1, 3, 640, 512)\n",
      "\n",
      "0: 640x512 2 smokings, 128.6ms\n",
      "Speed: 3.0ms preprocess, 128.6ms inference, 1.0ms postprocess per image at shape (1, 3, 640, 512)\n",
      "\n",
      "0: 640x512 1 smoking, 91.9ms\n",
      "Speed: 6.0ms preprocess, 91.9ms inference, 2.0ms postprocess per image at shape (1, 3, 640, 512)\n",
      "\n",
      "0: 640x512 1 smoking, 97.9ms\n",
      "Speed: 3.0ms preprocess, 97.9ms inference, 1.0ms postprocess per image at shape (1, 3, 640, 512)\n",
      "\n",
      "0: 640x512 1 smoking, 89.9ms\n",
      "Speed: 3.0ms preprocess, 89.9ms inference, 1.0ms postprocess per image at shape (1, 3, 640, 512)\n",
      "\n",
      "0: 640x512 2 smokings, 114.6ms\n",
      "Speed: 6.0ms preprocess, 114.6ms inference, 1.0ms postprocess per image at shape (1, 3, 640, 512)\n",
      "\n",
      "0: 640x512 2 smokings, 99.9ms\n",
      "Speed: 4.0ms preprocess, 99.9ms inference, 1.0ms postprocess per image at shape (1, 3, 640, 512)\n",
      "\n",
      "0: 640x512 2 smokings, 100.5ms\n",
      "Speed: 3.0ms preprocess, 100.5ms inference, 1.0ms postprocess per image at shape (1, 3, 640, 512)\n",
      "\n",
      "0: 640x512 2 smokings, 81.9ms\n",
      "Speed: 3.0ms preprocess, 81.9ms inference, 1.0ms postprocess per image at shape (1, 3, 640, 512)\n",
      "\n",
      "0: 640x512 2 smokings, 94.9ms\n",
      "Speed: 3.0ms preprocess, 94.9ms inference, 1.0ms postprocess per image at shape (1, 3, 640, 512)\n",
      "\n",
      "0: 640x512 2 smokings, 113.6ms\n",
      "Speed: 3.0ms preprocess, 113.6ms inference, 1.0ms postprocess per image at shape (1, 3, 640, 512)\n",
      "\n",
      "0: 640x512 2 smokings, 89.9ms\n",
      "Speed: 6.0ms preprocess, 89.9ms inference, 1.0ms postprocess per image at shape (1, 3, 640, 512)\n",
      "\n",
      "0: 640x512 2 smokings, 84.0ms\n",
      "Speed: 3.0ms preprocess, 84.0ms inference, 3.0ms postprocess per image at shape (1, 3, 640, 512)\n",
      "\n",
      "0: 640x512 1 smoking, 135.9ms\n",
      "Speed: 6.0ms preprocess, 135.9ms inference, 2.0ms postprocess per image at shape (1, 3, 640, 512)\n",
      "\n",
      "0: 640x512 2 smokings, 157.3ms\n",
      "Speed: 6.0ms preprocess, 157.3ms inference, 3.2ms postprocess per image at shape (1, 3, 640, 512)\n",
      "\n",
      "0: 640x512 2 smokings, 145.4ms\n",
      "Speed: 5.0ms preprocess, 145.4ms inference, 2.0ms postprocess per image at shape (1, 3, 640, 512)\n",
      "\n",
      "0: 640x512 2 smokings, 85.9ms\n",
      "Speed: 3.0ms preprocess, 85.9ms inference, 1.0ms postprocess per image at shape (1, 3, 640, 512)\n",
      "\n",
      "0: 640x512 2 smokings, 111.1ms\n",
      "Speed: 3.0ms preprocess, 111.1ms inference, 1.0ms postprocess per image at shape (1, 3, 640, 512)\n",
      "\n",
      "0: 640x512 2 smokings, 119.0ms\n",
      "Speed: 3.0ms preprocess, 119.0ms inference, 2.2ms postprocess per image at shape (1, 3, 640, 512)\n",
      "\n",
      "0: 640x512 1 smoking, 93.7ms\n",
      "Speed: 3.0ms preprocess, 93.7ms inference, 1.0ms postprocess per image at shape (1, 3, 640, 512)\n",
      "\n",
      "0: 640x512 2 smokings, 102.4ms\n",
      "Speed: 6.0ms preprocess, 102.4ms inference, 1.0ms postprocess per image at shape (1, 3, 640, 512)\n",
      "\n",
      "0: 640x512 2 smokings, 98.9ms\n",
      "Speed: 6.0ms preprocess, 98.9ms inference, 2.0ms postprocess per image at shape (1, 3, 640, 512)\n",
      "\n",
      "0: 640x512 2 smokings, 107.8ms\n",
      "Speed: 3.0ms preprocess, 107.8ms inference, 1.0ms postprocess per image at shape (1, 3, 640, 512)\n",
      "\n",
      "0: 640x512 2 smokings, 94.9ms\n",
      "Speed: 3.0ms preprocess, 94.9ms inference, 1.0ms postprocess per image at shape (1, 3, 640, 512)\n",
      "\n",
      "0: 640x512 1 smoking, 105.9ms\n",
      "Speed: 4.0ms preprocess, 105.9ms inference, 1.0ms postprocess per image at shape (1, 3, 640, 512)\n",
      "\n",
      "0: 640x512 1 smoking, 87.9ms\n",
      "Speed: 3.0ms preprocess, 87.9ms inference, 1.0ms postprocess per image at shape (1, 3, 640, 512)\n",
      "\n",
      "0: 640x512 (no detections), 99.9ms\n",
      "Speed: 2.0ms preprocess, 99.9ms inference, 1.0ms postprocess per image at shape (1, 3, 640, 512)\n",
      "\n",
      "0: 640x512 (no detections), 117.2ms\n",
      "Speed: 3.0ms preprocess, 117.2ms inference, 1.0ms postprocess per image at shape (1, 3, 640, 512)\n",
      "\n",
      "0: 640x512 (no detections), 137.7ms\n",
      "Speed: 4.0ms preprocess, 137.7ms inference, 0.0ms postprocess per image at shape (1, 3, 640, 512)\n",
      "\n",
      "0: 640x512 (no detections), 96.2ms\n",
      "Speed: 3.0ms preprocess, 96.2ms inference, 1.0ms postprocess per image at shape (1, 3, 640, 512)\n",
      "\n",
      "0: 640x512 (no detections), 133.9ms\n",
      "Speed: 6.0ms preprocess, 133.9ms inference, 1.0ms postprocess per image at shape (1, 3, 640, 512)\n",
      "\n",
      "0: 640x512 (no detections), 90.9ms\n",
      "Speed: 6.0ms preprocess, 90.9ms inference, 1.0ms postprocess per image at shape (1, 3, 640, 512)\n",
      "\n",
      "0: 640x512 (no detections), 112.3ms\n",
      "Speed: 3.0ms preprocess, 112.3ms inference, 0.0ms postprocess per image at shape (1, 3, 640, 512)\n",
      "\n",
      "0: 640x512 (no detections), 111.1ms\n",
      "Speed: 6.0ms preprocess, 111.1ms inference, 1.0ms postprocess per image at shape (1, 3, 640, 512)\n",
      "\n",
      "0: 640x512 (no detections), 132.3ms\n",
      "Speed: 3.0ms preprocess, 132.3ms inference, 0.0ms postprocess per image at shape (1, 3, 640, 512)\n",
      "\n",
      "0: 640x512 (no detections), 99.9ms\n",
      "Speed: 6.0ms preprocess, 99.9ms inference, 1.0ms postprocess per image at shape (1, 3, 640, 512)\n",
      "\n",
      "0: 640x512 (no detections), 106.1ms\n",
      "Speed: 3.0ms preprocess, 106.1ms inference, 1.0ms postprocess per image at shape (1, 3, 640, 512)\n",
      "\n",
      "0: 640x512 (no detections), 117.9ms\n",
      "Speed: 5.2ms preprocess, 117.9ms inference, 1.0ms postprocess per image at shape (1, 3, 640, 512)\n",
      "\n",
      "0: 640x512 (no detections), 93.1ms\n",
      "Speed: 3.0ms preprocess, 93.1ms inference, 1.0ms postprocess per image at shape (1, 3, 640, 512)\n",
      "\n",
      "0: 640x512 (no detections), 81.9ms\n",
      "Speed: 3.0ms preprocess, 81.9ms inference, 1.0ms postprocess per image at shape (1, 3, 640, 512)\n",
      "\n",
      "0: 640x512 (no detections), 111.9ms\n",
      "Speed: 4.0ms preprocess, 111.9ms inference, 2.0ms postprocess per image at shape (1, 3, 640, 512)\n",
      "\n",
      "0: 640x512 (no detections), 96.8ms\n",
      "Speed: 3.0ms preprocess, 96.8ms inference, 1.0ms postprocess per image at shape (1, 3, 640, 512)\n",
      "\n",
      "0: 640x512 1 smoking, 96.2ms\n",
      "Speed: 4.0ms preprocess, 96.2ms inference, 1.3ms postprocess per image at shape (1, 3, 640, 512)\n",
      "\n",
      "0: 640x512 1 smoking, 102.5ms\n",
      "Speed: 6.0ms preprocess, 102.5ms inference, 2.0ms postprocess per image at shape (1, 3, 640, 512)\n",
      "\n",
      "0: 640x512 1 smoking, 107.9ms\n",
      "Speed: 6.0ms preprocess, 107.9ms inference, 1.0ms postprocess per image at shape (1, 3, 640, 512)\n",
      "\n",
      "0: 640x512 1 smoking, 89.4ms\n",
      "Speed: 3.0ms preprocess, 89.4ms inference, 1.0ms postprocess per image at shape (1, 3, 640, 512)\n",
      "\n",
      "0: 640x512 1 smoking, 89.9ms\n",
      "Speed: 3.0ms preprocess, 89.9ms inference, 1.0ms postprocess per image at shape (1, 3, 640, 512)\n",
      "\n",
      "0: 640x512 1 smoking, 121.8ms\n",
      "Speed: 3.0ms preprocess, 121.8ms inference, 1.4ms postprocess per image at shape (1, 3, 640, 512)\n",
      "\n",
      "0: 640x512 1 smoking, 86.5ms\n",
      "Speed: 3.0ms preprocess, 86.5ms inference, 1.0ms postprocess per image at shape (1, 3, 640, 512)\n",
      "\n",
      "0: 640x512 1 smoking, 97.3ms\n",
      "Speed: 3.0ms preprocess, 97.3ms inference, 2.0ms postprocess per image at shape (1, 3, 640, 512)\n",
      "\n",
      "0: 640x512 1 smoking, 108.4ms\n",
      "Speed: 2.4ms preprocess, 108.4ms inference, 2.0ms postprocess per image at shape (1, 3, 640, 512)\n",
      "\n",
      "0: 640x512 1 smoking, 107.4ms\n",
      "Speed: 3.0ms preprocess, 107.4ms inference, 1.0ms postprocess per image at shape (1, 3, 640, 512)\n",
      "\n",
      "0: 640x512 1 smoking, 116.9ms\n",
      "Speed: 3.0ms preprocess, 116.9ms inference, 1.0ms postprocess per image at shape (1, 3, 640, 512)\n",
      "\n",
      "0: 640x512 1 smoking, 154.9ms\n",
      "Speed: 2.0ms preprocess, 154.9ms inference, 3.0ms postprocess per image at shape (1, 3, 640, 512)\n",
      "\n",
      "0: 640x512 1 smoking, 100.9ms\n",
      "Speed: 2.0ms preprocess, 100.9ms inference, 1.0ms postprocess per image at shape (1, 3, 640, 512)\n",
      "\n",
      "0: 640x512 1 smoking, 105.3ms\n",
      "Speed: 6.0ms preprocess, 105.3ms inference, 2.0ms postprocess per image at shape (1, 3, 640, 512)\n",
      "\n",
      "0: 640x512 1 smoking, 89.9ms\n",
      "Speed: 3.0ms preprocess, 89.9ms inference, 2.0ms postprocess per image at shape (1, 3, 640, 512)\n",
      "\n",
      "0: 640x512 1 smoking, 91.9ms\n",
      "Speed: 2.0ms preprocess, 91.9ms inference, 3.1ms postprocess per image at shape (1, 3, 640, 512)\n",
      "\n",
      "0: 640x512 1 smoking, 118.1ms\n",
      "Speed: 3.0ms preprocess, 118.1ms inference, 2.0ms postprocess per image at shape (1, 3, 640, 512)\n",
      "\n",
      "0: 640x512 1 smoking, 94.2ms\n",
      "Speed: 3.0ms preprocess, 94.2ms inference, 1.0ms postprocess per image at shape (1, 3, 640, 512)\n",
      "\n",
      "0: 640x512 1 smoking, 87.8ms\n",
      "Speed: 3.0ms preprocess, 87.8ms inference, 1.0ms postprocess per image at shape (1, 3, 640, 512)\n",
      "\n",
      "0: 640x512 1 smoking, 81.9ms\n",
      "Speed: 3.0ms preprocess, 81.9ms inference, 1.0ms postprocess per image at shape (1, 3, 640, 512)\n",
      "\n",
      "0: 640x512 3 smokings, 79.9ms\n",
      "Speed: 3.0ms preprocess, 79.9ms inference, 1.0ms postprocess per image at shape (1, 3, 640, 512)\n",
      "\n",
      "0: 640x512 2 smokings, 87.9ms\n",
      "Speed: 2.0ms preprocess, 87.9ms inference, 2.0ms postprocess per image at shape (1, 3, 640, 512)\n",
      "\n",
      "0: 640x512 2 smokings, 97.3ms\n",
      "Speed: 6.0ms preprocess, 97.3ms inference, 2.0ms postprocess per image at shape (1, 3, 640, 512)\n",
      "\n",
      "0: 640x512 1 smoking, 114.1ms\n",
      "Speed: 3.0ms preprocess, 114.1ms inference, 1.0ms postprocess per image at shape (1, 3, 640, 512)\n",
      "\n",
      "0: 640x512 1 smoking, 101.9ms\n",
      "Speed: 2.0ms preprocess, 101.9ms inference, 1.0ms postprocess per image at shape (1, 3, 640, 512)\n",
      "\n",
      "0: 640x512 1 smoking, 92.9ms\n",
      "Speed: 3.0ms preprocess, 92.9ms inference, 2.0ms postprocess per image at shape (1, 3, 640, 512)\n",
      "\n",
      "0: 640x512 1 smoking, 88.9ms\n",
      "Speed: 2.0ms preprocess, 88.9ms inference, 1.0ms postprocess per image at shape (1, 3, 640, 512)\n",
      "\n",
      "0: 640x512 1 smoking, 89.1ms\n",
      "Speed: 2.0ms preprocess, 89.1ms inference, 2.0ms postprocess per image at shape (1, 3, 640, 512)\n",
      "\n",
      "0: 640x512 1 smoking, 92.9ms\n",
      "Speed: 3.0ms preprocess, 92.9ms inference, 1.0ms postprocess per image at shape (1, 3, 640, 512)\n",
      "\n",
      "0: 640x512 1 smoking, 106.9ms\n",
      "Speed: 3.0ms preprocess, 106.9ms inference, 1.0ms postprocess per image at shape (1, 3, 640, 512)\n",
      "\n",
      "0: 640x512 1 smoking, 129.9ms\n",
      "Speed: 3.0ms preprocess, 129.9ms inference, 2.0ms postprocess per image at shape (1, 3, 640, 512)\n",
      "\n",
      "0: 640x512 1 smoking, 129.7ms\n",
      "Speed: 3.0ms preprocess, 129.7ms inference, 2.0ms postprocess per image at shape (1, 3, 640, 512)\n",
      "\n",
      "0: 640x512 1 smoking, 113.3ms\n",
      "Speed: 3.0ms preprocess, 113.3ms inference, 1.0ms postprocess per image at shape (1, 3, 640, 512)\n",
      "\n",
      "0: 640x512 1 smoking, 143.9ms\n",
      "Speed: 3.0ms preprocess, 143.9ms inference, 1.0ms postprocess per image at shape (1, 3, 640, 512)\n",
      "\n",
      "0: 640x512 1 smoking, 120.4ms\n",
      "Speed: 4.0ms preprocess, 120.4ms inference, 1.0ms postprocess per image at shape (1, 3, 640, 512)\n",
      "\n",
      "0: 640x512 1 smoking, 88.6ms\n",
      "Speed: 4.0ms preprocess, 88.6ms inference, 1.0ms postprocess per image at shape (1, 3, 640, 512)\n",
      "\n",
      "0: 640x512 1 smoking, 118.5ms\n",
      "Speed: 3.0ms preprocess, 118.5ms inference, 1.1ms postprocess per image at shape (1, 3, 640, 512)\n",
      "\n",
      "0: 640x512 1 smoking, 92.9ms\n",
      "Speed: 4.5ms preprocess, 92.9ms inference, 1.0ms postprocess per image at shape (1, 3, 640, 512)\n",
      "\n",
      "0: 640x512 (no detections), 105.6ms\n",
      "Speed: 3.0ms preprocess, 105.6ms inference, 1.0ms postprocess per image at shape (1, 3, 640, 512)\n",
      "\n",
      "0: 640x512 (no detections), 95.8ms\n",
      "Speed: 5.0ms preprocess, 95.8ms inference, 1.0ms postprocess per image at shape (1, 3, 640, 512)\n",
      "\n",
      "0: 640x512 (no detections), 91.6ms\n",
      "Speed: 6.0ms preprocess, 91.6ms inference, 1.0ms postprocess per image at shape (1, 3, 640, 512)\n",
      "\n",
      "0: 640x512 (no detections), 91.9ms\n",
      "Speed: 2.0ms preprocess, 91.9ms inference, 1.0ms postprocess per image at shape (1, 3, 640, 512)\n",
      "\n",
      "0: 640x512 1 smoking, 111.9ms\n",
      "Speed: 4.0ms preprocess, 111.9ms inference, 1.0ms postprocess per image at shape (1, 3, 640, 512)\n",
      "\n",
      "0: 640x512 1 smoking, 112.1ms\n",
      "Speed: 2.0ms preprocess, 112.1ms inference, 1.0ms postprocess per image at shape (1, 3, 640, 512)\n",
      "\n",
      "0: 640x512 1 smoking, 113.3ms\n",
      "Speed: 6.0ms preprocess, 113.3ms inference, 1.0ms postprocess per image at shape (1, 3, 640, 512)\n",
      "\n",
      "0: 640x512 1 smoking, 92.8ms\n",
      "Speed: 3.0ms preprocess, 92.8ms inference, 1.0ms postprocess per image at shape (1, 3, 640, 512)\n",
      "\n",
      "0: 640x512 1 smoking, 108.9ms\n",
      "Speed: 4.0ms preprocess, 108.9ms inference, 1.0ms postprocess per image at shape (1, 3, 640, 512)\n",
      "\n",
      "0: 640x512 1 smoking, 93.9ms\n",
      "Speed: 4.0ms preprocess, 93.9ms inference, 1.0ms postprocess per image at shape (1, 3, 640, 512)\n",
      "\n",
      "0: 640x512 1 smoking, 109.4ms\n",
      "Speed: 6.0ms preprocess, 109.4ms inference, 2.0ms postprocess per image at shape (1, 3, 640, 512)\n",
      "\n",
      "0: 640x512 1 smoking, 94.7ms\n",
      "Speed: 3.0ms preprocess, 94.7ms inference, 2.0ms postprocess per image at shape (1, 3, 640, 512)\n",
      "\n",
      "0: 640x512 1 smoking, 85.2ms\n",
      "Speed: 3.0ms preprocess, 85.2ms inference, 1.0ms postprocess per image at shape (1, 3, 640, 512)\n",
      "\n",
      "0: 640x512 1 smoking, 88.9ms\n",
      "Speed: 3.0ms preprocess, 88.9ms inference, 2.0ms postprocess per image at shape (1, 3, 640, 512)\n",
      "\n",
      "0: 640x512 1 smoking, 98.9ms\n",
      "Speed: 3.0ms preprocess, 98.9ms inference, 1.0ms postprocess per image at shape (1, 3, 640, 512)\n",
      "\n",
      "0: 640x512 1 smoking, 98.9ms\n",
      "Speed: 6.0ms preprocess, 98.9ms inference, 1.0ms postprocess per image at shape (1, 3, 640, 512)\n",
      "\n",
      "0: 640x512 (no detections), 145.1ms\n",
      "Speed: 3.0ms preprocess, 145.1ms inference, 0.0ms postprocess per image at shape (1, 3, 640, 512)\n",
      "\n",
      "0: 640x512 (no detections), 118.9ms\n",
      "Speed: 2.0ms preprocess, 118.9ms inference, 1.0ms postprocess per image at shape (1, 3, 640, 512)\n",
      "\n",
      "0: 640x512 (no detections), 125.2ms\n",
      "Speed: 2.0ms preprocess, 125.2ms inference, 1.0ms postprocess per image at shape (1, 3, 640, 512)\n",
      "\n",
      "0: 640x512 (no detections), 111.0ms\n",
      "Speed: 6.0ms preprocess, 111.0ms inference, 2.0ms postprocess per image at shape (1, 3, 640, 512)\n",
      "\n",
      "0: 640x512 (no detections), 105.7ms\n",
      "Speed: 6.0ms preprocess, 105.7ms inference, 1.0ms postprocess per image at shape (1, 3, 640, 512)\n",
      "\n",
      "0: 640x512 (no detections), 141.4ms\n",
      "Speed: 4.1ms preprocess, 141.4ms inference, 1.0ms postprocess per image at shape (1, 3, 640, 512)\n",
      "\n",
      "0: 640x512 (no detections), 116.8ms\n",
      "Speed: 4.0ms preprocess, 116.8ms inference, 1.0ms postprocess per image at shape (1, 3, 640, 512)\n",
      "\n",
      "0: 640x512 (no detections), 124.4ms\n",
      "Speed: 2.0ms preprocess, 124.4ms inference, 2.0ms postprocess per image at shape (1, 3, 640, 512)\n",
      "\n",
      "0: 640x512 (no detections), 98.5ms\n",
      "Speed: 3.1ms preprocess, 98.5ms inference, 0.0ms postprocess per image at shape (1, 3, 640, 512)\n",
      "\n",
      "0: 640x512 (no detections), 91.1ms\n",
      "Speed: 3.0ms preprocess, 91.1ms inference, 0.0ms postprocess per image at shape (1, 3, 640, 512)\n",
      "\n",
      "0: 640x512 (no detections), 100.8ms\n",
      "Speed: 2.9ms preprocess, 100.8ms inference, 1.0ms postprocess per image at shape (1, 3, 640, 512)\n",
      "\n",
      "0: 640x512 (no detections), 118.2ms\n",
      "Speed: 3.0ms preprocess, 118.2ms inference, 1.0ms postprocess per image at shape (1, 3, 640, 512)\n",
      "\n",
      "0: 640x512 (no detections), 109.9ms\n",
      "Speed: 2.0ms preprocess, 109.9ms inference, 1.0ms postprocess per image at shape (1, 3, 640, 512)\n",
      "\n",
      "0: 640x512 (no detections), 91.1ms\n",
      "Speed: 3.0ms preprocess, 91.1ms inference, 1.0ms postprocess per image at shape (1, 3, 640, 512)\n",
      "\n",
      "0: 640x512 (no detections), 109.9ms\n",
      "Speed: 3.0ms preprocess, 109.9ms inference, 0.0ms postprocess per image at shape (1, 3, 640, 512)\n",
      "\n",
      "0: 640x512 (no detections), 111.9ms\n",
      "Speed: 6.0ms preprocess, 111.9ms inference, 1.0ms postprocess per image at shape (1, 3, 640, 512)\n",
      "\n",
      "0: 640x512 (no detections), 117.9ms\n",
      "Speed: 3.0ms preprocess, 117.9ms inference, 1.0ms postprocess per image at shape (1, 3, 640, 512)\n",
      "\n",
      "0: 640x512 (no detections), 121.9ms\n",
      "Speed: 3.0ms preprocess, 121.9ms inference, 2.0ms postprocess per image at shape (1, 3, 640, 512)\n",
      "\n",
      "0: 640x512 (no detections), 120.9ms\n",
      "Speed: 3.0ms preprocess, 120.9ms inference, 0.0ms postprocess per image at shape (1, 3, 640, 512)\n",
      "\n",
      "0: 640x512 (no detections), 152.7ms\n",
      "Speed: 4.0ms preprocess, 152.7ms inference, 1.0ms postprocess per image at shape (1, 3, 640, 512)\n",
      "\n",
      "0: 640x512 (no detections), 114.9ms\n",
      "Speed: 3.0ms preprocess, 114.9ms inference, 1.0ms postprocess per image at shape (1, 3, 640, 512)\n",
      "\n",
      "0: 640x512 (no detections), 105.9ms\n",
      "Speed: 3.0ms preprocess, 105.9ms inference, 1.0ms postprocess per image at shape (1, 3, 640, 512)\n",
      "\n",
      "0: 640x512 (no detections), 82.9ms\n",
      "Speed: 3.0ms preprocess, 82.9ms inference, 1.0ms postprocess per image at shape (1, 3, 640, 512)\n",
      "\n",
      "0: 640x512 (no detections), 113.8ms\n",
      "Speed: 3.0ms preprocess, 113.8ms inference, 1.0ms postprocess per image at shape (1, 3, 640, 512)\n",
      "\n",
      "0: 640x512 (no detections), 103.3ms\n",
      "Speed: 3.0ms preprocess, 103.3ms inference, 0.0ms postprocess per image at shape (1, 3, 640, 512)\n",
      "\n",
      "0: 640x512 (no detections), 115.0ms\n",
      "Speed: 3.0ms preprocess, 115.0ms inference, 0.0ms postprocess per image at shape (1, 3, 640, 512)\n",
      "\n",
      "0: 640x512 (no detections), 122.6ms\n",
      "Speed: 2.0ms preprocess, 122.6ms inference, 1.0ms postprocess per image at shape (1, 3, 640, 512)\n"
     ]
    }
   ],
   "source": [
    "import cv2\n",
    "import numpy as np\n",
    "from ultralytics import YOLO\n",
    "\n",
    "def apply_advanced_mosaic(image, box, intensity_level=3):\n",
    "    \"\"\"\n",
    "    강도 레벨별 모자이크 효과를 적용하는 함수\n",
    "    intensity_level: 1-5 (1: 가장 약한 모자이크, 5: 가장 강한 모자이크)\n",
    "    \"\"\"\n",
    "    x1, y1, x2, y2 = map(int, box)\n",
    "    roi = image[y1:y2, x1:x2].copy()\n",
    "    \n",
    "    # 강도 레벨에 따른 픽셀 크기 계산\n",
    "    # 강도가 높을수록 픽셀 크기가 커짐\n",
    "    pixel_sizes = {\n",
    "        1: 15,    # 매우 약한 모자이크\n",
    "        2: 25,   # 약한 모자이크\n",
    "        3: 35,   # 중간 모자이크\n",
    "        4: 45,   # 강한 모자이크\n",
    "        5: 65    # 매우 강한 모자이크\n",
    "    }\n",
    "    \n",
    "    pixel_size = pixel_sizes.get(intensity_level, 15)  # 기본값은 중간 강도\n",
    "    \n",
    "    h, w = roi.shape[:2]\n",
    "    \n",
    "    # 세로, 가로 블록 수 계산\n",
    "    v_blocks = h // pixel_size\n",
    "    h_blocks = w // pixel_size\n",
    "    \n",
    "    # 각 블록별로 평균값 계산하여 모자이크 적용\n",
    "    for i in range(v_blocks):\n",
    "        for j in range(h_blocks):\n",
    "            # 현재 블록의 영역 계산\n",
    "            y_start = i * pixel_size\n",
    "            y_end = min((i + 1) * pixel_size, h)\n",
    "            x_start = j * pixel_size\n",
    "            x_end = min((j + 1) * pixel_size, w)\n",
    "            \n",
    "            # 블록 내의 평균 색상 계산\n",
    "            block = roi[y_start:y_end, x_start:x_end]\n",
    "            color = np.mean(block, axis=(0, 1))\n",
    "            \n",
    "            # 평균 색상으로 블록 채우기\n",
    "            roi[y_start:y_end, x_start:x_end] = color\n",
    "    \n",
    "    # 남은 가장자리 처리\n",
    "    if h % pixel_size != 0:\n",
    "        for j in range(h_blocks):\n",
    "            y_start = v_blocks * pixel_size\n",
    "            x_start = j * pixel_size\n",
    "            x_end = min((j + 1) * pixel_size, w)\n",
    "            block = roi[y_start:, x_start:x_end]\n",
    "            if block.size > 0:\n",
    "                color = np.mean(block, axis=(0, 1))\n",
    "                roi[y_start:, x_start:x_end] = color\n",
    "    \n",
    "    if w % pixel_size != 0:\n",
    "        for i in range(v_blocks):\n",
    "            y_start = i * pixel_size\n",
    "            y_end = min((i + 1) * pixel_size, h)\n",
    "            x_start = h_blocks * pixel_size\n",
    "            block = roi[y_start:y_end, x_start:]\n",
    "            if block.size > 0:\n",
    "                color = np.mean(block, axis=(0, 1))\n",
    "                roi[y_start:y_end, x_start:] = color\n",
    "    \n",
    "    # 결과 적용\n",
    "    image[y1:y2, x1:x2] = roi\n",
    "    return image\n",
    "\n",
    "def detect_and_mosaic(model_path, video_source, output_path, mosaic_intensity=3):\n",
    "    \"\"\"\n",
    "    동영상에서 객체를 감지하고 모자이크 처리하여 출력 동영상 파일로 저장\n",
    "    \n",
    "    Parameters:\n",
    "    model_path (str): 학습된 YOLO 모델 파일 경로\n",
    "    video_source (str): 입력 동영상 파일 경로 또는 0 (웹캠)\n",
    "    output_path (str): 처리된 동영상 출력 파일 경로\n",
    "    mosaic_intensity (int, optional): 모자이크 강도 (1-5)\n",
    "    \"\"\"\n",
    "    # YOLO 모델 로드\n",
    "    model = YOLO(model_path)\n",
    "    \n",
    "    # 입력 동영상 캡처\n",
    "    cap = cv2.VideoCapture(video_source)\n",
    "    \n",
    "    # 출력 동영상 설정\n",
    "    width = int(cap.get(cv2.CAP_PROP_FRAME_WIDTH))\n",
    "    height = int(cap.get(cv2.CAP_PROP_FRAME_HEIGHT))\n",
    "    fps = int(cap.get(cv2.CAP_PROP_FPS))\n",
    "    \n",
    "    out = cv2.VideoWriter(\n",
    "        output_path,\n",
    "        cv2.VideoWriter_fourcc(*'mp4v'),\n",
    "        fps,\n",
    "        (width, height)\n",
    "    )\n",
    "    \n",
    "    while cap.isOpened():\n",
    "        success, frame = cap.read()\n",
    "        if not success:\n",
    "            break\n",
    "            \n",
    "        # YOLO로 객체 감지\n",
    "        results = model(frame)\n",
    "        \n",
    "        # 탐지된 객체에 모자이크 적용\n",
    "        for result in results:\n",
    "            boxes = result.boxes.xyxy.cpu().numpy()\n",
    "            for box in boxes:\n",
    "                frame = apply_advanced_mosaic(frame, box, mosaic_intensity)\n",
    "        \n",
    "        # 처리된 프레임을 출력 동영상에 저장\n",
    "        out.write(frame)\n",
    "    \n",
    "    # 리소스 해제\n",
    "    cap.release()\n",
    "    out.release()\n",
    "\n",
    "if __name__ == \"__main__\":\n",
    "    # 학습된 YOLO 모델 경로\n",
    "    model_path = \"yolo_model.pt\"\n",
    "    \n",
    "    # 입력 동영상 경로\n",
    "    video_source = \"nam_smoking.mp4\"\n",
    "    \n",
    "    # 출력 동영상 경로\n",
    "    output_path = \"nam_smoking_output.mp4\"\n",
    "    \n",
    "    # 모자이크 강도 (1-5)\n",
    "    mosaic_intensity = 3\n",
    "    \n",
    "    detect_and_mosaic(model_path, video_source, output_path, mosaic_intensity)"
   ]
  },
  {
   "cell_type": "code",
   "execution_count": 2,
   "id": "3747b982-e89a-4bae-abae-369a71c801b5",
   "metadata": {},
   "outputs": [
    {
     "name": "stdout",
     "output_type": "stream",
     "text": [
      "\n",
      "0: 640x512 (no detections), 119.9ms\n",
      "Speed: 3.0ms preprocess, 119.9ms inference, 1.0ms postprocess per image at shape (1, 3, 640, 512)\n",
      "\n",
      "0: 640x512 (no detections), 115.9ms\n",
      "Speed: 4.0ms preprocess, 115.9ms inference, 1.0ms postprocess per image at shape (1, 3, 640, 512)\n",
      "\n",
      "0: 640x512 (no detections), 155.6ms\n",
      "Speed: 5.0ms preprocess, 155.6ms inference, 0.4ms postprocess per image at shape (1, 3, 640, 512)\n",
      "\n",
      "0: 640x512 (no detections), 121.5ms\n",
      "Speed: 3.0ms preprocess, 121.5ms inference, 1.0ms postprocess per image at shape (1, 3, 640, 512)\n",
      "\n",
      "0: 640x512 (no detections), 92.3ms\n",
      "Speed: 2.0ms preprocess, 92.3ms inference, 1.0ms postprocess per image at shape (1, 3, 640, 512)\n",
      "\n",
      "0: 640x512 (no detections), 87.9ms\n",
      "Speed: 3.0ms preprocess, 87.9ms inference, 0.0ms postprocess per image at shape (1, 3, 640, 512)\n",
      "\n",
      "0: 640x512 (no detections), 84.9ms\n",
      "Speed: 2.0ms preprocess, 84.9ms inference, 1.0ms postprocess per image at shape (1, 3, 640, 512)\n",
      "\n",
      "0: 640x512 (no detections), 90.9ms\n",
      "Speed: 4.0ms preprocess, 90.9ms inference, 1.0ms postprocess per image at shape (1, 3, 640, 512)\n",
      "\n",
      "0: 640x512 (no detections), 97.7ms\n",
      "Speed: 5.0ms preprocess, 97.7ms inference, 1.5ms postprocess per image at shape (1, 3, 640, 512)\n",
      "\n",
      "0: 640x512 (no detections), 113.9ms\n",
      "Speed: 3.0ms preprocess, 113.9ms inference, 1.0ms postprocess per image at shape (1, 3, 640, 512)\n",
      "\n",
      "0: 640x512 (no detections), 121.0ms\n",
      "Speed: 3.0ms preprocess, 121.0ms inference, 1.0ms postprocess per image at shape (1, 3, 640, 512)\n",
      "\n",
      "0: 640x512 (no detections), 139.7ms\n",
      "Speed: 2.0ms preprocess, 139.7ms inference, 1.0ms postprocess per image at shape (1, 3, 640, 512)\n",
      "\n",
      "0: 640x512 (no detections), 101.9ms\n",
      "Speed: 3.0ms preprocess, 101.9ms inference, 0.0ms postprocess per image at shape (1, 3, 640, 512)\n",
      "\n",
      "0: 640x512 (no detections), 93.2ms\n",
      "Speed: 3.0ms preprocess, 93.2ms inference, 0.0ms postprocess per image at shape (1, 3, 640, 512)\n",
      "\n",
      "0: 640x512 (no detections), 107.9ms\n",
      "Speed: 3.0ms preprocess, 107.9ms inference, 1.0ms postprocess per image at shape (1, 3, 640, 512)\n",
      "\n",
      "0: 640x512 (no detections), 90.0ms\n",
      "Speed: 3.0ms preprocess, 90.0ms inference, 1.0ms postprocess per image at shape (1, 3, 640, 512)\n",
      "\n",
      "0: 640x512 (no detections), 87.9ms\n",
      "Speed: 3.0ms preprocess, 87.9ms inference, 1.0ms postprocess per image at shape (1, 3, 640, 512)\n",
      "\n",
      "0: 640x512 (no detections), 85.8ms\n",
      "Speed: 2.0ms preprocess, 85.8ms inference, 0.0ms postprocess per image at shape (1, 3, 640, 512)\n",
      "\n",
      "0: 640x512 (no detections), 131.1ms\n",
      "Speed: 3.0ms preprocess, 131.1ms inference, 1.0ms postprocess per image at shape (1, 3, 640, 512)\n",
      "\n",
      "0: 640x512 (no detections), 93.0ms\n",
      "Speed: 6.0ms preprocess, 93.0ms inference, 1.0ms postprocess per image at shape (1, 3, 640, 512)\n",
      "\n",
      "0: 640x512 (no detections), 82.9ms\n",
      "Speed: 2.0ms preprocess, 82.9ms inference, 1.0ms postprocess per image at shape (1, 3, 640, 512)\n",
      "\n",
      "0: 640x512 (no detections), 103.2ms\n",
      "Speed: 3.0ms preprocess, 103.2ms inference, 1.0ms postprocess per image at shape (1, 3, 640, 512)\n",
      "\n",
      "0: 640x512 (no detections), 94.0ms\n",
      "Speed: 3.4ms preprocess, 94.0ms inference, 0.0ms postprocess per image at shape (1, 3, 640, 512)\n",
      "\n",
      "0: 640x512 (no detections), 167.3ms\n",
      "Speed: 4.0ms preprocess, 167.3ms inference, 1.0ms postprocess per image at shape (1, 3, 640, 512)\n",
      "\n",
      "0: 640x512 (no detections), 108.4ms\n",
      "Speed: 3.0ms preprocess, 108.4ms inference, 1.0ms postprocess per image at shape (1, 3, 640, 512)\n",
      "\n",
      "0: 640x512 (no detections), 86.0ms\n",
      "Speed: 3.0ms preprocess, 86.0ms inference, 1.0ms postprocess per image at shape (1, 3, 640, 512)\n",
      "\n",
      "0: 640x512 (no detections), 95.9ms\n",
      "Speed: 2.9ms preprocess, 95.9ms inference, 1.0ms postprocess per image at shape (1, 3, 640, 512)\n",
      "\n",
      "0: 640x512 1 drinking, 106.1ms\n",
      "Speed: 3.0ms preprocess, 106.1ms inference, 1.0ms postprocess per image at shape (1, 3, 640, 512)\n",
      "\n",
      "0: 640x512 1 drinking, 95.9ms\n",
      "Speed: 3.0ms preprocess, 95.9ms inference, 1.0ms postprocess per image at shape (1, 3, 640, 512)\n",
      "\n",
      "0: 640x512 1 drinking, 106.7ms\n",
      "Speed: 3.0ms preprocess, 106.7ms inference, 2.0ms postprocess per image at shape (1, 3, 640, 512)\n",
      "\n",
      "0: 640x512 1 drinking, 112.1ms\n",
      "Speed: 3.0ms preprocess, 112.1ms inference, 2.0ms postprocess per image at shape (1, 3, 640, 512)\n",
      "\n",
      "0: 640x512 1 drinking, 130.9ms\n",
      "Speed: 3.0ms preprocess, 130.9ms inference, 1.0ms postprocess per image at shape (1, 3, 640, 512)\n",
      "\n",
      "0: 640x512 (no detections), 116.9ms\n",
      "Speed: 3.0ms preprocess, 116.9ms inference, 1.0ms postprocess per image at shape (1, 3, 640, 512)\n",
      "\n",
      "0: 640x512 (no detections), 101.1ms\n",
      "Speed: 4.0ms preprocess, 101.1ms inference, 1.0ms postprocess per image at shape (1, 3, 640, 512)\n",
      "\n",
      "0: 640x512 (no detections), 88.9ms\n",
      "Speed: 2.0ms preprocess, 88.9ms inference, 1.0ms postprocess per image at shape (1, 3, 640, 512)\n",
      "\n",
      "0: 640x512 1 drinking, 86.8ms\n",
      "Speed: 3.0ms preprocess, 86.8ms inference, 1.0ms postprocess per image at shape (1, 3, 640, 512)\n",
      "\n",
      "0: 640x512 1 drinking, 89.1ms\n",
      "Speed: 3.0ms preprocess, 89.1ms inference, 2.0ms postprocess per image at shape (1, 3, 640, 512)\n",
      "\n",
      "0: 640x512 (no detections), 91.5ms\n",
      "Speed: 3.0ms preprocess, 91.5ms inference, 1.0ms postprocess per image at shape (1, 3, 640, 512)\n",
      "\n",
      "0: 640x512 1 smoking, 122.0ms\n",
      "Speed: 3.0ms preprocess, 122.0ms inference, 1.0ms postprocess per image at shape (1, 3, 640, 512)\n",
      "\n",
      "0: 640x512 (no detections), 86.9ms\n",
      "Speed: 3.9ms preprocess, 86.9ms inference, 1.0ms postprocess per image at shape (1, 3, 640, 512)\n",
      "\n",
      "0: 640x512 (no detections), 103.9ms\n",
      "Speed: 3.0ms preprocess, 103.9ms inference, 1.0ms postprocess per image at shape (1, 3, 640, 512)\n",
      "\n",
      "0: 640x512 (no detections), 90.9ms\n",
      "Speed: 3.0ms preprocess, 90.9ms inference, 1.0ms postprocess per image at shape (1, 3, 640, 512)\n",
      "\n",
      "0: 640x512 1 drinking, 106.9ms\n",
      "Speed: 3.0ms preprocess, 106.9ms inference, 1.0ms postprocess per image at shape (1, 3, 640, 512)\n",
      "\n",
      "0: 640x512 (no detections), 98.9ms\n",
      "Speed: 4.0ms preprocess, 98.9ms inference, 0.0ms postprocess per image at shape (1, 3, 640, 512)\n",
      "\n",
      "0: 640x512 1 drinking, 106.3ms\n",
      "Speed: 3.0ms preprocess, 106.3ms inference, 2.0ms postprocess per image at shape (1, 3, 640, 512)\n",
      "\n",
      "0: 640x512 1 drinking, 136.0ms\n",
      "Speed: 4.3ms preprocess, 136.0ms inference, 2.0ms postprocess per image at shape (1, 3, 640, 512)\n",
      "\n",
      "0: 640x512 1 drinking, 94.0ms\n",
      "Speed: 3.0ms preprocess, 94.0ms inference, 1.0ms postprocess per image at shape (1, 3, 640, 512)\n",
      "\n",
      "0: 640x512 3 drinkings, 102.0ms\n",
      "Speed: 3.0ms preprocess, 102.0ms inference, 2.0ms postprocess per image at shape (1, 3, 640, 512)\n",
      "\n",
      "0: 640x512 1 drinking, 134.9ms\n",
      "Speed: 3.0ms preprocess, 134.9ms inference, 2.0ms postprocess per image at shape (1, 3, 640, 512)\n",
      "\n",
      "0: 640x512 1 drinking, 129.0ms\n",
      "Speed: 3.0ms preprocess, 129.0ms inference, 2.0ms postprocess per image at shape (1, 3, 640, 512)\n",
      "\n",
      "0: 640x512 1 drinking, 94.9ms\n",
      "Speed: 3.0ms preprocess, 94.9ms inference, 1.0ms postprocess per image at shape (1, 3, 640, 512)\n",
      "\n",
      "0: 640x512 1 drinking, 91.3ms\n",
      "Speed: 3.0ms preprocess, 91.3ms inference, 1.0ms postprocess per image at shape (1, 3, 640, 512)\n",
      "\n",
      "0: 640x512 (no detections), 96.7ms\n",
      "Speed: 6.0ms preprocess, 96.7ms inference, 1.0ms postprocess per image at shape (1, 3, 640, 512)\n",
      "\n",
      "0: 640x512 (no detections), 84.2ms\n",
      "Speed: 3.0ms preprocess, 84.2ms inference, 1.0ms postprocess per image at shape (1, 3, 640, 512)\n",
      "\n",
      "0: 640x512 (no detections), 103.0ms\n",
      "Speed: 3.0ms preprocess, 103.0ms inference, 0.0ms postprocess per image at shape (1, 3, 640, 512)\n",
      "\n",
      "0: 640x512 (no detections), 95.0ms\n",
      "Speed: 3.0ms preprocess, 95.0ms inference, 1.0ms postprocess per image at shape (1, 3, 640, 512)\n",
      "\n",
      "0: 640x512 (no detections), 88.9ms\n",
      "Speed: 2.0ms preprocess, 88.9ms inference, 0.0ms postprocess per image at shape (1, 3, 640, 512)\n",
      "\n",
      "0: 640x512 (no detections), 107.1ms\n",
      "Speed: 3.0ms preprocess, 107.1ms inference, 2.0ms postprocess per image at shape (1, 3, 640, 512)\n",
      "\n",
      "0: 640x512 (no detections), 103.9ms\n",
      "Speed: 3.0ms preprocess, 103.9ms inference, 1.0ms postprocess per image at shape (1, 3, 640, 512)\n",
      "\n",
      "0: 640x512 (no detections), 93.9ms\n",
      "Speed: 3.0ms preprocess, 93.9ms inference, 1.0ms postprocess per image at shape (1, 3, 640, 512)\n",
      "\n",
      "0: 640x512 (no detections), 102.0ms\n",
      "Speed: 3.0ms preprocess, 102.0ms inference, 1.0ms postprocess per image at shape (1, 3, 640, 512)\n",
      "\n",
      "0: 640x512 (no detections), 96.0ms\n",
      "Speed: 3.0ms preprocess, 96.0ms inference, 1.0ms postprocess per image at shape (1, 3, 640, 512)\n",
      "\n",
      "0: 640x512 1 drinking, 84.0ms\n",
      "Speed: 4.0ms preprocess, 84.0ms inference, 1.0ms postprocess per image at shape (1, 3, 640, 512)\n",
      "\n",
      "0: 640x512 1 drinking, 114.6ms\n",
      "Speed: 3.0ms preprocess, 114.6ms inference, 1.0ms postprocess per image at shape (1, 3, 640, 512)\n",
      "\n",
      "0: 640x512 1 drinking, 104.1ms\n",
      "Speed: 3.0ms preprocess, 104.1ms inference, 1.0ms postprocess per image at shape (1, 3, 640, 512)\n",
      "\n",
      "0: 640x512 1 drinking, 88.3ms\n",
      "Speed: 2.0ms preprocess, 88.3ms inference, 1.0ms postprocess per image at shape (1, 3, 640, 512)\n",
      "\n",
      "0: 640x512 1 drinking, 82.6ms\n",
      "Speed: 3.0ms preprocess, 82.6ms inference, 1.0ms postprocess per image at shape (1, 3, 640, 512)\n",
      "\n",
      "0: 640x512 1 drinking, 110.3ms\n",
      "Speed: 3.0ms preprocess, 110.3ms inference, 2.0ms postprocess per image at shape (1, 3, 640, 512)\n",
      "\n",
      "0: 640x512 1 drinking, 105.9ms\n",
      "Speed: 2.0ms preprocess, 105.9ms inference, 2.0ms postprocess per image at shape (1, 3, 640, 512)\n",
      "\n",
      "0: 640x512 1 drinking, 83.2ms\n",
      "Speed: 2.0ms preprocess, 83.2ms inference, 1.0ms postprocess per image at shape (1, 3, 640, 512)\n",
      "\n",
      "0: 640x512 1 drinking, 153.6ms\n",
      "Speed: 4.0ms preprocess, 153.6ms inference, 3.0ms postprocess per image at shape (1, 3, 640, 512)\n",
      "\n",
      "0: 640x512 2 drinkings, 101.9ms\n",
      "Speed: 6.0ms preprocess, 101.9ms inference, 2.0ms postprocess per image at shape (1, 3, 640, 512)\n",
      "\n",
      "0: 640x512 2 drinkings, 88.9ms\n",
      "Speed: 3.0ms preprocess, 88.9ms inference, 2.0ms postprocess per image at shape (1, 3, 640, 512)\n",
      "\n",
      "0: 640x512 2 drinkings, 82.9ms\n",
      "Speed: 3.0ms preprocess, 82.9ms inference, 1.0ms postprocess per image at shape (1, 3, 640, 512)\n",
      "\n",
      "0: 640x512 (no detections), 102.6ms\n",
      "Speed: 3.0ms preprocess, 102.6ms inference, 1.0ms postprocess per image at shape (1, 3, 640, 512)\n",
      "\n",
      "0: 640x512 (no detections), 119.1ms\n",
      "Speed: 3.0ms preprocess, 119.1ms inference, 1.0ms postprocess per image at shape (1, 3, 640, 512)\n",
      "\n",
      "0: 640x512 (no detections), 84.9ms\n",
      "Speed: 3.0ms preprocess, 84.9ms inference, 1.0ms postprocess per image at shape (1, 3, 640, 512)\n",
      "\n",
      "0: 640x512 (no detections), 79.9ms\n",
      "Speed: 3.0ms preprocess, 79.9ms inference, 1.0ms postprocess per image at shape (1, 3, 640, 512)\n",
      "\n",
      "0: 640x512 (no detections), 88.4ms\n",
      "Speed: 3.0ms preprocess, 88.4ms inference, 1.0ms postprocess per image at shape (1, 3, 640, 512)\n",
      "\n",
      "0: 640x512 (no detections), 87.3ms\n",
      "Speed: 2.0ms preprocess, 87.3ms inference, 1.3ms postprocess per image at shape (1, 3, 640, 512)\n",
      "\n",
      "0: 640x512 (no detections), 86.9ms\n",
      "Speed: 3.0ms preprocess, 86.9ms inference, 1.0ms postprocess per image at shape (1, 3, 640, 512)\n",
      "\n",
      "0: 640x512 (no detections), 82.9ms\n",
      "Speed: 2.0ms preprocess, 82.9ms inference, 1.0ms postprocess per image at shape (1, 3, 640, 512)\n",
      "\n",
      "0: 640x512 (no detections), 82.9ms\n",
      "Speed: 2.0ms preprocess, 82.9ms inference, 1.0ms postprocess per image at shape (1, 3, 640, 512)\n",
      "\n",
      "0: 640x512 (no detections), 90.8ms\n",
      "Speed: 3.0ms preprocess, 90.8ms inference, 1.0ms postprocess per image at shape (1, 3, 640, 512)\n",
      "\n",
      "0: 640x512 (no detections), 83.9ms\n",
      "Speed: 6.0ms preprocess, 83.9ms inference, 1.0ms postprocess per image at shape (1, 3, 640, 512)\n",
      "\n",
      "0: 640x512 (no detections), 104.9ms\n",
      "Speed: 4.0ms preprocess, 104.9ms inference, 1.0ms postprocess per image at shape (1, 3, 640, 512)\n",
      "\n",
      "0: 640x512 (no detections), 87.1ms\n",
      "Speed: 5.0ms preprocess, 87.1ms inference, 1.0ms postprocess per image at shape (1, 3, 640, 512)\n",
      "\n",
      "0: 640x512 (no detections), 85.9ms\n",
      "Speed: 2.0ms preprocess, 85.9ms inference, 1.0ms postprocess per image at shape (1, 3, 640, 512)\n",
      "\n",
      "0: 640x512 (no detections), 99.9ms\n",
      "Speed: 2.0ms preprocess, 99.9ms inference, 0.0ms postprocess per image at shape (1, 3, 640, 512)\n",
      "\n",
      "0: 640x512 (no detections), 98.2ms\n",
      "Speed: 2.0ms preprocess, 98.2ms inference, 1.0ms postprocess per image at shape (1, 3, 640, 512)\n",
      "\n",
      "0: 640x512 (no detections), 80.9ms\n",
      "Speed: 3.0ms preprocess, 80.9ms inference, 1.0ms postprocess per image at shape (1, 3, 640, 512)\n",
      "\n",
      "0: 640x512 (no detections), 115.1ms\n",
      "Speed: 3.0ms preprocess, 115.1ms inference, 1.0ms postprocess per image at shape (1, 3, 640, 512)\n",
      "\n",
      "0: 640x512 (no detections), 90.9ms\n",
      "Speed: 2.0ms preprocess, 90.9ms inference, 1.0ms postprocess per image at shape (1, 3, 640, 512)\n",
      "\n",
      "0: 640x512 (no detections), 119.9ms\n",
      "Speed: 2.0ms preprocess, 119.9ms inference, 1.0ms postprocess per image at shape (1, 3, 640, 512)\n",
      "\n",
      "0: 640x512 (no detections), 121.9ms\n",
      "Speed: 3.0ms preprocess, 121.9ms inference, 0.0ms postprocess per image at shape (1, 3, 640, 512)\n",
      "\n",
      "0: 640x512 (no detections), 87.0ms\n",
      "Speed: 3.0ms preprocess, 87.0ms inference, 0.0ms postprocess per image at shape (1, 3, 640, 512)\n",
      "\n",
      "0: 640x512 (no detections), 81.3ms\n",
      "Speed: 3.0ms preprocess, 81.3ms inference, 1.0ms postprocess per image at shape (1, 3, 640, 512)\n",
      "\n",
      "0: 640x512 2 drinkings, 81.9ms\n",
      "Speed: 3.0ms preprocess, 81.9ms inference, 2.0ms postprocess per image at shape (1, 3, 640, 512)\n",
      "\n",
      "0: 640x512 2 drinkings, 85.9ms\n",
      "Speed: 3.0ms preprocess, 85.9ms inference, 1.0ms postprocess per image at shape (1, 3, 640, 512)\n",
      "\n",
      "0: 640x512 1 drinking, 146.9ms\n",
      "Speed: 6.0ms preprocess, 146.9ms inference, 1.0ms postprocess per image at shape (1, 3, 640, 512)\n",
      "\n",
      "0: 640x512 1 drinking, 101.0ms\n",
      "Speed: 4.0ms preprocess, 101.0ms inference, 2.0ms postprocess per image at shape (1, 3, 640, 512)\n",
      "\n",
      "0: 640x512 1 drinking, 83.7ms\n",
      "Speed: 2.5ms preprocess, 83.7ms inference, 1.0ms postprocess per image at shape (1, 3, 640, 512)\n",
      "\n",
      "0: 640x512 2 drinkings, 96.0ms\n",
      "Speed: 6.0ms preprocess, 96.0ms inference, 2.0ms postprocess per image at shape (1, 3, 640, 512)\n",
      "\n",
      "0: 640x512 1 drinking, 92.1ms\n",
      "Speed: 3.0ms preprocess, 92.1ms inference, 1.0ms postprocess per image at shape (1, 3, 640, 512)\n",
      "\n",
      "0: 640x512 1 drinking, 95.9ms\n",
      "Speed: 3.0ms preprocess, 95.9ms inference, 1.0ms postprocess per image at shape (1, 3, 640, 512)\n",
      "\n",
      "0: 640x512 1 drinking, 110.0ms\n",
      "Speed: 3.0ms preprocess, 110.0ms inference, 1.0ms postprocess per image at shape (1, 3, 640, 512)\n",
      "\n",
      "0: 640x512 1 drinking, 84.8ms\n",
      "Speed: 3.0ms preprocess, 84.8ms inference, 1.0ms postprocess per image at shape (1, 3, 640, 512)\n",
      "\n",
      "0: 640x512 2 drinkings, 105.0ms\n",
      "Speed: 2.9ms preprocess, 105.0ms inference, 2.0ms postprocess per image at shape (1, 3, 640, 512)\n",
      "\n",
      "0: 640x512 1 drinking, 96.0ms\n",
      "Speed: 3.0ms preprocess, 96.0ms inference, 1.0ms postprocess per image at shape (1, 3, 640, 512)\n",
      "\n",
      "0: 640x512 1 drinking, 87.2ms\n",
      "Speed: 3.0ms preprocess, 87.2ms inference, 1.0ms postprocess per image at shape (1, 3, 640, 512)\n",
      "\n",
      "0: 640x512 1 drinking, 85.0ms\n",
      "Speed: 2.0ms preprocess, 85.0ms inference, 1.0ms postprocess per image at shape (1, 3, 640, 512)\n",
      "\n",
      "0: 640x512 1 drinking, 92.9ms\n",
      "Speed: 3.0ms preprocess, 92.9ms inference, 1.0ms postprocess per image at shape (1, 3, 640, 512)\n",
      "\n",
      "0: 640x512 1 drinking, 97.0ms\n",
      "Speed: 2.0ms preprocess, 97.0ms inference, 2.0ms postprocess per image at shape (1, 3, 640, 512)\n",
      "\n",
      "0: 640x512 1 drinking, 107.1ms\n",
      "Speed: 3.0ms preprocess, 107.1ms inference, 1.0ms postprocess per image at shape (1, 3, 640, 512)\n",
      "\n",
      "0: 640x512 1 drinking, 107.9ms\n",
      "Speed: 3.0ms preprocess, 107.9ms inference, 2.0ms postprocess per image at shape (1, 3, 640, 512)\n",
      "\n",
      "0: 640x512 2 drinkings, 149.2ms\n",
      "Speed: 7.0ms preprocess, 149.2ms inference, 3.0ms postprocess per image at shape (1, 3, 640, 512)\n",
      "\n",
      "0: 640x512 (no detections), 151.3ms\n",
      "Speed: 4.0ms preprocess, 151.3ms inference, 1.0ms postprocess per image at shape (1, 3, 640, 512)\n",
      "\n",
      "0: 640x512 (no detections), 127.9ms\n",
      "Speed: 4.0ms preprocess, 127.9ms inference, 1.0ms postprocess per image at shape (1, 3, 640, 512)\n",
      "\n",
      "0: 640x512 1 smoking, 160.7ms\n",
      "Speed: 3.0ms preprocess, 160.7ms inference, 3.0ms postprocess per image at shape (1, 3, 640, 512)\n",
      "\n",
      "0: 640x512 (no detections), 134.3ms\n",
      "Speed: 4.1ms preprocess, 134.3ms inference, 1.0ms postprocess per image at shape (1, 3, 640, 512)\n",
      "\n",
      "0: 640x512 (no detections), 103.7ms\n",
      "Speed: 3.0ms preprocess, 103.7ms inference, 1.0ms postprocess per image at shape (1, 3, 640, 512)\n",
      "\n",
      "0: 640x512 1 smoking, 130.3ms\n",
      "Speed: 2.0ms preprocess, 130.3ms inference, 1.0ms postprocess per image at shape (1, 3, 640, 512)\n",
      "\n",
      "0: 640x512 (no detections), 143.6ms\n",
      "Speed: 2.0ms preprocess, 143.6ms inference, 2.0ms postprocess per image at shape (1, 3, 640, 512)\n",
      "\n",
      "0: 640x512 1 smoking, 120.2ms\n",
      "Speed: 4.0ms preprocess, 120.2ms inference, 2.0ms postprocess per image at shape (1, 3, 640, 512)\n",
      "\n",
      "0: 640x512 1 smoking, 109.1ms\n",
      "Speed: 6.1ms preprocess, 109.1ms inference, 1.0ms postprocess per image at shape (1, 3, 640, 512)\n",
      "\n",
      "0: 640x512 (no detections), 164.1ms\n",
      "Speed: 7.0ms preprocess, 164.1ms inference, 1.0ms postprocess per image at shape (1, 3, 640, 512)\n",
      "\n",
      "0: 640x512 (no detections), 144.4ms\n",
      "Speed: 5.0ms preprocess, 144.4ms inference, 2.0ms postprocess per image at shape (1, 3, 640, 512)\n",
      "\n",
      "0: 640x512 (no detections), 163.3ms\n",
      "Speed: 7.0ms preprocess, 163.3ms inference, 2.0ms postprocess per image at shape (1, 3, 640, 512)\n",
      "\n",
      "0: 640x512 (no detections), 163.0ms\n",
      "Speed: 4.0ms preprocess, 163.0ms inference, 1.0ms postprocess per image at shape (1, 3, 640, 512)\n",
      "\n",
      "0: 640x512 (no detections), 156.7ms\n",
      "Speed: 5.0ms preprocess, 156.7ms inference, 1.0ms postprocess per image at shape (1, 3, 640, 512)\n",
      "\n",
      "0: 640x512 (no detections), 145.6ms\n",
      "Speed: 3.0ms preprocess, 145.6ms inference, 1.0ms postprocess per image at shape (1, 3, 640, 512)\n",
      "\n",
      "0: 640x512 (no detections), 162.0ms\n",
      "Speed: 4.0ms preprocess, 162.0ms inference, 1.0ms postprocess per image at shape (1, 3, 640, 512)\n",
      "\n",
      "0: 640x512 (no detections), 146.2ms\n",
      "Speed: 4.0ms preprocess, 146.2ms inference, 1.0ms postprocess per image at shape (1, 3, 640, 512)\n",
      "\n",
      "0: 640x512 (no detections), 151.9ms\n",
      "Speed: 7.0ms preprocess, 151.9ms inference, 1.0ms postprocess per image at shape (1, 3, 640, 512)\n",
      "\n",
      "0: 640x512 1 smoking, 117.1ms\n",
      "Speed: 2.0ms preprocess, 117.1ms inference, 1.0ms postprocess per image at shape (1, 3, 640, 512)\n",
      "\n",
      "0: 640x512 1 smoking, 108.2ms\n",
      "Speed: 2.0ms preprocess, 108.2ms inference, 2.0ms postprocess per image at shape (1, 3, 640, 512)\n",
      "\n",
      "0: 640x512 (no detections), 156.8ms\n",
      "Speed: 3.0ms preprocess, 156.8ms inference, 1.0ms postprocess per image at shape (1, 3, 640, 512)\n",
      "\n",
      "0: 640x512 (no detections), 203.9ms\n",
      "Speed: 5.0ms preprocess, 203.9ms inference, 2.0ms postprocess per image at shape (1, 3, 640, 512)\n",
      "\n",
      "0: 640x512 1 drinking, 158.0ms\n",
      "Speed: 8.0ms preprocess, 158.0ms inference, 2.0ms postprocess per image at shape (1, 3, 640, 512)\n",
      "\n",
      "0: 640x512 1 drinking, 123.3ms\n",
      "Speed: 3.0ms preprocess, 123.3ms inference, 1.0ms postprocess per image at shape (1, 3, 640, 512)\n",
      "\n",
      "0: 640x512 1 drinking, 160.4ms\n",
      "Speed: 3.0ms preprocess, 160.4ms inference, 1.0ms postprocess per image at shape (1, 3, 640, 512)\n",
      "\n",
      "0: 640x512 1 drinking, 141.7ms\n",
      "Speed: 3.0ms preprocess, 141.7ms inference, 3.0ms postprocess per image at shape (1, 3, 640, 512)\n",
      "\n",
      "0: 640x512 1 drinking, 146.6ms\n",
      "Speed: 4.0ms preprocess, 146.6ms inference, 1.0ms postprocess per image at shape (1, 3, 640, 512)\n",
      "\n",
      "0: 640x512 1 drinking, 99.0ms\n",
      "Speed: 4.0ms preprocess, 99.0ms inference, 1.0ms postprocess per image at shape (1, 3, 640, 512)\n",
      "\n",
      "0: 640x512 1 drinking, 124.5ms\n",
      "Speed: 2.0ms preprocess, 124.5ms inference, 1.0ms postprocess per image at shape (1, 3, 640, 512)\n",
      "\n",
      "0: 640x512 1 drinking, 117.9ms\n",
      "Speed: 3.0ms preprocess, 117.9ms inference, 1.0ms postprocess per image at shape (1, 3, 640, 512)\n",
      "\n",
      "0: 640x512 2 drinkings, 101.8ms\n",
      "Speed: 6.0ms preprocess, 101.8ms inference, 2.0ms postprocess per image at shape (1, 3, 640, 512)\n",
      "\n",
      "0: 640x512 1 drinking, 120.0ms\n",
      "Speed: 2.0ms preprocess, 120.0ms inference, 1.0ms postprocess per image at shape (1, 3, 640, 512)\n",
      "\n",
      "0: 640x512 1 drinking, 95.5ms\n",
      "Speed: 3.0ms preprocess, 95.5ms inference, 2.0ms postprocess per image at shape (1, 3, 640, 512)\n",
      "\n",
      "0: 640x512 1 drinking, 114.2ms\n",
      "Speed: 6.0ms preprocess, 114.2ms inference, 2.0ms postprocess per image at shape (1, 3, 640, 512)\n",
      "\n",
      "0: 640x512 2 drinkings, 108.1ms\n",
      "Speed: 6.0ms preprocess, 108.1ms inference, 1.0ms postprocess per image at shape (1, 3, 640, 512)\n",
      "\n",
      "0: 640x512 3 drinkings, 101.0ms\n",
      "Speed: 3.0ms preprocess, 101.0ms inference, 1.0ms postprocess per image at shape (1, 3, 640, 512)\n",
      "\n",
      "0: 640x512 2 drinkings, 100.9ms\n",
      "Speed: 3.0ms preprocess, 100.9ms inference, 2.0ms postprocess per image at shape (1, 3, 640, 512)\n",
      "\n",
      "0: 640x512 2 drinkings, 96.9ms\n",
      "Speed: 3.0ms preprocess, 96.9ms inference, 1.0ms postprocess per image at shape (1, 3, 640, 512)\n",
      "\n",
      "0: 640x512 2 drinkings, 99.9ms\n",
      "Speed: 3.0ms preprocess, 99.9ms inference, 1.0ms postprocess per image at shape (1, 3, 640, 512)\n",
      "\n",
      "0: 640x512 1 drinking, 98.7ms\n",
      "Speed: 3.0ms preprocess, 98.7ms inference, 1.0ms postprocess per image at shape (1, 3, 640, 512)\n",
      "\n",
      "0: 640x512 1 drinking, 102.0ms\n",
      "Speed: 3.0ms preprocess, 102.0ms inference, 3.5ms postprocess per image at shape (1, 3, 640, 512)\n",
      "\n",
      "0: 640x512 1 drinking, 142.2ms\n",
      "Speed: 3.0ms preprocess, 142.2ms inference, 2.0ms postprocess per image at shape (1, 3, 640, 512)\n",
      "\n",
      "0: 640x512 3 drinkings, 1 smoking, 87.9ms\n",
      "Speed: 3.0ms preprocess, 87.9ms inference, 2.0ms postprocess per image at shape (1, 3, 640, 512)\n",
      "\n",
      "0: 640x512 1 drinking, 98.9ms\n",
      "Speed: 3.0ms preprocess, 98.9ms inference, 2.0ms postprocess per image at shape (1, 3, 640, 512)\n",
      "\n",
      "0: 640x512 3 drinkings, 91.9ms\n",
      "Speed: 3.0ms preprocess, 91.9ms inference, 1.0ms postprocess per image at shape (1, 3, 640, 512)\n",
      "\n",
      "0: 640x512 3 drinkings, 94.9ms\n",
      "Speed: 6.0ms preprocess, 94.9ms inference, 1.0ms postprocess per image at shape (1, 3, 640, 512)\n",
      "\n",
      "0: 640x512 3 drinkings, 108.9ms\n",
      "Speed: 3.0ms preprocess, 108.9ms inference, 1.0ms postprocess per image at shape (1, 3, 640, 512)\n",
      "\n",
      "0: 640x512 3 drinkings, 88.9ms\n",
      "Speed: 3.0ms preprocess, 88.9ms inference, 1.0ms postprocess per image at shape (1, 3, 640, 512)\n",
      "\n",
      "0: 640x512 2 drinkings, 99.4ms\n",
      "Speed: 2.0ms preprocess, 99.4ms inference, 3.0ms postprocess per image at shape (1, 3, 640, 512)\n",
      "\n",
      "0: 640x512 2 drinkings, 93.4ms\n",
      "Speed: 3.0ms preprocess, 93.4ms inference, 1.0ms postprocess per image at shape (1, 3, 640, 512)\n",
      "\n",
      "0: 640x512 2 drinkings, 91.3ms\n",
      "Speed: 2.0ms preprocess, 91.3ms inference, 2.0ms postprocess per image at shape (1, 3, 640, 512)\n",
      "\n",
      "0: 640x512 2 drinkings, 90.4ms\n",
      "Speed: 3.0ms preprocess, 90.4ms inference, 1.0ms postprocess per image at shape (1, 3, 640, 512)\n",
      "\n",
      "0: 640x512 2 drinkings, 96.4ms\n",
      "Speed: 3.0ms preprocess, 96.4ms inference, 2.0ms postprocess per image at shape (1, 3, 640, 512)\n",
      "\n",
      "0: 640x512 2 drinkings, 98.4ms\n",
      "Speed: 3.0ms preprocess, 98.4ms inference, 1.0ms postprocess per image at shape (1, 3, 640, 512)\n",
      "\n",
      "0: 640x512 2 drinkings, 111.9ms\n",
      "Speed: 5.0ms preprocess, 111.9ms inference, 1.0ms postprocess per image at shape (1, 3, 640, 512)\n",
      "\n",
      "0: 640x512 2 drinkings, 95.9ms\n",
      "Speed: 3.0ms preprocess, 95.9ms inference, 2.0ms postprocess per image at shape (1, 3, 640, 512)\n",
      "\n",
      "0: 640x512 3 drinkings, 97.9ms\n",
      "Speed: 3.0ms preprocess, 97.9ms inference, 1.0ms postprocess per image at shape (1, 3, 640, 512)\n",
      "\n",
      "0: 640x512 1 drinking, 94.3ms\n",
      "Speed: 5.0ms preprocess, 94.3ms inference, 2.0ms postprocess per image at shape (1, 3, 640, 512)\n",
      "\n",
      "0: 640x512 1 drinking, 146.9ms\n",
      "Speed: 2.0ms preprocess, 146.9ms inference, 3.0ms postprocess per image at shape (1, 3, 640, 512)\n",
      "\n",
      "0: 640x512 2 drinkings, 125.9ms\n",
      "Speed: 3.0ms preprocess, 125.9ms inference, 1.0ms postprocess per image at shape (1, 3, 640, 512)\n",
      "\n",
      "0: 640x512 2 drinkings, 109.6ms\n",
      "Speed: 2.0ms preprocess, 109.6ms inference, 1.5ms postprocess per image at shape (1, 3, 640, 512)\n",
      "\n",
      "0: 640x512 2 drinkings, 139.9ms\n",
      "Speed: 3.0ms preprocess, 139.9ms inference, 1.0ms postprocess per image at shape (1, 3, 640, 512)\n",
      "\n",
      "0: 640x512 1 drinking, 116.4ms\n",
      "Speed: 3.5ms preprocess, 116.4ms inference, 2.0ms postprocess per image at shape (1, 3, 640, 512)\n",
      "\n",
      "0: 640x512 2 drinkings, 92.9ms\n",
      "Speed: 2.0ms preprocess, 92.9ms inference, 1.0ms postprocess per image at shape (1, 3, 640, 512)\n",
      "\n",
      "0: 640x512 3 drinkings, 102.9ms\n",
      "Speed: 3.0ms preprocess, 102.9ms inference, 1.0ms postprocess per image at shape (1, 3, 640, 512)\n",
      "\n",
      "0: 640x512 1 drinking, 104.9ms\n",
      "Speed: 3.0ms preprocess, 104.9ms inference, 1.0ms postprocess per image at shape (1, 3, 640, 512)\n",
      "\n",
      "0: 640x512 1 drinking, 82.5ms\n",
      "Speed: 3.0ms preprocess, 82.5ms inference, 2.0ms postprocess per image at shape (1, 3, 640, 512)\n",
      "\n",
      "0: 640x512 1 drinking, 97.9ms\n",
      "Speed: 6.0ms preprocess, 97.9ms inference, 1.0ms postprocess per image at shape (1, 3, 640, 512)\n",
      "\n",
      "0: 640x512 (no detections), 97.9ms\n",
      "Speed: 3.0ms preprocess, 97.9ms inference, 1.0ms postprocess per image at shape (1, 3, 640, 512)\n",
      "\n",
      "0: 640x512 (no detections), 87.5ms\n",
      "Speed: 3.0ms preprocess, 87.5ms inference, 1.0ms postprocess per image at shape (1, 3, 640, 512)\n",
      "\n",
      "0: 640x512 (no detections), 116.9ms\n",
      "Speed: 3.0ms preprocess, 116.9ms inference, 2.0ms postprocess per image at shape (1, 3, 640, 512)\n",
      "\n",
      "0: 640x512 (no detections), 124.4ms\n",
      "Speed: 3.1ms preprocess, 124.4ms inference, 2.0ms postprocess per image at shape (1, 3, 640, 512)\n",
      "\n",
      "0: 640x512 (no detections), 122.0ms\n",
      "Speed: 4.0ms preprocess, 122.0ms inference, 1.0ms postprocess per image at shape (1, 3, 640, 512)\n",
      "\n",
      "0: 640x512 (no detections), 109.0ms\n",
      "Speed: 2.0ms preprocess, 109.0ms inference, 0.0ms postprocess per image at shape (1, 3, 640, 512)\n",
      "\n",
      "0: 640x512 2 drinkings, 105.2ms\n",
      "Speed: 3.0ms preprocess, 105.2ms inference, 2.0ms postprocess per image at shape (1, 3, 640, 512)\n",
      "\n",
      "0: 640x512 2 drinkings, 126.7ms\n",
      "Speed: 2.5ms preprocess, 126.7ms inference, 1.0ms postprocess per image at shape (1, 3, 640, 512)\n",
      "\n",
      "0: 640x512 (no detections), 103.9ms\n",
      "Speed: 3.0ms preprocess, 103.9ms inference, 1.0ms postprocess per image at shape (1, 3, 640, 512)\n",
      "\n",
      "0: 640x512 1 drinking, 101.0ms\n",
      "Speed: 6.0ms preprocess, 101.0ms inference, 1.0ms postprocess per image at shape (1, 3, 640, 512)\n",
      "\n",
      "0: 640x512 1 drinking, 89.3ms\n",
      "Speed: 3.0ms preprocess, 89.3ms inference, 1.0ms postprocess per image at shape (1, 3, 640, 512)\n",
      "\n",
      "0: 640x512 (no detections), 91.0ms\n",
      "Speed: 2.0ms preprocess, 91.0ms inference, 1.0ms postprocess per image at shape (1, 3, 640, 512)\n",
      "\n",
      "0: 640x512 (no detections), 98.9ms\n",
      "Speed: 3.0ms preprocess, 98.9ms inference, 1.0ms postprocess per image at shape (1, 3, 640, 512)\n",
      "\n",
      "0: 640x512 (no detections), 98.1ms\n",
      "Speed: 6.0ms preprocess, 98.1ms inference, 1.0ms postprocess per image at shape (1, 3, 640, 512)\n",
      "\n",
      "0: 640x512 (no detections), 101.1ms\n",
      "Speed: 6.0ms preprocess, 101.1ms inference, 1.0ms postprocess per image at shape (1, 3, 640, 512)\n",
      "\n",
      "0: 640x512 (no detections), 107.7ms\n",
      "Speed: 2.0ms preprocess, 107.7ms inference, 0.0ms postprocess per image at shape (1, 3, 640, 512)\n",
      "\n",
      "0: 640x512 1 drinking, 88.3ms\n",
      "Speed: 4.0ms preprocess, 88.3ms inference, 1.0ms postprocess per image at shape (1, 3, 640, 512)\n",
      "\n",
      "0: 640x512 (no detections), 87.5ms\n",
      "Speed: 4.0ms preprocess, 87.5ms inference, 1.0ms postprocess per image at shape (1, 3, 640, 512)\n",
      "\n",
      "0: 640x512 (no detections), 148.9ms\n",
      "Speed: 6.0ms preprocess, 148.9ms inference, 1.0ms postprocess per image at shape (1, 3, 640, 512)\n",
      "\n",
      "0: 640x512 1 drinking, 115.7ms\n",
      "Speed: 3.5ms preprocess, 115.7ms inference, 1.0ms postprocess per image at shape (1, 3, 640, 512)\n",
      "\n",
      "0: 640x512 1 drinking, 89.0ms\n",
      "Speed: 3.0ms preprocess, 89.0ms inference, 1.0ms postprocess per image at shape (1, 3, 640, 512)\n",
      "\n",
      "0: 640x512 1 drinking, 98.2ms\n",
      "Speed: 3.0ms preprocess, 98.2ms inference, 1.0ms postprocess per image at shape (1, 3, 640, 512)\n",
      "\n",
      "0: 640x512 (no detections), 94.1ms\n",
      "Speed: 3.0ms preprocess, 94.1ms inference, 0.0ms postprocess per image at shape (1, 3, 640, 512)\n",
      "\n",
      "0: 640x512 (no detections), 105.8ms\n",
      "Speed: 2.5ms preprocess, 105.8ms inference, 0.0ms postprocess per image at shape (1, 3, 640, 512)\n",
      "\n",
      "0: 640x512 (no detections), 108.4ms\n",
      "Speed: 3.0ms preprocess, 108.4ms inference, 1.0ms postprocess per image at shape (1, 3, 640, 512)\n",
      "\n",
      "0: 640x512 (no detections), 99.9ms\n",
      "Speed: 3.0ms preprocess, 99.9ms inference, 0.0ms postprocess per image at shape (1, 3, 640, 512)\n",
      "\n",
      "0: 640x512 (no detections), 88.4ms\n",
      "Speed: 4.0ms preprocess, 88.4ms inference, 2.0ms postprocess per image at shape (1, 3, 640, 512)\n",
      "\n",
      "0: 640x512 (no detections), 90.2ms\n",
      "Speed: 3.0ms preprocess, 90.2ms inference, 1.0ms postprocess per image at shape (1, 3, 640, 512)\n",
      "\n",
      "0: 640x512 (no detections), 106.4ms\n",
      "Speed: 2.0ms preprocess, 106.4ms inference, 1.0ms postprocess per image at shape (1, 3, 640, 512)\n",
      "\n",
      "0: 640x512 (no detections), 107.9ms\n",
      "Speed: 3.0ms preprocess, 107.9ms inference, 1.0ms postprocess per image at shape (1, 3, 640, 512)\n",
      "\n",
      "0: 640x512 (no detections), 98.7ms\n",
      "Speed: 2.0ms preprocess, 98.7ms inference, 1.0ms postprocess per image at shape (1, 3, 640, 512)\n",
      "\n",
      "0: 640x512 (no detections), 105.8ms\n",
      "Speed: 4.0ms preprocess, 105.8ms inference, 1.0ms postprocess per image at shape (1, 3, 640, 512)\n",
      "\n",
      "0: 640x512 (no detections), 113.8ms\n",
      "Speed: 3.0ms preprocess, 113.8ms inference, 2.0ms postprocess per image at shape (1, 3, 640, 512)\n",
      "\n",
      "0: 640x512 (no detections), 127.5ms\n",
      "Speed: 6.0ms preprocess, 127.5ms inference, 1.0ms postprocess per image at shape (1, 3, 640, 512)\n",
      "\n",
      "0: 640x512 (no detections), 96.9ms\n",
      "Speed: 3.0ms preprocess, 96.9ms inference, 1.0ms postprocess per image at shape (1, 3, 640, 512)\n",
      "\n",
      "0: 640x512 (no detections), 87.3ms\n",
      "Speed: 3.0ms preprocess, 87.3ms inference, 0.0ms postprocess per image at shape (1, 3, 640, 512)\n",
      "\n",
      "0: 640x512 (no detections), 155.9ms\n",
      "Speed: 3.0ms preprocess, 155.9ms inference, 1.0ms postprocess per image at shape (1, 3, 640, 512)\n",
      "\n",
      "0: 640x512 (no detections), 114.8ms\n",
      "Speed: 3.0ms preprocess, 114.8ms inference, 1.0ms postprocess per image at shape (1, 3, 640, 512)\n",
      "\n",
      "0: 640x512 (no detections), 92.9ms\n",
      "Speed: 3.0ms preprocess, 92.9ms inference, 1.0ms postprocess per image at shape (1, 3, 640, 512)\n",
      "\n",
      "0: 640x512 (no detections), 110.0ms\n",
      "Speed: 3.0ms preprocess, 110.0ms inference, 1.0ms postprocess per image at shape (1, 3, 640, 512)\n",
      "\n",
      "0: 640x512 (no detections), 90.7ms\n",
      "Speed: 2.0ms preprocess, 90.7ms inference, 1.0ms postprocess per image at shape (1, 3, 640, 512)\n",
      "\n",
      "0: 640x512 (no detections), 102.1ms\n",
      "Speed: 3.0ms preprocess, 102.1ms inference, 1.0ms postprocess per image at shape (1, 3, 640, 512)\n",
      "\n",
      "0: 640x512 (no detections), 87.5ms\n",
      "Speed: 2.0ms preprocess, 87.5ms inference, 1.0ms postprocess per image at shape (1, 3, 640, 512)\n",
      "\n",
      "0: 640x512 (no detections), 150.4ms\n",
      "Speed: 2.0ms preprocess, 150.4ms inference, 1.0ms postprocess per image at shape (1, 3, 640, 512)\n",
      "\n",
      "0: 640x512 (no detections), 124.9ms\n",
      "Speed: 2.5ms preprocess, 124.9ms inference, 1.0ms postprocess per image at shape (1, 3, 640, 512)\n",
      "\n",
      "0: 640x512 (no detections), 114.6ms\n",
      "Speed: 3.0ms preprocess, 114.6ms inference, 0.0ms postprocess per image at shape (1, 3, 640, 512)\n",
      "\n",
      "0: 640x512 (no detections), 100.7ms\n",
      "Speed: 3.0ms preprocess, 100.7ms inference, 1.0ms postprocess per image at shape (1, 3, 640, 512)\n",
      "\n",
      "0: 640x512 (no detections), 84.7ms\n",
      "Speed: 3.0ms preprocess, 84.7ms inference, 1.0ms postprocess per image at shape (1, 3, 640, 512)\n",
      "\n",
      "0: 640x512 (no detections), 91.3ms\n",
      "Speed: 3.0ms preprocess, 91.3ms inference, 1.0ms postprocess per image at shape (1, 3, 640, 512)\n",
      "\n",
      "0: 640x512 (no detections), 91.9ms\n",
      "Speed: 2.0ms preprocess, 91.9ms inference, 1.0ms postprocess per image at shape (1, 3, 640, 512)\n",
      "\n",
      "0: 640x512 (no detections), 112.9ms\n",
      "Speed: 4.0ms preprocess, 112.9ms inference, 1.0ms postprocess per image at shape (1, 3, 640, 512)\n",
      "\n",
      "0: 640x512 (no detections), 98.9ms\n",
      "Speed: 3.0ms preprocess, 98.9ms inference, 1.0ms postprocess per image at shape (1, 3, 640, 512)\n",
      "\n",
      "0: 640x512 (no detections), 112.9ms\n",
      "Speed: 4.0ms preprocess, 112.9ms inference, 1.0ms postprocess per image at shape (1, 3, 640, 512)\n",
      "\n",
      "0: 640x512 (no detections), 88.3ms\n",
      "Speed: 2.0ms preprocess, 88.3ms inference, 1.0ms postprocess per image at shape (1, 3, 640, 512)\n",
      "\n",
      "0: 640x512 (no detections), 137.6ms\n",
      "Speed: 3.0ms preprocess, 137.6ms inference, 2.0ms postprocess per image at shape (1, 3, 640, 512)\n",
      "\n",
      "0: 640x512 1 drinking, 118.5ms\n",
      "Speed: 2.0ms preprocess, 118.5ms inference, 1.0ms postprocess per image at shape (1, 3, 640, 512)\n",
      "\n",
      "0: 640x512 (no detections), 115.8ms\n",
      "Speed: 6.0ms preprocess, 115.8ms inference, 1.0ms postprocess per image at shape (1, 3, 640, 512)\n",
      "\n",
      "0: 640x512 1 drinking, 105.0ms\n",
      "Speed: 6.0ms preprocess, 105.0ms inference, 1.0ms postprocess per image at shape (1, 3, 640, 512)\n",
      "\n",
      "0: 640x512 1 drinking, 104.9ms\n",
      "Speed: 3.0ms preprocess, 104.9ms inference, 1.0ms postprocess per image at shape (1, 3, 640, 512)\n",
      "\n",
      "0: 640x512 (no detections), 97.1ms\n",
      "Speed: 3.0ms preprocess, 97.1ms inference, 1.0ms postprocess per image at shape (1, 3, 640, 512)\n",
      "\n",
      "0: 640x512 (no detections), 101.1ms\n",
      "Speed: 3.0ms preprocess, 101.1ms inference, 1.0ms postprocess per image at shape (1, 3, 640, 512)\n",
      "\n",
      "0: 640x512 (no detections), 104.6ms\n",
      "Speed: 4.0ms preprocess, 104.6ms inference, 1.0ms postprocess per image at shape (1, 3, 640, 512)\n",
      "\n",
      "0: 640x512 (no detections), 89.9ms\n",
      "Speed: 3.0ms preprocess, 89.9ms inference, 1.0ms postprocess per image at shape (1, 3, 640, 512)\n",
      "\n",
      "0: 640x512 (no detections), 124.7ms\n",
      "Speed: 2.0ms preprocess, 124.7ms inference, 1.0ms postprocess per image at shape (1, 3, 640, 512)\n",
      "\n",
      "0: 640x512 (no detections), 84.9ms\n",
      "Speed: 3.0ms preprocess, 84.9ms inference, 1.0ms postprocess per image at shape (1, 3, 640, 512)\n",
      "\n",
      "0: 640x512 (no detections), 96.8ms\n",
      "Speed: 3.0ms preprocess, 96.8ms inference, 0.0ms postprocess per image at shape (1, 3, 640, 512)\n"
     ]
    }
   ],
   "source": [
    "import cv2\n",
    "import numpy as np\n",
    "from ultralytics import YOLO\n",
    "import os\n",
    "\n",
    "def apply_advanced_mosaic(image, box, intensity_level=3):\n",
    "    \"\"\"\n",
    "    강도 레벨별 모자이크 효과를 적용하는 함수\n",
    "    intensity_level: 1-5 (1: 가장 약한 모자이크, 5: 가장 강한 모자이크)\n",
    "    \"\"\"\n",
    "    x1, y1, x2, y2 = map(int, box)\n",
    "    roi = image[y1:y2, x1:x2].copy()\n",
    "    \n",
    "    # 강도 레벨에 따른 픽셀 크기 계산\n",
    "    # 강도가 높을수록 픽셀 크기가 커짐\n",
    "    pixel_sizes = {\n",
    "        1: 15,    # 매우 약한 모자이크\n",
    "        2: 25,   # 약한 모자이크\n",
    "        3: 35,   # 중간 모자이크\n",
    "        4: 45,   # 강한 모자이크\n",
    "        5: 65    # 매우 강한 모자이크\n",
    "    }\n",
    "    \n",
    "    pixel_size = pixel_sizes.get(intensity_level, 15)  # 기본값은 중간 강도\n",
    "    \n",
    "    h, w = roi.shape[:2]\n",
    "    \n",
    "    # 세로, 가로 블록 수 계산\n",
    "    v_blocks = h // pixel_size\n",
    "    h_blocks = w // pixel_size\n",
    "    \n",
    "    # 각 블록별로 평균값 계산하여 모자이크 적용\n",
    "    for i in range(v_blocks):\n",
    "        for j in range(h_blocks):\n",
    "            # 현재 블록의 영역 계산\n",
    "            y_start = i * pixel_size\n",
    "            y_end = min((i + 1) * pixel_size, h)\n",
    "            x_start = j * pixel_size\n",
    "            x_end = min((j + 1) * pixel_size, w)\n",
    "            \n",
    "            # 블록 내의 평균 색상 계산\n",
    "            block = roi[y_start:y_end, x_start:x_end]\n",
    "            color = np.mean(block, axis=(0, 1))\n",
    "            \n",
    "            # 평균 색상으로 블록 채우기\n",
    "            roi[y_start:y_end, x_start:x_end] = color\n",
    "    \n",
    "    # 남은 가장자리 처리\n",
    "    if h % pixel_size != 0:\n",
    "        for j in range(h_blocks):\n",
    "            y_start = v_blocks * pixel_size\n",
    "            x_start = j * pixel_size\n",
    "            x_end = min((j + 1) * pixel_size, w)\n",
    "            block = roi[y_start:, x_start:x_end]\n",
    "            if block.size > 0:\n",
    "                color = np.mean(block, axis=(0, 1))\n",
    "                roi[y_start:, x_start:x_end] = color\n",
    "    \n",
    "    if w % pixel_size != 0:\n",
    "        for i in range(v_blocks):\n",
    "            y_start = i * pixel_size\n",
    "            y_end = min((i + 1) * pixel_size, h)\n",
    "            x_start = h_blocks * pixel_size\n",
    "            block = roi[y_start:y_end, x_start:]\n",
    "            if block.size > 0:\n",
    "                color = np.mean(block, axis=(0, 1))\n",
    "                roi[y_start:y_end, x_start:] = color\n",
    "    \n",
    "    # 결과 적용\n",
    "    image[y1:y2, x1:x2] = roi\n",
    "    return image\n",
    "\n",
    "def detect_and_mosaic(model_path, video_source, output_path, mosaic_intensity=3):\n",
    "    \"\"\"\n",
    "    동영상에서 객체를 감지하고 모자이크 처리하여 출력 동영상 파일로 저장\n",
    "    \n",
    "    Parameters:\n",
    "    model_path (str): 학습된 YOLO 모델 파일 경로\n",
    "    video_source (str): 입력 동영상 파일 경로 또는 0 (웹캠)\n",
    "    output_path (str): 처리된 동영상 출력 파일 경로\n",
    "    mosaic_intensity (int, optional): 모자이크 강도 (1-5)\n",
    "    \"\"\"\n",
    "    # YOLO 모델 로드\n",
    "    model = YOLO(model_path)\n",
    "    \n",
    "    # 입력 동영상 캡처\n",
    "    cap = cv2.VideoCapture(video_source)\n",
    "    \n",
    "    # 출력 동영상 설정\n",
    "    width = int(cap.get(cv2.CAP_PROP_FRAME_WIDTH))\n",
    "    height = int(cap.get(cv2.CAP_PROP_FRAME_HEIGHT))\n",
    "    fps = int(cap.get(cv2.CAP_PROP_FPS))\n",
    "    \n",
    "    out = cv2.VideoWriter(\n",
    "        output_path,\n",
    "        cv2.VideoWriter_fourcc(*'mp4v'),\n",
    "        fps,\n",
    "        (width, height)\n",
    "    )\n",
    "    \n",
    "    while cap.isOpened():\n",
    "        success, frame = cap.read()\n",
    "        if not success:\n",
    "            break\n",
    "            \n",
    "        # YOLO로 객체 감지\n",
    "        results = model(frame)\n",
    "        \n",
    "        # 탐지된 객체에 모자이크 적용\n",
    "        for result in results:\n",
    "            boxes = result.boxes.xyxy.cpu().numpy()\n",
    "            for box in boxes:\n",
    "                frame = apply_advanced_mosaic(frame, box, mosaic_intensity)\n",
    "        \n",
    "        # 처리된 프레임을 출력 동영상에 저장\n",
    "        out.write(frame)\n",
    "    \n",
    "    # 리소스 해제\n",
    "    cap.release()\n",
    "    out.release()\n",
    "\n",
    "if __name__ == \"__main__\":\n",
    "    # 학습된 YOLO 모델 경로\n",
    "    model_path = \"yolo_model.pt\"\n",
    "    \n",
    "    # 입력 동영상 경로\n",
    "    video_source = \"beer.mp4\"\n",
    "    \n",
    "    # 출력 동영상 경로\n",
    "    output_path = \"beer_output.mp4\"\n",
    "    \n",
    "    # 모자이크 강도 (1-5)\n",
    "    mosaic_intensity = 5\n",
    "    \n",
    "    detect_and_mosaic(model_path, video_source, output_path, mosaic_intensity)"
   ]
  },
  {
   "cell_type": "code",
   "execution_count": 20,
   "id": "1e3972c7-fc8a-4783-b8de-9751a6fee7ec",
   "metadata": {},
   "outputs": [
    {
     "name": "stdout",
     "output_type": "stream",
     "text": [
      "\n",
      "0: 480x640 1 smoking, 96.9ms\n",
      "Speed: 3.0ms preprocess, 96.9ms inference, 2.0ms postprocess per image at shape (1, 3, 480, 640)\n",
      "\n",
      "0: 480x640 1 smoking, 129.9ms\n",
      "Speed: 2.0ms preprocess, 129.9ms inference, 1.0ms postprocess per image at shape (1, 3, 480, 640)\n",
      "\n",
      "0: 480x640 1 smoking, 129.9ms\n",
      "Speed: 3.0ms preprocess, 129.9ms inference, 2.0ms postprocess per image at shape (1, 3, 480, 640)\n",
      "\n",
      "0: 480x640 1 smoking, 127.9ms\n",
      "Speed: 2.0ms preprocess, 127.9ms inference, 1.0ms postprocess per image at shape (1, 3, 480, 640)\n",
      "\n",
      "0: 480x640 1 smoking, 126.9ms\n",
      "Speed: 3.0ms preprocess, 126.9ms inference, 1.0ms postprocess per image at shape (1, 3, 480, 640)\n",
      "\n",
      "0: 480x640 1 smoking, 102.9ms\n",
      "Speed: 3.0ms preprocess, 102.9ms inference, 2.0ms postprocess per image at shape (1, 3, 480, 640)\n",
      "\n",
      "0: 480x640 1 smoking, 82.9ms\n",
      "Speed: 2.0ms preprocess, 82.9ms inference, 1.0ms postprocess per image at shape (1, 3, 480, 640)\n",
      "\n",
      "0: 480x640 1 smoking, 77.9ms\n",
      "Speed: 2.0ms preprocess, 77.9ms inference, 1.0ms postprocess per image at shape (1, 3, 480, 640)\n",
      "\n",
      "0: 480x640 1 smoking, 104.9ms\n",
      "Speed: 2.0ms preprocess, 104.9ms inference, 1.0ms postprocess per image at shape (1, 3, 480, 640)\n",
      "\n",
      "0: 480x640 1 smoking, 85.9ms\n",
      "Speed: 2.0ms preprocess, 85.9ms inference, 1.0ms postprocess per image at shape (1, 3, 480, 640)\n",
      "\n",
      "0: 480x640 1 smoking, 75.9ms\n",
      "Speed: 2.0ms preprocess, 75.9ms inference, 2.0ms postprocess per image at shape (1, 3, 480, 640)\n",
      "\n",
      "0: 480x640 1 smoking, 81.9ms\n",
      "Speed: 1.0ms preprocess, 81.9ms inference, 1.0ms postprocess per image at shape (1, 3, 480, 640)\n",
      "\n",
      "0: 480x640 1 smoking, 83.9ms\n",
      "Speed: 3.0ms preprocess, 83.9ms inference, 1.0ms postprocess per image at shape (1, 3, 480, 640)\n",
      "\n",
      "0: 480x640 1 smoking, 79.9ms\n",
      "Speed: 2.0ms preprocess, 79.9ms inference, 2.0ms postprocess per image at shape (1, 3, 480, 640)\n",
      "\n",
      "0: 480x640 1 smoking, 101.9ms\n",
      "Speed: 2.0ms preprocess, 101.9ms inference, 1.0ms postprocess per image at shape (1, 3, 480, 640)\n",
      "\n",
      "0: 480x640 1 smoking, 86.9ms\n",
      "Speed: 2.0ms preprocess, 86.9ms inference, 1.0ms postprocess per image at shape (1, 3, 480, 640)\n",
      "\n",
      "0: 480x640 1 smoking, 77.9ms\n",
      "Speed: 2.0ms preprocess, 77.9ms inference, 2.0ms postprocess per image at shape (1, 3, 480, 640)\n",
      "\n",
      "0: 480x640 1 smoking, 74.9ms\n",
      "Speed: 2.0ms preprocess, 74.9ms inference, 2.0ms postprocess per image at shape (1, 3, 480, 640)\n",
      "\n",
      "0: 480x640 1 smoking, 77.9ms\n",
      "Speed: 2.0ms preprocess, 77.9ms inference, 2.0ms postprocess per image at shape (1, 3, 480, 640)\n",
      "\n",
      "0: 480x640 1 smoking, 74.9ms\n",
      "Speed: 2.0ms preprocess, 74.9ms inference, 1.0ms postprocess per image at shape (1, 3, 480, 640)\n",
      "\n",
      "0: 480x640 1 smoking, 76.9ms\n",
      "Speed: 2.0ms preprocess, 76.9ms inference, 1.0ms postprocess per image at shape (1, 3, 480, 640)\n",
      "\n",
      "0: 480x640 1 smoking, 75.9ms\n",
      "Speed: 1.0ms preprocess, 75.9ms inference, 1.0ms postprocess per image at shape (1, 3, 480, 640)\n",
      "\n",
      "0: 480x640 1 smoking, 82.9ms\n",
      "Speed: 2.0ms preprocess, 82.9ms inference, 1.0ms postprocess per image at shape (1, 3, 480, 640)\n",
      "\n",
      "0: 480x640 1 smoking, 77.9ms\n",
      "Speed: 2.0ms preprocess, 77.9ms inference, 1.0ms postprocess per image at shape (1, 3, 480, 640)\n",
      "\n",
      "0: 480x640 1 smoking, 88.9ms\n",
      "Speed: 3.0ms preprocess, 88.9ms inference, 1.0ms postprocess per image at shape (1, 3, 480, 640)\n",
      "\n",
      "0: 480x640 1 smoking, 75.9ms\n",
      "Speed: 2.0ms preprocess, 75.9ms inference, 2.0ms postprocess per image at shape (1, 3, 480, 640)\n",
      "\n",
      "0: 480x640 1 smoking, 82.9ms\n",
      "Speed: 2.0ms preprocess, 82.9ms inference, 1.0ms postprocess per image at shape (1, 3, 480, 640)\n",
      "\n",
      "0: 480x640 1 smoking, 91.9ms\n",
      "Speed: 2.0ms preprocess, 91.9ms inference, 1.0ms postprocess per image at shape (1, 3, 480, 640)\n",
      "\n",
      "0: 480x640 1 smoking, 74.9ms\n",
      "Speed: 2.0ms preprocess, 74.9ms inference, 1.0ms postprocess per image at shape (1, 3, 480, 640)\n",
      "\n",
      "0: 480x640 1 smoking, 78.9ms\n",
      "Speed: 2.0ms preprocess, 78.9ms inference, 2.0ms postprocess per image at shape (1, 3, 480, 640)\n",
      "\n",
      "0: 480x640 1 smoking, 78.9ms\n",
      "Speed: 2.0ms preprocess, 78.9ms inference, 2.0ms postprocess per image at shape (1, 3, 480, 640)\n",
      "\n",
      "0: 480x640 1 smoking, 89.9ms\n",
      "Speed: 3.0ms preprocess, 89.9ms inference, 1.0ms postprocess per image at shape (1, 3, 480, 640)\n",
      "\n",
      "0: 480x640 1 smoking, 79.9ms\n",
      "Speed: 2.0ms preprocess, 79.9ms inference, 2.0ms postprocess per image at shape (1, 3, 480, 640)\n",
      "\n",
      "0: 480x640 1 smoking, 90.9ms\n",
      "Speed: 2.0ms preprocess, 90.9ms inference, 3.0ms postprocess per image at shape (1, 3, 480, 640)\n",
      "\n",
      "0: 480x640 1 smoking, 78.9ms\n",
      "Speed: 1.0ms preprocess, 78.9ms inference, 2.0ms postprocess per image at shape (1, 3, 480, 640)\n",
      "\n",
      "0: 480x640 1 smoking, 99.9ms\n",
      "Speed: 2.0ms preprocess, 99.9ms inference, 1.0ms postprocess per image at shape (1, 3, 480, 640)\n",
      "\n",
      "0: 480x640 1 smoking, 79.9ms\n",
      "Speed: 2.0ms preprocess, 79.9ms inference, 1.0ms postprocess per image at shape (1, 3, 480, 640)\n",
      "\n",
      "0: 480x640 1 smoking, 75.9ms\n",
      "Speed: 2.0ms preprocess, 75.9ms inference, 1.0ms postprocess per image at shape (1, 3, 480, 640)\n",
      "\n",
      "0: 480x640 1 smoking, 72.9ms\n",
      "Speed: 2.0ms preprocess, 72.9ms inference, 1.0ms postprocess per image at shape (1, 3, 480, 640)\n",
      "\n",
      "0: 480x640 1 smoking, 72.9ms\n",
      "Speed: 1.0ms preprocess, 72.9ms inference, 2.0ms postprocess per image at shape (1, 3, 480, 640)\n",
      "\n",
      "0: 480x640 1 smoking, 71.9ms\n",
      "Speed: 1.0ms preprocess, 71.9ms inference, 2.0ms postprocess per image at shape (1, 3, 480, 640)\n",
      "\n",
      "0: 480x640 1 smoking, 78.9ms\n",
      "Speed: 2.0ms preprocess, 78.9ms inference, 1.0ms postprocess per image at shape (1, 3, 480, 640)\n",
      "\n",
      "0: 480x640 1 smoking, 71.9ms\n",
      "Speed: 2.0ms preprocess, 71.9ms inference, 2.0ms postprocess per image at shape (1, 3, 480, 640)\n",
      "\n",
      "0: 480x640 1 smoking, 71.9ms\n",
      "Speed: 2.0ms preprocess, 71.9ms inference, 1.0ms postprocess per image at shape (1, 3, 480, 640)\n",
      "\n",
      "0: 480x640 1 smoking, 70.9ms\n",
      "Speed: 2.0ms preprocess, 70.9ms inference, 2.0ms postprocess per image at shape (1, 3, 480, 640)\n",
      "\n",
      "0: 480x640 1 smoking, 77.9ms\n",
      "Speed: 2.0ms preprocess, 77.9ms inference, 1.0ms postprocess per image at shape (1, 3, 480, 640)\n",
      "\n",
      "0: 480x640 1 smoking, 129.9ms\n",
      "Speed: 2.0ms preprocess, 129.9ms inference, 1.0ms postprocess per image at shape (1, 3, 480, 640)\n",
      "\n",
      "0: 480x640 1 smoking, 81.9ms\n",
      "Speed: 3.0ms preprocess, 81.9ms inference, 2.0ms postprocess per image at shape (1, 3, 480, 640)\n",
      "\n",
      "0: 480x640 1 smoking, 123.9ms\n",
      "Speed: 2.0ms preprocess, 123.9ms inference, 2.0ms postprocess per image at shape (1, 3, 480, 640)\n",
      "\n",
      "0: 480x640 1 smoking, 84.9ms\n",
      "Speed: 2.0ms preprocess, 84.9ms inference, 1.0ms postprocess per image at shape (1, 3, 480, 640)\n",
      "\n",
      "0: 480x640 1 smoking, 83.9ms\n",
      "Speed: 2.0ms preprocess, 83.9ms inference, 1.0ms postprocess per image at shape (1, 3, 480, 640)\n",
      "\n",
      "0: 480x640 1 smoking, 85.9ms\n",
      "Speed: 2.0ms preprocess, 85.9ms inference, 1.0ms postprocess per image at shape (1, 3, 480, 640)\n",
      "\n",
      "0: 480x640 1 smoking, 76.9ms\n",
      "Speed: 2.0ms preprocess, 76.9ms inference, 2.0ms postprocess per image at shape (1, 3, 480, 640)\n",
      "\n",
      "0: 480x640 1 smoking, 74.9ms\n",
      "Speed: 2.0ms preprocess, 74.9ms inference, 1.0ms postprocess per image at shape (1, 3, 480, 640)\n",
      "\n",
      "0: 480x640 1 smoking, 75.9ms\n",
      "Speed: 1.0ms preprocess, 75.9ms inference, 2.0ms postprocess per image at shape (1, 3, 480, 640)\n",
      "\n",
      "0: 480x640 1 smoking, 72.9ms\n",
      "Speed: 2.0ms preprocess, 72.9ms inference, 1.0ms postprocess per image at shape (1, 3, 480, 640)\n",
      "\n",
      "0: 480x640 1 smoking, 76.9ms\n",
      "Speed: 1.0ms preprocess, 76.9ms inference, 1.0ms postprocess per image at shape (1, 3, 480, 640)\n",
      "\n",
      "0: 480x640 1 smoking, 77.9ms\n",
      "Speed: 2.0ms preprocess, 77.9ms inference, 1.0ms postprocess per image at shape (1, 3, 480, 640)\n",
      "\n",
      "0: 480x640 1 smoking, 96.9ms\n",
      "Speed: 2.0ms preprocess, 96.9ms inference, 2.0ms postprocess per image at shape (1, 3, 480, 640)\n",
      "\n",
      "0: 480x640 1 smoking, 112.9ms\n",
      "Speed: 2.0ms preprocess, 112.9ms inference, 1.0ms postprocess per image at shape (1, 3, 480, 640)\n",
      "\n",
      "0: 480x640 1 smoking, 112.9ms\n",
      "Speed: 2.0ms preprocess, 112.9ms inference, 2.0ms postprocess per image at shape (1, 3, 480, 640)\n",
      "\n",
      "0: 480x640 1 smoking, 113.9ms\n",
      "Speed: 2.0ms preprocess, 113.9ms inference, 1.0ms postprocess per image at shape (1, 3, 480, 640)\n",
      "\n",
      "0: 480x640 1 smoking, 110.9ms\n",
      "Speed: 2.0ms preprocess, 110.9ms inference, 1.0ms postprocess per image at shape (1, 3, 480, 640)\n",
      "\n",
      "0: 480x640 1 smoking, 128.9ms\n",
      "Speed: 3.0ms preprocess, 128.9ms inference, 2.0ms postprocess per image at shape (1, 3, 480, 640)\n",
      "\n",
      "0: 480x640 1 smoking, 82.9ms\n",
      "Speed: 2.0ms preprocess, 82.9ms inference, 2.0ms postprocess per image at shape (1, 3, 480, 640)\n",
      "\n",
      "0: 480x640 1 smoking, 77.9ms\n",
      "Speed: 2.0ms preprocess, 77.9ms inference, 2.0ms postprocess per image at shape (1, 3, 480, 640)\n",
      "\n",
      "0: 480x640 1 smoking, 74.9ms\n",
      "Speed: 2.0ms preprocess, 74.9ms inference, 1.0ms postprocess per image at shape (1, 3, 480, 640)\n",
      "\n",
      "0: 480x640 1 smoking, 75.9ms\n",
      "Speed: 2.0ms preprocess, 75.9ms inference, 1.0ms postprocess per image at shape (1, 3, 480, 640)\n",
      "\n",
      "0: 480x640 1 smoking, 74.9ms\n",
      "Speed: 1.0ms preprocess, 74.9ms inference, 1.0ms postprocess per image at shape (1, 3, 480, 640)\n",
      "\n",
      "0: 480x640 1 smoking, 73.9ms\n",
      "Speed: 1.0ms preprocess, 73.9ms inference, 1.0ms postprocess per image at shape (1, 3, 480, 640)\n",
      "\n",
      "0: 480x640 1 smoking, 70.9ms\n",
      "Speed: 2.0ms preprocess, 70.9ms inference, 1.0ms postprocess per image at shape (1, 3, 480, 640)\n",
      "\n",
      "0: 480x640 1 smoking, 70.9ms\n",
      "Speed: 2.0ms preprocess, 70.9ms inference, 1.0ms postprocess per image at shape (1, 3, 480, 640)\n",
      "\n",
      "0: 480x640 1 smoking, 71.9ms\n",
      "Speed: 1.0ms preprocess, 71.9ms inference, 2.0ms postprocess per image at shape (1, 3, 480, 640)\n",
      "\n",
      "0: 480x640 1 smoking, 72.9ms\n",
      "Speed: 1.0ms preprocess, 72.9ms inference, 2.0ms postprocess per image at shape (1, 3, 480, 640)\n",
      "\n",
      "0: 480x640 1 smoking, 71.9ms\n",
      "Speed: 2.0ms preprocess, 71.9ms inference, 1.0ms postprocess per image at shape (1, 3, 480, 640)\n",
      "\n",
      "0: 480x640 1 smoking, 77.9ms\n",
      "Speed: 2.0ms preprocess, 77.9ms inference, 2.0ms postprocess per image at shape (1, 3, 480, 640)\n",
      "\n",
      "0: 480x640 1 smoking, 79.9ms\n",
      "Speed: 2.0ms preprocess, 79.9ms inference, 1.0ms postprocess per image at shape (1, 3, 480, 640)\n",
      "\n",
      "0: 480x640 1 smoking, 75.9ms\n",
      "Speed: 2.0ms preprocess, 75.9ms inference, 1.0ms postprocess per image at shape (1, 3, 480, 640)\n",
      "\n",
      "0: 480x640 1 smoking, 76.9ms\n",
      "Speed: 2.0ms preprocess, 76.9ms inference, 2.0ms postprocess per image at shape (1, 3, 480, 640)\n",
      "\n",
      "0: 480x640 1 smoking, 94.9ms\n",
      "Speed: 2.0ms preprocess, 94.9ms inference, 1.0ms postprocess per image at shape (1, 3, 480, 640)\n",
      "\n",
      "0: 480x640 1 smoking, 107.9ms\n",
      "Speed: 2.0ms preprocess, 107.9ms inference, 1.0ms postprocess per image at shape (1, 3, 480, 640)\n",
      "\n",
      "0: 480x640 1 smoking, 106.9ms\n",
      "Speed: 2.0ms preprocess, 106.9ms inference, 2.0ms postprocess per image at shape (1, 3, 480, 640)\n",
      "\n",
      "0: 480x640 1 smoking, 108.9ms\n",
      "Speed: 2.0ms preprocess, 108.9ms inference, 1.0ms postprocess per image at shape (1, 3, 480, 640)\n",
      "\n",
      "0: 480x640 1 smoking, 92.9ms\n",
      "Speed: 2.0ms preprocess, 92.9ms inference, 1.0ms postprocess per image at shape (1, 3, 480, 640)\n",
      "\n",
      "0: 480x640 1 smoking, 72.9ms\n",
      "Speed: 2.0ms preprocess, 72.9ms inference, 1.0ms postprocess per image at shape (1, 3, 480, 640)\n",
      "\n",
      "0: 480x640 1 smoking, 72.9ms\n",
      "Speed: 2.0ms preprocess, 72.9ms inference, 1.0ms postprocess per image at shape (1, 3, 480, 640)\n",
      "\n",
      "0: 480x640 2 smokings, 80.9ms\n",
      "Speed: 2.0ms preprocess, 80.9ms inference, 2.0ms postprocess per image at shape (1, 3, 480, 640)\n",
      "\n",
      "0: 480x640 2 smokings, 78.9ms\n",
      "Speed: 3.0ms preprocess, 78.9ms inference, 1.0ms postprocess per image at shape (1, 3, 480, 640)\n",
      "\n",
      "0: 480x640 2 smokings, 73.9ms\n",
      "Speed: 2.0ms preprocess, 73.9ms inference, 1.0ms postprocess per image at shape (1, 3, 480, 640)\n",
      "\n",
      "0: 480x640 2 smokings, 79.9ms\n",
      "Speed: 1.0ms preprocess, 79.9ms inference, 1.0ms postprocess per image at shape (1, 3, 480, 640)\n",
      "\n",
      "0: 480x640 2 smokings, 82.9ms\n",
      "Speed: 2.0ms preprocess, 82.9ms inference, 1.0ms postprocess per image at shape (1, 3, 480, 640)\n",
      "\n",
      "0: 480x640 2 smokings, 70.9ms\n",
      "Speed: 2.0ms preprocess, 70.9ms inference, 2.0ms postprocess per image at shape (1, 3, 480, 640)\n",
      "\n",
      "0: 480x640 2 smokings, 70.9ms\n",
      "Speed: 1.0ms preprocess, 70.9ms inference, 1.0ms postprocess per image at shape (1, 3, 480, 640)\n",
      "\n",
      "0: 480x640 1 smoking, 70.9ms\n",
      "Speed: 2.0ms preprocess, 70.9ms inference, 1.0ms postprocess per image at shape (1, 3, 480, 640)\n",
      "\n",
      "0: 480x640 1 smoking, 69.9ms\n",
      "Speed: 2.0ms preprocess, 69.9ms inference, 2.0ms postprocess per image at shape (1, 3, 480, 640)\n",
      "\n",
      "0: 480x640 2 smokings, 70.9ms\n",
      "Speed: 2.0ms preprocess, 70.9ms inference, 1.0ms postprocess per image at shape (1, 3, 480, 640)\n",
      "\n",
      "0: 480x640 2 smokings, 71.9ms\n",
      "Speed: 2.0ms preprocess, 71.9ms inference, 1.0ms postprocess per image at shape (1, 3, 480, 640)\n",
      "\n",
      "0: 480x640 2 smokings, 69.9ms\n",
      "Speed: 2.0ms preprocess, 69.9ms inference, 1.0ms postprocess per image at shape (1, 3, 480, 640)\n",
      "\n",
      "0: 480x640 (no detections), 71.9ms\n",
      "Speed: 2.0ms preprocess, 71.9ms inference, 1.0ms postprocess per image at shape (1, 3, 480, 640)\n",
      "\n",
      "0: 480x640 (no detections), 71.9ms\n",
      "Speed: 2.0ms preprocess, 71.9ms inference, 1.0ms postprocess per image at shape (1, 3, 480, 640)\n",
      "\n",
      "0: 480x640 1 smoking, 75.9ms\n",
      "Speed: 1.0ms preprocess, 75.9ms inference, 1.0ms postprocess per image at shape (1, 3, 480, 640)\n",
      "\n",
      "0: 480x640 (no detections), 73.9ms\n",
      "Speed: 1.0ms preprocess, 73.9ms inference, 1.0ms postprocess per image at shape (1, 3, 480, 640)\n",
      "\n",
      "0: 480x640 1 smoking, 72.9ms\n",
      "Speed: 1.0ms preprocess, 72.9ms inference, 1.0ms postprocess per image at shape (1, 3, 480, 640)\n",
      "\n",
      "0: 480x640 1 smoking, 70.9ms\n",
      "Speed: 2.0ms preprocess, 70.9ms inference, 1.0ms postprocess per image at shape (1, 3, 480, 640)\n",
      "\n",
      "0: 480x640 1 smoking, 70.9ms\n",
      "Speed: 1.0ms preprocess, 70.9ms inference, 2.0ms postprocess per image at shape (1, 3, 480, 640)\n",
      "\n",
      "0: 480x640 1 smoking, 73.9ms\n",
      "Speed: 2.0ms preprocess, 73.9ms inference, 1.0ms postprocess per image at shape (1, 3, 480, 640)\n",
      "\n",
      "0: 480x640 1 smoking, 70.9ms\n",
      "Speed: 2.0ms preprocess, 70.9ms inference, 2.0ms postprocess per image at shape (1, 3, 480, 640)\n",
      "\n",
      "0: 480x640 1 smoking, 78.9ms\n",
      "Speed: 2.0ms preprocess, 78.9ms inference, 1.0ms postprocess per image at shape (1, 3, 480, 640)\n",
      "\n",
      "0: 480x640 1 smoking, 70.9ms\n",
      "Speed: 2.0ms preprocess, 70.9ms inference, 2.0ms postprocess per image at shape (1, 3, 480, 640)\n",
      "\n",
      "0: 480x640 1 smoking, 70.9ms\n",
      "Speed: 2.0ms preprocess, 70.9ms inference, 1.0ms postprocess per image at shape (1, 3, 480, 640)\n",
      "\n",
      "0: 480x640 1 smoking, 74.9ms\n",
      "Speed: 2.0ms preprocess, 74.9ms inference, 1.0ms postprocess per image at shape (1, 3, 480, 640)\n",
      "\n",
      "0: 480x640 1 smoking, 74.9ms\n",
      "Speed: 2.0ms preprocess, 74.9ms inference, 2.0ms postprocess per image at shape (1, 3, 480, 640)\n",
      "\n",
      "0: 480x640 1 smoking, 72.9ms\n",
      "Speed: 2.0ms preprocess, 72.9ms inference, 1.0ms postprocess per image at shape (1, 3, 480, 640)\n",
      "\n",
      "0: 480x640 1 smoking, 69.9ms\n",
      "Speed: 2.0ms preprocess, 69.9ms inference, 2.0ms postprocess per image at shape (1, 3, 480, 640)\n",
      "\n",
      "0: 480x640 1 smoking, 71.9ms\n",
      "Speed: 2.0ms preprocess, 71.9ms inference, 1.0ms postprocess per image at shape (1, 3, 480, 640)\n",
      "\n",
      "0: 480x640 1 smoking, 70.9ms\n",
      "Speed: 2.0ms preprocess, 70.9ms inference, 2.0ms postprocess per image at shape (1, 3, 480, 640)\n",
      "\n",
      "0: 480x640 1 smoking, 70.9ms\n",
      "Speed: 2.0ms preprocess, 70.9ms inference, 1.0ms postprocess per image at shape (1, 3, 480, 640)\n",
      "\n",
      "0: 480x640 1 smoking, 74.9ms\n",
      "Speed: 2.0ms preprocess, 74.9ms inference, 1.0ms postprocess per image at shape (1, 3, 480, 640)\n",
      "\n",
      "0: 480x640 1 smoking, 70.9ms\n",
      "Speed: 1.0ms preprocess, 70.9ms inference, 2.0ms postprocess per image at shape (1, 3, 480, 640)\n",
      "\n",
      "0: 480x640 1 smoking, 72.9ms\n",
      "Speed: 2.0ms preprocess, 72.9ms inference, 2.0ms postprocess per image at shape (1, 3, 480, 640)\n",
      "\n",
      "0: 480x640 1 smoking, 69.9ms\n",
      "Speed: 2.0ms preprocess, 69.9ms inference, 2.0ms postprocess per image at shape (1, 3, 480, 640)\n",
      "\n",
      "0: 480x640 1 smoking, 70.9ms\n",
      "Speed: 1.0ms preprocess, 70.9ms inference, 2.0ms postprocess per image at shape (1, 3, 480, 640)\n",
      "\n",
      "0: 480x640 1 smoking, 71.9ms\n",
      "Speed: 2.0ms preprocess, 71.9ms inference, 1.0ms postprocess per image at shape (1, 3, 480, 640)\n",
      "\n",
      "0: 480x640 1 smoking, 70.9ms\n",
      "Speed: 2.0ms preprocess, 70.9ms inference, 2.0ms postprocess per image at shape (1, 3, 480, 640)\n",
      "\n",
      "0: 480x640 1 smoking, 71.9ms\n",
      "Speed: 1.0ms preprocess, 71.9ms inference, 1.0ms postprocess per image at shape (1, 3, 480, 640)\n",
      "\n",
      "0: 480x640 1 smoking, 87.9ms\n",
      "Speed: 2.0ms preprocess, 87.9ms inference, 1.0ms postprocess per image at shape (1, 3, 480, 640)\n",
      "\n",
      "0: 480x640 1 smoking, 75.9ms\n",
      "Speed: 2.0ms preprocess, 75.9ms inference, 1.0ms postprocess per image at shape (1, 3, 480, 640)\n",
      "\n",
      "0: 480x640 1 smoking, 81.9ms\n",
      "Speed: 2.0ms preprocess, 81.9ms inference, 2.0ms postprocess per image at shape (1, 3, 480, 640)\n",
      "\n",
      "0: 480x640 1 smoking, 73.9ms\n",
      "Speed: 2.0ms preprocess, 73.9ms inference, 1.0ms postprocess per image at shape (1, 3, 480, 640)\n",
      "\n",
      "0: 480x640 1 smoking, 72.9ms\n",
      "Speed: 1.0ms preprocess, 72.9ms inference, 1.0ms postprocess per image at shape (1, 3, 480, 640)\n",
      "\n",
      "0: 480x640 1 smoking, 73.9ms\n",
      "Speed: 3.0ms preprocess, 73.9ms inference, 1.0ms postprocess per image at shape (1, 3, 480, 640)\n",
      "\n",
      "0: 480x640 1 smoking, 71.9ms\n",
      "Speed: 2.0ms preprocess, 71.9ms inference, 1.0ms postprocess per image at shape (1, 3, 480, 640)\n",
      "\n",
      "0: 480x640 1 smoking, 78.9ms\n",
      "Speed: 2.0ms preprocess, 78.9ms inference, 2.0ms postprocess per image at shape (1, 3, 480, 640)\n",
      "\n",
      "0: 480x640 1 smoking, 83.9ms\n",
      "Speed: 2.0ms preprocess, 83.9ms inference, 2.0ms postprocess per image at shape (1, 3, 480, 640)\n",
      "\n",
      "0: 480x640 1 smoking, 70.9ms\n",
      "Speed: 2.0ms preprocess, 70.9ms inference, 2.0ms postprocess per image at shape (1, 3, 480, 640)\n",
      "\n",
      "0: 480x640 1 smoking, 69.9ms\n",
      "Speed: 2.0ms preprocess, 69.9ms inference, 2.0ms postprocess per image at shape (1, 3, 480, 640)\n",
      "\n",
      "0: 480x640 1 smoking, 81.9ms\n",
      "Speed: 2.0ms preprocess, 81.9ms inference, 2.0ms postprocess per image at shape (1, 3, 480, 640)\n",
      "\n",
      "0: 480x640 1 smoking, 76.9ms\n",
      "Speed: 2.0ms preprocess, 76.9ms inference, 1.0ms postprocess per image at shape (1, 3, 480, 640)\n",
      "\n",
      "0: 480x640 1 smoking, 83.9ms\n",
      "Speed: 2.0ms preprocess, 83.9ms inference, 1.0ms postprocess per image at shape (1, 3, 480, 640)\n",
      "\n",
      "0: 480x640 1 smoking, 120.9ms\n",
      "Speed: 2.0ms preprocess, 120.9ms inference, 1.0ms postprocess per image at shape (1, 3, 480, 640)\n",
      "\n",
      "0: 480x640 1 smoking, 95.9ms\n",
      "Speed: 2.0ms preprocess, 95.9ms inference, 1.0ms postprocess per image at shape (1, 3, 480, 640)\n",
      "\n",
      "0: 480x640 1 smoking, 74.9ms\n",
      "Speed: 2.0ms preprocess, 74.9ms inference, 1.0ms postprocess per image at shape (1, 3, 480, 640)\n",
      "\n",
      "0: 480x640 1 smoking, 78.9ms\n",
      "Speed: 2.0ms preprocess, 78.9ms inference, 2.0ms postprocess per image at shape (1, 3, 480, 640)\n",
      "\n",
      "0: 480x640 1 smoking, 76.9ms\n",
      "Speed: 2.0ms preprocess, 76.9ms inference, 1.0ms postprocess per image at shape (1, 3, 480, 640)\n",
      "\n",
      "0: 480x640 1 smoking, 76.9ms\n",
      "Speed: 2.0ms preprocess, 76.9ms inference, 1.0ms postprocess per image at shape (1, 3, 480, 640)\n",
      "\n",
      "0: 480x640 1 smoking, 70.9ms\n",
      "Speed: 2.0ms preprocess, 70.9ms inference, 2.0ms postprocess per image at shape (1, 3, 480, 640)\n",
      "\n",
      "0: 480x640 1 smoking, 76.9ms\n",
      "Speed: 2.0ms preprocess, 76.9ms inference, 1.0ms postprocess per image at shape (1, 3, 480, 640)\n",
      "\n",
      "0: 480x640 1 smoking, 84.9ms\n",
      "Speed: 2.0ms preprocess, 84.9ms inference, 1.0ms postprocess per image at shape (1, 3, 480, 640)\n",
      "\n",
      "0: 480x640 1 smoking, 79.9ms\n",
      "Speed: 3.0ms preprocess, 79.9ms inference, 2.0ms postprocess per image at shape (1, 3, 480, 640)\n",
      "\n",
      "0: 480x640 1 smoking, 70.9ms\n",
      "Speed: 2.0ms preprocess, 70.9ms inference, 2.0ms postprocess per image at shape (1, 3, 480, 640)\n",
      "\n",
      "0: 480x640 1 smoking, 71.9ms\n",
      "Speed: 2.0ms preprocess, 71.9ms inference, 1.0ms postprocess per image at shape (1, 3, 480, 640)\n",
      "\n",
      "0: 480x640 1 smoking, 71.9ms\n",
      "Speed: 2.0ms preprocess, 71.9ms inference, 1.0ms postprocess per image at shape (1, 3, 480, 640)\n",
      "\n",
      "0: 480x640 1 smoking, 74.9ms\n",
      "Speed: 1.0ms preprocess, 74.9ms inference, 2.0ms postprocess per image at shape (1, 3, 480, 640)\n",
      "\n",
      "0: 480x640 1 smoking, 70.9ms\n",
      "Speed: 2.0ms preprocess, 70.9ms inference, 2.0ms postprocess per image at shape (1, 3, 480, 640)\n",
      "\n",
      "0: 480x640 1 smoking, 71.9ms\n",
      "Speed: 2.0ms preprocess, 71.9ms inference, 1.0ms postprocess per image at shape (1, 3, 480, 640)\n",
      "\n",
      "0: 480x640 1 smoking, 75.9ms\n",
      "Speed: 3.0ms preprocess, 75.9ms inference, 2.0ms postprocess per image at shape (1, 3, 480, 640)\n",
      "\n",
      "0: 480x640 1 smoking, 72.9ms\n",
      "Speed: 1.0ms preprocess, 72.9ms inference, 2.0ms postprocess per image at shape (1, 3, 480, 640)\n",
      "\n",
      "0: 480x640 1 smoking, 72.9ms\n",
      "Speed: 2.0ms preprocess, 72.9ms inference, 2.0ms postprocess per image at shape (1, 3, 480, 640)\n",
      "\n",
      "0: 480x640 1 smoking, 77.9ms\n",
      "Speed: 2.0ms preprocess, 77.9ms inference, 1.0ms postprocess per image at shape (1, 3, 480, 640)\n",
      "\n",
      "0: 480x640 1 smoking, 72.9ms\n",
      "Speed: 2.0ms preprocess, 72.9ms inference, 1.0ms postprocess per image at shape (1, 3, 480, 640)\n",
      "\n",
      "0: 480x640 1 smoking, 72.9ms\n",
      "Speed: 1.0ms preprocess, 72.9ms inference, 1.0ms postprocess per image at shape (1, 3, 480, 640)\n",
      "\n",
      "0: 480x640 1 smoking, 86.9ms\n",
      "Speed: 2.0ms preprocess, 86.9ms inference, 2.0ms postprocess per image at shape (1, 3, 480, 640)\n",
      "\n",
      "0: 480x640 1 smoking, 102.9ms\n",
      "Speed: 3.0ms preprocess, 102.9ms inference, 2.0ms postprocess per image at shape (1, 3, 480, 640)\n",
      "\n",
      "0: 480x640 1 smoking, 75.9ms\n",
      "Speed: 2.0ms preprocess, 75.9ms inference, 1.0ms postprocess per image at shape (1, 3, 480, 640)\n",
      "\n",
      "0: 480x640 1 smoking, 75.9ms\n",
      "Speed: 2.0ms preprocess, 75.9ms inference, 1.0ms postprocess per image at shape (1, 3, 480, 640)\n",
      "\n",
      "0: 480x640 1 smoking, 70.9ms\n",
      "Speed: 2.0ms preprocess, 70.9ms inference, 1.0ms postprocess per image at shape (1, 3, 480, 640)\n",
      "\n",
      "0: 480x640 1 smoking, 72.9ms\n",
      "Speed: 2.0ms preprocess, 72.9ms inference, 2.0ms postprocess per image at shape (1, 3, 480, 640)\n",
      "\n",
      "0: 480x640 1 smoking, 71.9ms\n",
      "Speed: 1.0ms preprocess, 71.9ms inference, 1.0ms postprocess per image at shape (1, 3, 480, 640)\n",
      "\n",
      "0: 480x640 1 smoking, 72.9ms\n",
      "Speed: 2.0ms preprocess, 72.9ms inference, 2.0ms postprocess per image at shape (1, 3, 480, 640)\n",
      "\n",
      "0: 480x640 1 drinking, 76.9ms\n",
      "Speed: 2.0ms preprocess, 76.9ms inference, 1.0ms postprocess per image at shape (1, 3, 480, 640)\n",
      "\n",
      "0: 480x640 1 drinking, 75.9ms\n",
      "Speed: 2.0ms preprocess, 75.9ms inference, 1.0ms postprocess per image at shape (1, 3, 480, 640)\n",
      "\n",
      "0: 480x640 1 drinking, 89.9ms\n",
      "Speed: 2.0ms preprocess, 89.9ms inference, 2.0ms postprocess per image at shape (1, 3, 480, 640)\n",
      "\n",
      "0: 480x640 1 drinking, 77.9ms\n",
      "Speed: 2.0ms preprocess, 77.9ms inference, 2.0ms postprocess per image at shape (1, 3, 480, 640)\n",
      "\n",
      "0: 480x640 1 drinking, 70.9ms\n",
      "Speed: 2.0ms preprocess, 70.9ms inference, 1.0ms postprocess per image at shape (1, 3, 480, 640)\n",
      "\n",
      "0: 480x640 1 drinking, 77.9ms\n",
      "Speed: 1.0ms preprocess, 77.9ms inference, 2.0ms postprocess per image at shape (1, 3, 480, 640)\n",
      "\n",
      "0: 480x640 1 drinking, 76.9ms\n",
      "Speed: 2.0ms preprocess, 76.9ms inference, 2.0ms postprocess per image at shape (1, 3, 480, 640)\n",
      "\n",
      "0: 480x640 1 drinking, 80.9ms\n",
      "Speed: 1.0ms preprocess, 80.9ms inference, 2.0ms postprocess per image at shape (1, 3, 480, 640)\n",
      "\n",
      "0: 480x640 1 drinking, 111.9ms\n",
      "Speed: 3.0ms preprocess, 111.9ms inference, 1.0ms postprocess per image at shape (1, 3, 480, 640)\n",
      "\n",
      "0: 480x640 1 drinking, 113.9ms\n",
      "Speed: 3.0ms preprocess, 113.9ms inference, 2.0ms postprocess per image at shape (1, 3, 480, 640)\n",
      "\n",
      "0: 480x640 1 drinking, 110.9ms\n",
      "Speed: 2.0ms preprocess, 110.9ms inference, 1.0ms postprocess per image at shape (1, 3, 480, 640)\n",
      "\n",
      "0: 480x640 1 drinking, 88.9ms\n",
      "Speed: 2.0ms preprocess, 88.9ms inference, 2.0ms postprocess per image at shape (1, 3, 480, 640)\n",
      "\n",
      "0: 480x640 1 drinking, 84.9ms\n",
      "Speed: 2.0ms preprocess, 84.9ms inference, 2.0ms postprocess per image at shape (1, 3, 480, 640)\n",
      "\n",
      "0: 480x640 1 drinking, 73.9ms\n",
      "Speed: 1.0ms preprocess, 73.9ms inference, 1.0ms postprocess per image at shape (1, 3, 480, 640)\n",
      "\n",
      "0: 480x640 1 drinking, 81.9ms\n",
      "Speed: 2.0ms preprocess, 81.9ms inference, 2.0ms postprocess per image at shape (1, 3, 480, 640)\n",
      "\n",
      "0: 480x640 1 drinking, 86.9ms\n",
      "Speed: 2.0ms preprocess, 86.9ms inference, 1.0ms postprocess per image at shape (1, 3, 480, 640)\n",
      "\n",
      "0: 480x640 1 drinking, 82.9ms\n",
      "Speed: 2.0ms preprocess, 82.9ms inference, 1.0ms postprocess per image at shape (1, 3, 480, 640)\n",
      "\n",
      "0: 480x640 1 drinking, 78.9ms\n",
      "Speed: 2.0ms preprocess, 78.9ms inference, 2.0ms postprocess per image at shape (1, 3, 480, 640)\n",
      "\n",
      "0: 480x640 1 drinking, 71.9ms\n",
      "Speed: 2.0ms preprocess, 71.9ms inference, 1.0ms postprocess per image at shape (1, 3, 480, 640)\n",
      "\n",
      "0: 480x640 1 drinking, 70.9ms\n",
      "Speed: 2.0ms preprocess, 70.9ms inference, 2.0ms postprocess per image at shape (1, 3, 480, 640)\n",
      "\n",
      "0: 480x640 1 drinking, 71.9ms\n",
      "Speed: 1.0ms preprocess, 71.9ms inference, 1.0ms postprocess per image at shape (1, 3, 480, 640)\n",
      "\n",
      "0: 480x640 1 drinking, 71.9ms\n",
      "Speed: 2.0ms preprocess, 71.9ms inference, 1.0ms postprocess per image at shape (1, 3, 480, 640)\n",
      "\n",
      "0: 480x640 1 drinking, 73.9ms\n",
      "Speed: 2.0ms preprocess, 73.9ms inference, 1.0ms postprocess per image at shape (1, 3, 480, 640)\n",
      "\n",
      "0: 480x640 1 drinking, 131.9ms\n",
      "Speed: 2.0ms preprocess, 131.9ms inference, 2.0ms postprocess per image at shape (1, 3, 480, 640)\n",
      "\n",
      "0: 480x640 1 drinking, 81.9ms\n",
      "Speed: 2.0ms preprocess, 81.9ms inference, 1.0ms postprocess per image at shape (1, 3, 480, 640)\n",
      "\n",
      "0: 480x640 1 drinking, 70.9ms\n",
      "Speed: 2.0ms preprocess, 70.9ms inference, 1.0ms postprocess per image at shape (1, 3, 480, 640)\n",
      "\n",
      "0: 480x640 1 drinking, 79.9ms\n",
      "Speed: 2.0ms preprocess, 79.9ms inference, 1.0ms postprocess per image at shape (1, 3, 480, 640)\n",
      "\n",
      "0: 480x640 1 drinking, 77.9ms\n",
      "Speed: 2.0ms preprocess, 77.9ms inference, 2.0ms postprocess per image at shape (1, 3, 480, 640)\n",
      "\n",
      "0: 480x640 1 drinking, 73.9ms\n",
      "Speed: 2.0ms preprocess, 73.9ms inference, 1.0ms postprocess per image at shape (1, 3, 480, 640)\n",
      "\n",
      "0: 480x640 1 drinking, 78.9ms\n",
      "Speed: 2.0ms preprocess, 78.9ms inference, 1.0ms postprocess per image at shape (1, 3, 480, 640)\n",
      "\n",
      "0: 480x640 1 drinking, 81.9ms\n",
      "Speed: 2.0ms preprocess, 81.9ms inference, 1.0ms postprocess per image at shape (1, 3, 480, 640)\n",
      "\n",
      "0: 480x640 1 drinking, 72.9ms\n",
      "Speed: 2.0ms preprocess, 72.9ms inference, 1.0ms postprocess per image at shape (1, 3, 480, 640)\n",
      "\n",
      "0: 480x640 1 drinking, 75.9ms\n",
      "Speed: 1.0ms preprocess, 75.9ms inference, 1.0ms postprocess per image at shape (1, 3, 480, 640)\n",
      "\n",
      "0: 480x640 1 drinking, 77.9ms\n",
      "Speed: 2.0ms preprocess, 77.9ms inference, 1.0ms postprocess per image at shape (1, 3, 480, 640)\n",
      "\n",
      "0: 480x640 1 drinking, 73.9ms\n",
      "Speed: 2.0ms preprocess, 73.9ms inference, 3.0ms postprocess per image at shape (1, 3, 480, 640)\n",
      "\n",
      "0: 480x640 1 drinking, 71.9ms\n",
      "Speed: 2.0ms preprocess, 71.9ms inference, 2.0ms postprocess per image at shape (1, 3, 480, 640)\n",
      "\n",
      "0: 480x640 1 drinking, 84.9ms\n",
      "Speed: 1.0ms preprocess, 84.9ms inference, 1.0ms postprocess per image at shape (1, 3, 480, 640)\n",
      "\n",
      "0: 480x640 1 drinking, 88.9ms\n",
      "Speed: 2.0ms preprocess, 88.9ms inference, 2.0ms postprocess per image at shape (1, 3, 480, 640)\n",
      "\n",
      "0: 480x640 1 drinking, 77.9ms\n",
      "Speed: 2.0ms preprocess, 77.9ms inference, 2.0ms postprocess per image at shape (1, 3, 480, 640)\n",
      "\n",
      "0: 480x640 1 drinking, 96.9ms\n",
      "Speed: 1.0ms preprocess, 96.9ms inference, 2.0ms postprocess per image at shape (1, 3, 480, 640)\n",
      "\n",
      "0: 480x640 1 drinking, 73.9ms\n",
      "Speed: 2.0ms preprocess, 73.9ms inference, 2.0ms postprocess per image at shape (1, 3, 480, 640)\n",
      "\n",
      "0: 480x640 1 drinking, 76.9ms\n",
      "Speed: 2.0ms preprocess, 76.9ms inference, 2.0ms postprocess per image at shape (1, 3, 480, 640)\n",
      "\n",
      "0: 480x640 1 drinking, 70.9ms\n",
      "Speed: 2.0ms preprocess, 70.9ms inference, 1.0ms postprocess per image at shape (1, 3, 480, 640)\n",
      "\n",
      "0: 480x640 1 drinking, 73.9ms\n",
      "Speed: 2.0ms preprocess, 73.9ms inference, 1.0ms postprocess per image at shape (1, 3, 480, 640)\n",
      "\n",
      "0: 480x640 1 drinking, 70.9ms\n",
      "Speed: 2.0ms preprocess, 70.9ms inference, 1.0ms postprocess per image at shape (1, 3, 480, 640)\n",
      "\n",
      "0: 480x640 1 drinking, 78.9ms\n",
      "Speed: 2.0ms preprocess, 78.9ms inference, 1.0ms postprocess per image at shape (1, 3, 480, 640)\n",
      "\n",
      "0: 480x640 1 drinking, 70.9ms\n",
      "Speed: 2.0ms preprocess, 70.9ms inference, 1.0ms postprocess per image at shape (1, 3, 480, 640)\n",
      "\n",
      "0: 480x640 1 drinking, 71.9ms\n",
      "Speed: 2.0ms preprocess, 71.9ms inference, 2.0ms postprocess per image at shape (1, 3, 480, 640)\n",
      "\n",
      "0: 480x640 1 drinking, 75.9ms\n",
      "Speed: 2.0ms preprocess, 75.9ms inference, 1.0ms postprocess per image at shape (1, 3, 480, 640)\n",
      "\n",
      "0: 480x640 1 drinking, 77.9ms\n",
      "Speed: 1.0ms preprocess, 77.9ms inference, 1.0ms postprocess per image at shape (1, 3, 480, 640)\n",
      "\n",
      "0: 480x640 1 drinking, 81.9ms\n",
      "Speed: 1.0ms preprocess, 81.9ms inference, 2.0ms postprocess per image at shape (1, 3, 480, 640)\n",
      "\n",
      "0: 480x640 1 drinking, 70.9ms\n",
      "Speed: 2.0ms preprocess, 70.9ms inference, 1.0ms postprocess per image at shape (1, 3, 480, 640)\n",
      "\n",
      "0: 480x640 1 drinking, 69.9ms\n",
      "Speed: 2.0ms preprocess, 69.9ms inference, 2.0ms postprocess per image at shape (1, 3, 480, 640)\n",
      "\n",
      "0: 480x640 1 drinking, 70.9ms\n",
      "Speed: 2.0ms preprocess, 70.9ms inference, 1.0ms postprocess per image at shape (1, 3, 480, 640)\n",
      "\n",
      "0: 480x640 1 drinking, 83.9ms\n",
      "Speed: 2.0ms preprocess, 83.9ms inference, 2.0ms postprocess per image at shape (1, 3, 480, 640)\n",
      "\n",
      "0: 480x640 1 drinking, 104.9ms\n",
      "Speed: 2.0ms preprocess, 104.9ms inference, 1.0ms postprocess per image at shape (1, 3, 480, 640)\n",
      "\n",
      "0: 480x640 1 drinking, 70.9ms\n",
      "Speed: 2.0ms preprocess, 70.9ms inference, 1.0ms postprocess per image at shape (1, 3, 480, 640)\n",
      "\n",
      "0: 480x640 1 drinking, 70.9ms\n",
      "Speed: 2.0ms preprocess, 70.9ms inference, 2.0ms postprocess per image at shape (1, 3, 480, 640)\n",
      "\n",
      "0: 480x640 1 drinking, 70.9ms\n",
      "Speed: 2.0ms preprocess, 70.9ms inference, 2.0ms postprocess per image at shape (1, 3, 480, 640)\n",
      "\n",
      "0: 480x640 1 drinking, 74.9ms\n",
      "Speed: 2.0ms preprocess, 74.9ms inference, 1.0ms postprocess per image at shape (1, 3, 480, 640)\n",
      "\n",
      "0: 480x640 1 drinking, 71.9ms\n",
      "Speed: 2.0ms preprocess, 71.9ms inference, 1.0ms postprocess per image at shape (1, 3, 480, 640)\n",
      "\n",
      "0: 480x640 1 drinking, 70.9ms\n",
      "Speed: 2.0ms preprocess, 70.9ms inference, 1.0ms postprocess per image at shape (1, 3, 480, 640)\n",
      "\n",
      "0: 480x640 1 drinking, 82.9ms\n",
      "Speed: 2.0ms preprocess, 82.9ms inference, 1.0ms postprocess per image at shape (1, 3, 480, 640)\n",
      "\n",
      "0: 480x640 1 drinking, 72.9ms\n",
      "Speed: 2.0ms preprocess, 72.9ms inference, 1.0ms postprocess per image at shape (1, 3, 480, 640)\n",
      "\n",
      "0: 480x640 1 drinking, 76.9ms\n",
      "Speed: 2.0ms preprocess, 76.9ms inference, 1.0ms postprocess per image at shape (1, 3, 480, 640)\n",
      "\n",
      "0: 480x640 1 drinking, 117.9ms\n",
      "Speed: 2.0ms preprocess, 117.9ms inference, 2.0ms postprocess per image at shape (1, 3, 480, 640)\n",
      "\n",
      "0: 480x640 1 drinking, 94.9ms\n",
      "Speed: 2.0ms preprocess, 94.9ms inference, 1.0ms postprocess per image at shape (1, 3, 480, 640)\n",
      "\n",
      "0: 480x640 1 drinking, 82.9ms\n",
      "Speed: 2.0ms preprocess, 82.9ms inference, 1.0ms postprocess per image at shape (1, 3, 480, 640)\n",
      "\n",
      "0: 480x640 1 drinking, 72.9ms\n",
      "Speed: 2.0ms preprocess, 72.9ms inference, 2.0ms postprocess per image at shape (1, 3, 480, 640)\n",
      "\n",
      "0: 480x640 1 drinking, 70.9ms\n",
      "Speed: 2.0ms preprocess, 70.9ms inference, 1.0ms postprocess per image at shape (1, 3, 480, 640)\n",
      "\n",
      "0: 480x640 1 drinking, 70.9ms\n",
      "Speed: 2.0ms preprocess, 70.9ms inference, 1.0ms postprocess per image at shape (1, 3, 480, 640)\n",
      "\n",
      "0: 480x640 1 drinking, 72.9ms\n",
      "Speed: 2.0ms preprocess, 72.9ms inference, 1.0ms postprocess per image at shape (1, 3, 480, 640)\n",
      "\n",
      "0: 480x640 1 drinking, 76.9ms\n",
      "Speed: 2.0ms preprocess, 76.9ms inference, 1.0ms postprocess per image at shape (1, 3, 480, 640)\n",
      "\n",
      "0: 480x640 1 drinking, 71.9ms\n",
      "Speed: 2.0ms preprocess, 71.9ms inference, 1.0ms postprocess per image at shape (1, 3, 480, 640)\n",
      "\n",
      "0: 480x640 1 drinking, 73.9ms\n",
      "Speed: 3.0ms preprocess, 73.9ms inference, 1.0ms postprocess per image at shape (1, 3, 480, 640)\n",
      "\n",
      "0: 480x640 1 drinking, 73.9ms\n",
      "Speed: 2.0ms preprocess, 73.9ms inference, 1.0ms postprocess per image at shape (1, 3, 480, 640)\n",
      "\n",
      "0: 480x640 1 drinking, 75.9ms\n",
      "Speed: 2.0ms preprocess, 75.9ms inference, 1.0ms postprocess per image at shape (1, 3, 480, 640)\n",
      "\n",
      "0: 480x640 1 drinking, 131.9ms\n",
      "Speed: 2.0ms preprocess, 131.9ms inference, 1.0ms postprocess per image at shape (1, 3, 480, 640)\n",
      "\n",
      "0: 480x640 1 drinking, 110.9ms\n",
      "Speed: 2.0ms preprocess, 110.9ms inference, 2.0ms postprocess per image at shape (1, 3, 480, 640)\n",
      "\n",
      "0: 480x640 1 drinking, 85.9ms\n",
      "Speed: 2.0ms preprocess, 85.9ms inference, 1.0ms postprocess per image at shape (1, 3, 480, 640)\n",
      "\n",
      "0: 480x640 1 drinking, 70.9ms\n",
      "Speed: 2.0ms preprocess, 70.9ms inference, 1.0ms postprocess per image at shape (1, 3, 480, 640)\n"
     ]
    }
   ],
   "source": [
    "import cv2\n",
    "import numpy as np\n",
    "from ultralytics import YOLO\n",
    "import os\n",
    "\n",
    "def apply_advanced_mosaic(image, box, intensity_level=3):\n",
    "    \"\"\"\n",
    "    강도 레벨별 모자이크 효과를 적용하는 함수\n",
    "    intensity_level: 1-5 (1: 가장 약한 모자이크, 5: 가장 강한 모자이크)\n",
    "    \"\"\"\n",
    "    x1, y1, x2, y2 = map(int, box)\n",
    "    roi = image[y1:y2, x1:x2].copy()\n",
    "    \n",
    "    # 강도 레벨에 따른 픽셀 크기 계산\n",
    "    # 강도가 높을수록 픽셀 크기가 커짐\n",
    "    pixel_sizes = {\n",
    "        1: 15,    # 매우 약한 모자이크\n",
    "        2: 25,   # 약한 모자이크\n",
    "        3: 35,   # 중간 모자이크\n",
    "        4: 45,   # 강한 모자이크\n",
    "        5: 65    # 매우 강한 모자이크\n",
    "    }\n",
    "    \n",
    "    pixel_size = pixel_sizes.get(intensity_level, 15)  # 기본값은 중간 강도\n",
    "    \n",
    "    h, w = roi.shape[:2]\n",
    "    \n",
    "    # 세로, 가로 블록 수 계산\n",
    "    v_blocks = h // pixel_size\n",
    "    h_blocks = w // pixel_size\n",
    "    \n",
    "    # 각 블록별로 평균값 계산하여 모자이크 적용\n",
    "    for i in range(v_blocks):\n",
    "        for j in range(h_blocks):\n",
    "            # 현재 블록의 영역 계산\n",
    "            y_start = i * pixel_size\n",
    "            y_end = min((i + 1) * pixel_size, h)\n",
    "            x_start = j * pixel_size\n",
    "            x_end = min((j + 1) * pixel_size, w)\n",
    "            \n",
    "            # 블록 내의 평균 색상 계산\n",
    "            block = roi[y_start:y_end, x_start:x_end]\n",
    "            color = np.mean(block, axis=(0, 1))\n",
    "            \n",
    "            # 평균 색상으로 블록 채우기\n",
    "            roi[y_start:y_end, x_start:x_end] = color\n",
    "    \n",
    "    # 남은 가장자리 처리\n",
    "    if h % pixel_size != 0:\n",
    "        for j in range(h_blocks):\n",
    "            y_start = v_blocks * pixel_size\n",
    "            x_start = j * pixel_size\n",
    "            x_end = min((j + 1) * pixel_size, w)\n",
    "            block = roi[y_start:, x_start:x_end]\n",
    "            if block.size > 0:\n",
    "                color = np.mean(block, axis=(0, 1))\n",
    "                roi[y_start:, x_start:x_end] = color\n",
    "    \n",
    "    if w % pixel_size != 0:\n",
    "        for i in range(v_blocks):\n",
    "            y_start = i * pixel_size\n",
    "            y_end = min((i + 1) * pixel_size, h)\n",
    "            x_start = h_blocks * pixel_size\n",
    "            block = roi[y_start:y_end, x_start:]\n",
    "            if block.size > 0:\n",
    "                color = np.mean(block, axis=(0, 1))\n",
    "                roi[y_start:y_end, x_start:] = color\n",
    "    \n",
    "    # 결과 적용\n",
    "    image[y1:y2, x1:x2] = roi\n",
    "    return image\n",
    "\n",
    "def detect_and_mosaic(model_path, video_source, output_path, mosaic_intensity=3):\n",
    "    \"\"\"\n",
    "    동영상에서 객체를 감지하고 모자이크 처리하여 출력 동영상 파일로 저장\n",
    "    \n",
    "    Parameters:\n",
    "    model_path (str): 학습된 YOLO 모델 파일 경로\n",
    "    video_source (str): 입력 동영상 파일 경로 또는 0 (웹캠)\n",
    "    output_path (str): 처리된 동영상 출력 파일 경로\n",
    "    mosaic_intensity (int, optional): 모자이크 강도 (1-5)\n",
    "    \"\"\"\n",
    "    # YOLO 모델 로드\n",
    "    model = YOLO(model_path)\n",
    "    \n",
    "    # 입력 동영상 캡처\n",
    "    cap = cv2.VideoCapture(video_source)\n",
    "    \n",
    "    # 출력 동영상 설정\n",
    "    width = int(cap.get(cv2.CAP_PROP_FRAME_WIDTH))\n",
    "    height = int(cap.get(cv2.CAP_PROP_FRAME_HEIGHT))\n",
    "    fps = int(cap.get(cv2.CAP_PROP_FPS))\n",
    "    \n",
    "    out = cv2.VideoWriter(\n",
    "        output_path,\n",
    "        cv2.VideoWriter_fourcc(*'mp4v'),\n",
    "        fps,\n",
    "        (width, height)\n",
    "    )\n",
    "    \n",
    "    while cap.isOpened():\n",
    "        success, frame = cap.read()\n",
    "        if not success:\n",
    "            break\n",
    "            \n",
    "        # YOLO로 객체 감지\n",
    "        results = model(frame)\n",
    "        \n",
    "        # 탐지된 객체에 모자이크 적용\n",
    "        for result in results:\n",
    "            boxes = result.boxes.xyxy.cpu().numpy()\n",
    "            for box in boxes:\n",
    "                frame = apply_advanced_mosaic(frame, box, mosaic_intensity)\n",
    "        \n",
    "        # 처리된 프레임을 출력 동영상에 저장\n",
    "        out.write(frame)\n",
    "    \n",
    "    # 리소스 해제\n",
    "    cap.release()\n",
    "    out.release()\n",
    "\n",
    "if __name__ == \"__main__\":\n",
    "    # 학습된 YOLO 모델 경로\n",
    "    model_path = \"yolo_model.pt\"\n",
    "    \n",
    "    # 입력 동영상 경로\n",
    "    video_source = \"cho_smoking.mp4\"\n",
    "    \n",
    "    # 출력 동영상 경로\n",
    "    output_path = \"cho_smoking_output01.mp4\"\n",
    "    \n",
    "    # 모자이크 강도 (1-5)\n",
    "    mosaic_intensity = 3\n",
    "    \n",
    "    detect_and_mosaic(model_path, video_source, output_path, mosaic_intensity)"
   ]
  },
  {
   "cell_type": "code",
   "execution_count": null,
   "id": "8c8c3638-d27a-4765-b95b-7d1a698948fa",
   "metadata": {},
   "outputs": [],
   "source": []
  }
 ],
 "metadata": {
  "kernelspec": {
   "display_name": "Python 3 (ipykernel)",
   "language": "python",
   "name": "python3"
  },
  "language_info": {
   "codemirror_mode": {
    "name": "ipython",
    "version": 3
   },
   "file_extension": ".py",
   "mimetype": "text/x-python",
   "name": "python",
   "nbconvert_exporter": "python",
   "pygments_lexer": "ipython3",
   "version": "3.12.4"
  }
 },
 "nbformat": 4,
 "nbformat_minor": 5
}
